{
 "cells": [
  {
   "cell_type": "code",
   "execution_count": 1,
   "id": "9d746727",
   "metadata": {},
   "outputs": [
    {
     "name": "stdout",
     "output_type": "stream",
     "text": [
      "[[0.73445126 0.82364979 0.77503994 0.75916622 0.36267637]\n",
      " [0.7883928  0.22855838 0.93871102 0.28910796 0.82048963]\n",
      " [0.11121096 0.40259543 0.75601581 0.773596   0.66251312]\n",
      " [0.54465372 0.64278988 0.11122945 0.3155275  0.93419421]\n",
      " [0.69108575 0.60972629 0.07119279 0.18713058 0.49172764]]\n"
     ]
    }
   ],
   "source": [
    "import numpy as np\n",
    "# when i am writing this code i get the below error. Why am i getting this error.\n",
    "rand_mat=np.random.rand(5,5)\n",
    "print(rand_mat)"
   ]
  },
  {
   "cell_type": "code",
   "execution_count": 6,
   "id": "014c5e78",
   "metadata": {},
   "outputs": [
    {
     "name": "stdout",
     "output_type": "stream",
     "text": [
      "[23, 34, 22]\n",
      "[23, 34, 22]\n"
     ]
    }
   ],
   "source": [
    "def addtwo(x):\n",
    "    return x + 2\n",
    "nums = [21,32,20]\n",
    "print(list(map(lambda x: x + 2,nums)))\n",
    "print(list(map(addtwo,nums)))"
   ]
  },
  {
   "cell_type": "code",
   "execution_count": 14,
   "id": "1a4de11a",
   "metadata": {},
   "outputs": [
    {
     "name": "stdout",
     "output_type": "stream",
     "text": [
      "['Hello', 'world', 'in', 'Python', 'Rust', 'C#']\n"
     ]
    }
   ],
   "source": [
    "from itertools import chain\n",
    "\n",
    "def flat_map(func, iterable):\n",
    "    \"\"\"Function to perform flatMap operation on an iterable using a given function.\"\"\"\n",
    "    return list(chain.from_iterable(map(func, iterable)))\n",
    "\n",
    "# Example usage\n",
    "words = ['Hello', 'world', 'in', 'Python Rust C#']\n",
    "result = flat_map(lambda x: x.split(), words)\n",
    "print(result)  # Output: ['Hello', 'world', 'in', 'Python']\n"
   ]
  },
  {
   "cell_type": "code",
   "execution_count": 16,
   "id": "6767ce73",
   "metadata": {},
   "outputs": [
    {
     "name": "stdout",
     "output_type": "stream",
     "text": [
      "[1, 2, 3, 4, 5, 6, 33, 4, 3]\n"
     ]
    }
   ],
   "source": [
    "def flat_map_list(lst):\n",
    "    \"\"\"Function to flat map a list of lists.\"\"\"\n",
    "    result = []\n",
    "    for item in lst:\n",
    "        if isinstance(item, list):\n",
    "            result.extend(item)\n",
    "        else:\n",
    "            result.append(item)\n",
    "    return result\n",
    "\n",
    "# Example usage\n",
    "my_list = [1, 2, 3, [4, 5, 6], [33, 4], 3]\n",
    "result = flat_map_list(my_list)\n",
    "print(result)  # Output: [1, 2, 3, 4, 5, 6, 33, 4, 3]\n"
   ]
  },
  {
   "cell_type": "code",
   "execution_count": null,
   "id": "d33a7dc1",
   "metadata": {},
   "outputs": [],
   "source": []
  },
  {
   "cell_type": "code",
   "execution_count": 20,
   "id": "60b780ef",
   "metadata": {},
   "outputs": [
    {
     "name": "stdout",
     "output_type": "stream",
     "text": [
      "(-50, 5.6)\n"
     ]
    }
   ],
   "source": [
    "X=(20,23,-50,5.6,98)\n",
    "print(X[2:-1])"
   ]
  },
  {
   "cell_type": "markdown",
   "id": "8a02a185",
   "metadata": {},
   "source": [
    "# Dict"
   ]
  },
  {
   "cell_type": "code",
   "execution_count": 25,
   "id": "be7d5b0a",
   "metadata": {},
   "outputs": [],
   "source": [
    "stocks = {\"msft\": [1,2,3,4],\"ibm\": [43,453,53,]}"
   ]
  },
  {
   "cell_type": "code",
   "execution_count": 27,
   "id": "3edbdf2b",
   "metadata": {},
   "outputs": [
    {
     "data": {
      "text/plain": [
       "dict_keys(['msft', 'ibm'])"
      ]
     },
     "execution_count": 27,
     "metadata": {},
     "output_type": "execute_result"
    }
   ],
   "source": [
    "stocks.keys()"
   ]
  },
  {
   "cell_type": "code",
   "execution_count": 26,
   "id": "de958b88",
   "metadata": {},
   "outputs": [
    {
     "data": {
      "text/plain": [
       "dict_values([[1, 2, 3, 4], [43, 453, 53]])"
      ]
     },
     "execution_count": 26,
     "metadata": {},
     "output_type": "execute_result"
    }
   ],
   "source": [
    "stocks.values()"
   ]
  },
  {
   "cell_type": "code",
   "execution_count": 30,
   "id": "4c68ecac",
   "metadata": {},
   "outputs": [
    {
     "data": {
      "text/plain": [
       "[1, 2]"
      ]
     },
     "execution_count": 30,
     "metadata": {},
     "output_type": "execute_result"
    }
   ],
   "source": [
    "stocks[\"msft\"][:2]"
   ]
  },
  {
   "cell_type": "code",
   "execution_count": 31,
   "id": "4ffbea0a",
   "metadata": {},
   "outputs": [
    {
     "data": {
      "text/plain": [
       "[1, 2, 3]"
      ]
     },
     "execution_count": 31,
     "metadata": {},
     "output_type": "execute_result"
    }
   ],
   "source": [
    "stocks[\"msft\"][:-1]"
   ]
  },
  {
   "cell_type": "code",
   "execution_count": 33,
   "id": "3b29968a",
   "metadata": {},
   "outputs": [
    {
     "data": {
      "text/plain": [
       "[43, 453, 53]"
      ]
     },
     "execution_count": 33,
     "metadata": {},
     "output_type": "execute_result"
    }
   ],
   "source": [
    "stocks.pop(\"ibm\")"
   ]
  },
  {
   "cell_type": "code",
   "execution_count": 34,
   "id": "e1d011c5",
   "metadata": {},
   "outputs": [
    {
     "data": {
      "text/plain": [
       "{'msft': [1, 2, 3, 4]}"
      ]
     },
     "execution_count": 34,
     "metadata": {},
     "output_type": "execute_result"
    }
   ],
   "source": [
    "stocks"
   ]
  },
  {
   "cell_type": "code",
   "execution_count": 42,
   "id": "f98f004c",
   "metadata": {},
   "outputs": [
    {
     "name": "stdout",
     "output_type": "stream",
     "text": [
      "x\n"
     ]
    }
   ],
   "source": [
    "i = 10\n",
    "if i > 10:\n",
    "    print(\"x\")\n",
    "elif i > 5:\n",
    "    print(\"x\")"
   ]
  },
  {
   "cell_type": "code",
   "execution_count": 44,
   "id": "fc068a40",
   "metadata": {},
   "outputs": [
    {
     "name": "stdout",
     "output_type": "stream",
     "text": [
      "hello\n"
     ]
    }
   ],
   "source": [
    "a = b = True\n",
    "if (a == b):\n",
    "    print(\"hello\")\n",
    "else:\n",
    "    print(\"Well Done\")"
   ]
  },
  {
   "cell_type": "code",
   "execution_count": 46,
   "id": "edf6297b",
   "metadata": {},
   "outputs": [
    {
     "data": {
      "text/plain": [
       "[1, 5, 9]"
      ]
     },
     "execution_count": 46,
     "metadata": {},
     "output_type": "execute_result"
    }
   ],
   "source": [
    "list(range(1,10,4))"
   ]
  },
  {
   "cell_type": "code",
   "execution_count": 47,
   "id": "7de6b873",
   "metadata": {},
   "outputs": [
    {
     "data": {
      "text/plain": [
       "[1, 2, 3, 4, 5, 6, 7, 8, 9]"
      ]
     },
     "execution_count": 47,
     "metadata": {},
     "output_type": "execute_result"
    }
   ],
   "source": [
    "list(range(1,10,1))"
   ]
  },
  {
   "cell_type": "code",
   "execution_count": 48,
   "id": "07f93a44",
   "metadata": {},
   "outputs": [
    {
     "data": {
      "text/plain": [
       "[1, 3, 5, 7, 9]"
      ]
     },
     "execution_count": 48,
     "metadata": {},
     "output_type": "execute_result"
    }
   ],
   "source": [
    "list(range(1,10,2))"
   ]
  },
  {
   "cell_type": "code",
   "execution_count": 49,
   "id": "fdfab058",
   "metadata": {},
   "outputs": [
    {
     "data": {
      "text/plain": [
       "[]"
      ]
     },
     "execution_count": 49,
     "metadata": {},
     "output_type": "execute_result"
    }
   ],
   "source": [
    "list(range(1,10,-4))"
   ]
  },
  {
   "cell_type": "code",
   "execution_count": 50,
   "id": "6666a2ea",
   "metadata": {},
   "outputs": [
    {
     "data": {
      "text/plain": [
       "[-10, -6, -2, 2, 6]"
      ]
     },
     "execution_count": 50,
     "metadata": {},
     "output_type": "execute_result"
    }
   ],
   "source": [
    "list(range(-10,10,4))"
   ]
  },
  {
   "cell_type": "code",
   "execution_count": 51,
   "id": "05f04eb3",
   "metadata": {},
   "outputs": [
    {
     "data": {
      "text/plain": [
       "[]"
      ]
     },
     "execution_count": 51,
     "metadata": {},
     "output_type": "execute_result"
    }
   ],
   "source": [
    "list(range(-10,10,-4))"
   ]
  },
  {
   "cell_type": "code",
   "execution_count": 52,
   "id": "b8a93029",
   "metadata": {},
   "outputs": [
    {
     "name": "stdout",
     "output_type": "stream",
     "text": [
      "range(0, 5)\n"
     ]
    }
   ],
   "source": [
    "print(range(5))"
   ]
  },
  {
   "cell_type": "code",
   "execution_count": 54,
   "id": "f05cd90f",
   "metadata": {},
   "outputs": [
    {
     "name": "stdout",
     "output_type": "stream",
     "text": [
      "1\n",
      "2\n",
      "3\n",
      "4\n",
      "5\n"
     ]
    }
   ],
   "source": [
    "x = [1, 2, 3, 4, 5]\n",
    "while x:\n",
    "    print(x.pop(0))"
   ]
  },
  {
   "cell_type": "code",
   "execution_count": 56,
   "id": "c8ef95c8",
   "metadata": {},
   "outputs": [
    {
     "data": {
      "text/plain": [
       "'11'"
      ]
     },
     "execution_count": 56,
     "metadata": {},
     "output_type": "execute_result"
    }
   ],
   "source": [
    "\"1\" + str(1)"
   ]
  },
  {
   "cell_type": "code",
   "execution_count": 57,
   "id": "c491ede3",
   "metadata": {},
   "outputs": [
    {
     "data": {
      "text/plain": [
       "float"
      ]
     },
     "execution_count": 57,
     "metadata": {},
     "output_type": "execute_result"
    }
   ],
   "source": [
    "a = 10\n",
    "b = 5.1\n",
    "add = a + b\n",
    "type(add)"
   ]
  },
  {
   "cell_type": "code",
   "execution_count": 58,
   "id": "d9e2f88a",
   "metadata": {},
   "outputs": [
    {
     "data": {
      "text/plain": [
       "True"
      ]
     },
     "execution_count": 58,
     "metadata": {},
     "output_type": "execute_result"
    }
   ],
   "source": [
    "5 == (3 + 2)"
   ]
  },
  {
   "cell_type": "code",
   "execution_count": 59,
   "id": "0e12a94a",
   "metadata": {},
   "outputs": [
    {
     "name": "stdout",
     "output_type": "stream",
     "text": [
      "36\n"
     ]
    }
   ],
   "source": [
    "a = 3\n",
    "print(a + (33))"
   ]
  },
  {
   "cell_type": "code",
   "execution_count": 60,
   "id": "f4a6e8bf",
   "metadata": {},
   "outputs": [
    {
     "data": {
      "text/plain": [
       "3"
      ]
     },
     "execution_count": 60,
     "metadata": {},
     "output_type": "execute_result"
    }
   ],
   "source": [
    "a = 3.5\n",
    "int(a)"
   ]
  },
  {
   "cell_type": "code",
   "execution_count": 61,
   "id": "c097d151",
   "metadata": {},
   "outputs": [
    {
     "ename": "ValueError",
     "evalue": "invalid literal for int() with base 10: '5a'",
     "output_type": "error",
     "traceback": [
      "\u001b[1;31m---------------------------------------------------------------------------\u001b[0m",
      "\u001b[1;31mValueError\u001b[0m                                Traceback (most recent call last)",
      "\u001b[1;32mc:\\temp\\ipykernel_69660\\3366095359.py\u001b[0m in \u001b[0;36m<module>\u001b[1;34m\u001b[0m\n\u001b[0;32m      1\u001b[0m \u001b[0ma\u001b[0m \u001b[1;33m=\u001b[0m \u001b[1;34m'5a'\u001b[0m\u001b[1;33m\u001b[0m\u001b[1;33m\u001b[0m\u001b[0m\n\u001b[1;32m----> 2\u001b[1;33m \u001b[0mint\u001b[0m\u001b[1;33m(\u001b[0m\u001b[0ma\u001b[0m\u001b[1;33m)\u001b[0m\u001b[1;33m\u001b[0m\u001b[1;33m\u001b[0m\u001b[0m\n\u001b[0m",
      "\u001b[1;31mValueError\u001b[0m: invalid literal for int() with base 10: '5a'"
     ]
    }
   ],
   "source": [
    "a = '5a'\n",
    "int(a)"
   ]
  },
  {
   "cell_type": "code",
   "execution_count": 62,
   "id": "313469ce",
   "metadata": {},
   "outputs": [
    {
     "name": "stdout",
     "output_type": "stream",
     "text": [
      "Area of triangle: 25.0\n"
     ]
    }
   ],
   "source": [
    "area = 0.5 * 10 * 5 \n",
    "print(\"Area of triangle:\", area)"
   ]
  },
  {
   "cell_type": "code",
   "execution_count": 63,
   "id": "791b96e8",
   "metadata": {},
   "outputs": [],
   "source": [
    "v = 10\n",
    "w = 25\n",
    "x = 70\n",
    "y = 2\n",
    "z = (v + w) * (x / y)"
   ]
  },
  {
   "cell_type": "code",
   "execution_count": 64,
   "id": "1eb31337",
   "metadata": {},
   "outputs": [
    {
     "data": {
      "text/plain": [
       "1225.0"
      ]
     },
     "execution_count": 64,
     "metadata": {},
     "output_type": "execute_result"
    }
   ],
   "source": [
    "z"
   ]
  },
  {
   "cell_type": "code",
   "execution_count": 82,
   "id": "83a312f2",
   "metadata": {},
   "outputs": [
    {
     "name": "stdout",
     "output_type": "stream",
     "text": [
      "A and B before swapping 10,5\n",
      "A and B after swapping 5,10\n"
     ]
    }
   ],
   "source": [
    "a = 10 \n",
    "b = 5\n",
    "print(\"A and B before swapping {},{}\".format(a,b))\n",
    "temp = a #create a third variable and assign the value of a to it\n",
    "#write the missing code(code missing here)\n",
    "a = b\n",
    "b = temp #value of a is in third variable so assign the value to b\n",
    "print(\"A and B after swapping {},{}\".format(a,b))"
   ]
  },
  {
   "cell_type": "code",
   "execution_count": 83,
   "id": "d55f8f5b",
   "metadata": {},
   "outputs": [],
   "source": [
    "temp = b"
   ]
  },
  {
   "cell_type": "code",
   "execution_count": 81,
   "id": "fbcb9c48",
   "metadata": {},
   "outputs": [
    {
     "data": {
      "text/plain": [
       "(10, 10)"
      ]
     },
     "execution_count": 81,
     "metadata": {},
     "output_type": "execute_result"
    }
   ],
   "source": [
    "a,b"
   ]
  },
  {
   "cell_type": "code",
   "execution_count": 84,
   "id": "bbf05a93",
   "metadata": {},
   "outputs": [
    {
     "name": "stdout",
     "output_type": "stream",
     "text": [
      "[2, 2, 2, 2]\n"
     ]
    }
   ],
   "source": [
    "repeated_list = [2] * 4\n",
    "print(repeated_list)"
   ]
  },
  {
   "cell_type": "code",
   "execution_count": 85,
   "id": "6329428e",
   "metadata": {},
   "outputs": [
    {
     "name": "stdout",
     "output_type": "stream",
     "text": [
      "a\n",
      "b\n",
      "c\n"
     ]
    }
   ],
   "source": [
    "alphabet = ['a','b','c']\n",
    "for i in alphabet:\n",
    "    print(i)"
   ]
  },
  {
   "cell_type": "code",
   "execution_count": 87,
   "id": "728c7e03",
   "metadata": {},
   "outputs": [
    {
     "name": "stdout",
     "output_type": "stream",
     "text": [
      "1\n",
      "144\n",
      "576\n",
      "1296\n",
      "121\n",
      "400\n",
      "2500\n"
     ]
    }
   ],
   "source": [
    "number = [1, 12, 24, 36, 11, 20,50]\n",
    "for i in number:\n",
    " sq = i * i\n",
    " print(sq)"
   ]
  },
  {
   "cell_type": "code",
   "execution_count": 89,
   "id": "0ab24dab",
   "metadata": {},
   "outputs": [
    {
     "data": {
      "text/plain": [
       "'yellow'"
      ]
     },
     "execution_count": 89,
     "metadata": {},
     "output_type": "execute_result"
    }
   ],
   "source": [
    "color = ['white','red', 'blue', 'green','blue','yellow', 'black']\n",
    "color.pop(5)"
   ]
  },
  {
   "cell_type": "code",
   "execution_count": 90,
   "id": "82568db9",
   "metadata": {},
   "outputs": [
    {
     "data": {
      "text/plain": [
       "['white', 'red', 'blue', 'green', 'blue', 'black']"
      ]
     },
     "execution_count": 90,
     "metadata": {},
     "output_type": "execute_result"
    }
   ],
   "source": [
    "color"
   ]
  },
  {
   "cell_type": "code",
   "execution_count": 91,
   "id": "71bc2b74",
   "metadata": {},
   "outputs": [
    {
     "ename": "ValueError",
     "evalue": "list.remove(x): x not in list",
     "output_type": "error",
     "traceback": [
      "\u001b[1;31m---------------------------------------------------------------------------\u001b[0m",
      "\u001b[1;31mValueError\u001b[0m                                Traceback (most recent call last)",
      "\u001b[1;32mc:\\temp\\ipykernel_69660\\4135109328.py\u001b[0m in \u001b[0;36m<module>\u001b[1;34m\u001b[0m\n\u001b[1;32m----> 1\u001b[1;33m \u001b[0mcolor\u001b[0m\u001b[1;33m.\u001b[0m\u001b[0mremove\u001b[0m\u001b[1;33m(\u001b[0m\u001b[1;36m3\u001b[0m\u001b[1;33m)\u001b[0m\u001b[1;33m\u001b[0m\u001b[1;33m\u001b[0m\u001b[0m\n\u001b[0m",
      "\u001b[1;31mValueError\u001b[0m: list.remove(x): x not in list"
     ]
    }
   ],
   "source": [
    "color.remove(3)"
   ]
  },
  {
   "cell_type": "code",
   "execution_count": 92,
   "id": "d501ee77",
   "metadata": {},
   "outputs": [
    {
     "data": {
      "text/plain": [
       "6"
      ]
     },
     "execution_count": 92,
     "metadata": {},
     "output_type": "execute_result"
    }
   ],
   "source": [
    "len(color)"
   ]
  },
  {
   "cell_type": "code",
   "execution_count": 93,
   "id": "cec40709",
   "metadata": {},
   "outputs": [
    {
     "name": "stdout",
     "output_type": "stream",
     "text": [
      "{'brand': 'Audi', 'model': 'Q2', 'year': 1980}\n"
     ]
    }
   ],
   "source": [
    "car = { \"brand\" : \"Audi\",\"model\" : \"Q2\", \"year\" : 1980}\n",
    "print(car)"
   ]
  },
  {
   "cell_type": "code",
   "execution_count": 3,
   "id": "630682b3",
   "metadata": {},
   "outputs": [
    {
     "name": "stdout",
     "output_type": "stream",
     "text": [
      "-10\n",
      "-9\n",
      "-8\n",
      "-7\n",
      "-6\n",
      "-5\n",
      "-4\n",
      "-3\n",
      "-2\n",
      "-1\n"
     ]
    }
   ],
   "source": [
    "for i in range(-10, 0, 1):\n",
    "    print(i)"
   ]
  },
  {
   "cell_type": "code",
   "execution_count": 4,
   "id": "e25866ae",
   "metadata": {},
   "outputs": [
    {
     "name": "stdout",
     "output_type": "stream",
     "text": [
      "8 ^ 1 = 8\n",
      "8 ^ 2 = 64\n",
      "8 ^ 3 = 512\n",
      "8 ^ 4 = 4096\n",
      "8 ^ 5 = 32768\n",
      "8 ^ 6 = 262144\n",
      "8 ^ 7 = 2097152\n",
      "8 ^ 8 = 16777216\n",
      "8 ^ 9 = 134217728\n",
      "8 ^ 10 = 1073741824\n"
     ]
    }
   ],
   "source": [
    "n = 8\n",
    "for i in range(1, 11):\n",
    " print(\"{} ^ {} =\".format(n, i), n**i)"
   ]
  },
  {
   "cell_type": "code",
   "execution_count": 6,
   "id": "12382598",
   "metadata": {},
   "outputs": [
    {
     "name": "stdout",
     "output_type": "stream",
     "text": [
      "14\n",
      "4\n",
      "45\n",
      "1\n"
     ]
    }
   ],
   "source": [
    "def mths(a, b):\n",
    " print(a + b)\n",
    " print(a - b)\n",
    " print(a * b)\n",
    " print(a // b)\n",
    " \n",
    "mths(9, 5)"
   ]
  },
  {
   "cell_type": "code",
   "execution_count": 7,
   "id": "d0be899c",
   "metadata": {},
   "outputs": [
    {
     "data": {
      "text/plain": [
       "49"
      ]
     },
     "execution_count": 7,
     "metadata": {},
     "output_type": "execute_result"
    }
   ],
   "source": [
    "def power(a, b):\n",
    "    return a ** b\n",
    "power(7,2)"
   ]
  },
  {
   "cell_type": "code",
   "execution_count": 8,
   "id": "f9ea0dd2",
   "metadata": {},
   "outputs": [
    {
     "name": "stdout",
     "output_type": "stream",
     "text": [
      "Temperature in Fahrenheit = 68.0\n"
     ]
    }
   ],
   "source": [
    "def convert(celsius):\n",
    "    fah = 1.8 * celsius + 32\n",
    "    print(\"Temperature in Fahrenheit =\", fah)\n",
    "convert(20)"
   ]
  },
  {
   "cell_type": "code",
   "execution_count": 10,
   "id": "31bbf586",
   "metadata": {},
   "outputs": [
    {
     "data": {
      "text/plain": [
       "11"
      ]
     },
     "execution_count": 10,
     "metadata": {},
     "output_type": "execute_result"
    }
   ],
   "source": [
    "def my_function(a, b, *args,**kwargs):\n",
    "    return a+b\n",
    "my_function(5,6)"
   ]
  },
  {
   "cell_type": "code",
   "execution_count": 13,
   "id": "f74a06d7",
   "metadata": {},
   "outputs": [],
   "source": [
    "def fun(A, B=30): # A is positional and B is keyward\n",
    "    return A + B"
   ]
  },
  {
   "cell_type": "code",
   "execution_count": 12,
   "id": "ac60f1c9",
   "metadata": {},
   "outputs": [
    {
     "data": {
      "text/plain": [
       "40"
      ]
     },
     "execution_count": 12,
     "metadata": {},
     "output_type": "execute_result"
    }
   ],
   "source": [
    "fun(A=10)"
   ]
  },
  {
   "cell_type": "code",
   "execution_count": null,
   "id": "3afdc361",
   "metadata": {},
   "outputs": [],
   "source": []
  }
 ],
 "metadata": {
  "kernelspec": {
   "display_name": "Python 3 (ipykernel)",
   "language": "python",
   "name": "python3"
  },
  "language_info": {
   "codemirror_mode": {
    "name": "ipython",
    "version": 3
   },
   "file_extension": ".py",
   "mimetype": "text/x-python",
   "name": "python",
   "nbconvert_exporter": "python",
   "pygments_lexer": "ipython3",
   "version": "3.9.13"
  }
 },
 "nbformat": 4,
 "nbformat_minor": 5
}
