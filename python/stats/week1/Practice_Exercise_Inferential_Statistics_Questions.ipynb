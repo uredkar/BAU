{
 "cells": [
  {
   "cell_type": "markdown",
   "metadata": {
    "id": "XeV1U7GkVNZY"
   },
   "source": [
    "## **Importing necessary libraries**"
   ]
  },
  {
   "cell_type": "code",
   "execution_count": 160,
   "metadata": {
    "id": "219CEYUFVNZn"
   },
   "outputs": [],
   "source": [
    "#import the important packages\n",
    "import pandas as pd #library used for data manipulation and analysis\n",
    "import numpy as np # library used for working with arrays.\n",
    "import matplotlib.pyplot as plt # library for plots and visualisations\n",
    "import seaborn as sns # library for visualisations\n",
    "%matplotlib inline \n",
    "\n",
    "import scipy.stats as stats # this library contains a large number of probability distributions as well as a growing library of statistical functions."
   ]
  },
  {
   "cell_type": "markdown",
   "metadata": {
    "id": "zwbR4fdpVNZp"
   },
   "source": [
    "# **Binomial Distribution**"
   ]
  },
  {
   "cell_type": "markdown",
   "metadata": {
    "id": "iLvUFh_6VNZp"
   },
   "source": [
    "### **1) A LED bulb manufacturing company regularly conducts quality checks at specified periods on the products it manufactures.  Historically, the failure rate for LED light bulbs that the company manufactures is 5%. Suppose a random sample of 10 LED light  bulbs is selected. Find the probability distribution for the defective bulbs and answer the below asked questions.** "
   ]
  },
  {
   "cell_type": "markdown",
   "metadata": {
    "id": "U8C34C7HVNZr"
   },
   "source": [
    "**a) What is the probability that none of the LED bulbs are defective?**"
   ]
  },
  {
   "cell_type": "code",
   "execution_count": 161,
   "metadata": {},
   "outputs": [
    {
     "name": "stdout",
     "output_type": "stream",
     "text": [
      "probability that range(0, 11) were defective out of 10 is [5.98736939e-01 3.15124705e-01 7.46347985e-02 1.04750594e-02\n",
      " 9.64808106e-04 6.09352488e-05 2.67259863e-06 8.03789062e-08\n",
      " 1.58642578e-09 1.85546875e-11 9.76562500e-14]\n"
     ]
    },
    {
     "data": {
      "text/plain": [
       "Text(0, 0.5, 'Probability of Failures')"
      ]
     },
     "execution_count": 161,
     "metadata": {},
     "output_type": "execute_result"
    },
    {
     "data": {
      "image/png": "[encoded data removed]",
      "text/plain": [
       "<Figure size 640x480 with 1 Axes>"
      ]
     },
     "metadata": {},
     "output_type": "display_data"
    }
   ],
   "source": [
    "failure_rate = 0.05 # failure rate\n",
    "n = 10 # sample size\n",
    "k = range(n+1)  # no defective\n",
    "# prob is of no defective out of 10\n",
    "prob = stats.binom.pmf(k,n,failure_rate)\n",
    "print(f\"probability that {k} were defective out of {n} is {prob}\")\n",
    "plt.bar(k,prob)\n",
    "plt.title(f\"Binomial: n={n}, failure rate={failure_rate}\")\n",
    "plt.xlabel(\"Number of Failures\")\n",
    "plt.ylabel(\"Probability of Failures\")"
   ]
  },
  {
   "cell_type": "code",
   "execution_count": 162,
   "metadata": {
    "colab": {
     "base_uri": "https://localhost:8080/"
    },
    "id": "DYBa2d2kVNZs",
    "outputId": "d96b3b97-cf0c-413f-d99b-f169f4992202"
   },
   "outputs": [
    {
     "name": "stdout",
     "output_type": "stream",
     "text": [
      "probability that 0 were defective out of 10 is 0.5987\n"
     ]
    }
   ],
   "source": [
    "failure_rate = 0.05 # failure rate\n",
    "n = 10 # sample size\n",
    "k = 0  # no defective\n",
    "# prob is of no defective out of 10\n",
    "prob = stats.binom.pmf(k,n,failure_rate)\n",
    "print(f\"probability that {k} were defective out of {n} is {prob:1.4f}\")"
   ]
  },
  {
   "cell_type": "markdown",
   "metadata": {
    "id": "siKk2kFfVNZs"
   },
   "source": [
    "**b) What is the probability that exactly one of the LED bulbs is defective?**"
   ]
  },
  {
   "cell_type": "code",
   "execution_count": 163,
   "metadata": {
    "colab": {
     "base_uri": "https://localhost:8080/"
    },
    "id": "JvlpPRafVNZt",
    "outputId": "82865149-c0c5-4ad7-bf33-243dc8b09041"
   },
   "outputs": [
    {
     "name": "stdout",
     "output_type": "stream",
     "text": [
      "probability that exactly 1 were defective out of 10 is 0.3151\n"
     ]
    }
   ],
   "source": [
    "k = 1\n",
    "prob = stats.binom.pmf(k,n,failure_rate)\n",
    "print(f\"probability that exactly {k} were defective out of {n} is {prob:1.4f}\")"
   ]
  },
  {
   "cell_type": "markdown",
   "metadata": {
    "id": "sTKTp_VbVNZt"
   },
   "source": [
    "**c) What is the probability that two or fewer of the LED bulbs are defective?**"
   ]
  },
  {
   "cell_type": "markdown",
   "metadata": {
    "id": "_ETr7cSsVNZu"
   },
   "source": [
    "Hint: \n",
    "We need to calculate cumulative probability of two or fewer LED bulbs being defective"
   ]
  },
  {
   "cell_type": "code",
   "execution_count": 164,
   "metadata": {
    "colab": {
     "base_uri": "https://localhost:8080/"
    },
    "id": "ohej5x5tVNZv",
    "outputId": "25510879-1185-48f6-d11d-4f90d7d39b32"
   },
   "outputs": [
    {
     "name": "stdout",
     "output_type": "stream",
     "text": [
      "probability that 2 or less were defective out of 10 is 0.9885\n"
     ]
    }
   ],
   "source": [
    "k = 2\n",
    "prob = stats.binom.cdf(k,n,failure_rate)\n",
    "print(f\"probability that {k} or less were defective out of {n} is {prob:1.4f}\")\n"
   ]
  },
  {
   "cell_type": "markdown",
   "metadata": {
    "id": "6D3d7vgNVNZv"
   },
   "source": [
    "**d) What is the probability that three or more of the LED bulbs are defective**"
   ]
  },
  {
   "cell_type": "markdown",
   "metadata": {
    "id": "-EnDIeiTVNZv"
   },
   "source": [
    "Hint: We need to subtract the cumulative probability up to 2 defective LED bulbs from 1."
   ]
  },
  {
   "cell_type": "code",
   "execution_count": 165,
   "metadata": {
    "colab": {
     "base_uri": "https://localhost:8080/"
    },
    "id": "mvuUJchzVNZw",
    "outputId": "6eb39eb3-0aa2-4af7-a8ad-ab4719f925d9"
   },
   "outputs": [
    {
     "name": "stdout",
     "output_type": "stream",
     "text": [
      "probability that 2 or more were defective out of 10 is 0.0115\n"
     ]
    }
   ],
   "source": [
    "k = 2 # we use two to calculate less than or equal and then do 1 - 2 or less , which gives us 3 or more\n",
    "prob = 1- stats.binom.cdf(k,n,failure_rate) # need to subtract from 1 as CDF gives less than equal \n",
    "print(f\"probability that {k} or more were defective out of {n} is {prob:1.4f}\")"
   ]
  },
  {
   "cell_type": "markdown",
   "metadata": {
    "id": "g7pg-lWiVNZx"
   },
   "source": [
    "### **2) During an NBA game a basketball player has two foul shots (free throw), if he converts 93% of his free throw shots.**"
   ]
  },
  {
   "cell_type": "markdown",
   "metadata": {
    "id": "I1yejxesVNZx"
   },
   "source": [
    "**a) What is the probability that he will convert both the shots?**"
   ]
  },
  {
   "cell_type": "code",
   "execution_count": 166,
   "metadata": {
    "colab": {
     "base_uri": "https://localhost:8080/"
    },
    "id": "SmwMFMOwVNZx",
    "outputId": "3ef552e8-2b2a-4bb7-da18-e9c00bbcbfc5"
   },
   "outputs": [
    {
     "name": "stdout",
     "output_type": "stream",
     "text": [
      "probability of converting both is 0.8649\n"
     ]
    }
   ],
   "source": [
    "k = 2\n",
    "n = 2\n",
    "success_rate = 0.93 # prob converting\n",
    "failure_rate = 1-success_rate\n",
    "prob = stats.binom.pmf(k,n,success_rate) \n",
    "print(f\"probability of converting both is {prob:1.4f}\")"
   ]
  },
  {
   "cell_type": "markdown",
   "metadata": {
    "id": "0R1FriOVVNZy"
   },
   "source": [
    "**b) What is the probability that he will convert at least one shot?**"
   ]
  },
  {
   "cell_type": "code",
   "execution_count": 167,
   "metadata": {
    "colab": {
     "base_uri": "https://localhost:8080/"
    },
    "id": "LHvHcZIZVNZy",
    "outputId": "a07246a6-7cfa-4192-9814-2cf9f5793de3"
   },
   "outputs": [
    {
     "name": "stdout",
     "output_type": "stream",
     "text": [
      "probability converting at least one shot 0.9951\n"
     ]
    }
   ],
   "source": [
    "k = 0\n",
    "n = 2\n",
    "success_rate = 0.93 # prob converting\n",
    "failure_rate = 1-p\n",
    "prob = 1 - stats.binom.cdf(k,n,p) # great than zero is 1 - less than 0\n",
    "print(f\"probability converting at least one shot {prob:1.4f}\")"
   ]
  },
  {
   "cell_type": "markdown",
   "metadata": {
    "id": "jeGWrHJhabri"
   },
   "source": [
    "### **3)\tOver a long period  in a large multinomial corporation, 10% of all sales trainees are rated as outstanding, 75% are rated as excellent, 10% are rated as satisfactory and 5% are considered unsatisfactory. Find the following probabilities for a sample of 10 trainees selected at random:**"
   ]
  },
  {
   "cell_type": "markdown",
   "metadata": {
    "id": "f0-NPUBiVNaG"
   },
   "source": [
    "**a) Two are rated as outstanding**"
   ]
  },
  {
   "cell_type": "code",
   "execution_count": 168,
   "metadata": {
    "id": "nJhIbOHmabrl",
    "outputId": "32c1e229-fe87-4702-f764-d2133622b0a1"
   },
   "outputs": [
    {
     "name": "stdout",
     "output_type": "stream",
     "text": [
      "probability two are outstanding is 0.1937\n"
     ]
    }
   ],
   "source": [
    "outstanding = 0.10\n",
    "excellent = 0.75\n",
    "satisfactory = 0.10\n",
    "unstat = 0.05\n",
    "n = 10\n",
    "k = 2\n",
    "prob = stats.binom.pmf(k,n,outstanding)\n",
    "print(f\"probability two are outstanding is {prob:1.4f}\")"
   ]
  },
  {
   "cell_type": "markdown",
   "metadata": {
    "id": "RZCEMFSrVNaG"
   },
   "source": [
    "**b) Two or more are rated as outstanding**"
   ]
  },
  {
   "cell_type": "code",
   "execution_count": 169,
   "metadata": {
    "id": "KxHPMtooabrw",
    "outputId": "d1905403-3b31-4912-d72f-2b45519ba155"
   },
   "outputs": [
    {
     "name": "stdout",
     "output_type": "stream",
     "text": [
      "probability two or more are outstanding is 0.2639\n"
     ]
    }
   ],
   "source": [
    "k = 1\n",
    "prob = 1 - stats.binom.cdf(k,n,outstanding) # great than zero is 1 - less than 1 gives you two or more\n",
    "print(f\"probability two or more are outstanding is {prob:1.4f}\")"
   ]
  },
  {
   "cell_type": "markdown",
   "metadata": {
    "id": "u5_21Ab8VNaH"
   },
   "source": [
    "**c) Eight of the ten are rated either outstanding or excellent**"
   ]
  },
  {
   "cell_type": "code",
   "execution_count": 170,
   "metadata": {
    "id": "hUf08sVQabr3",
    "outputId": "04cac182-33f8-42b0-f9c4-eb5bc342cff5"
   },
   "outputs": [
    {
     "name": "stdout",
     "output_type": "stream",
     "text": [
      "probability two or more are outstanding is 0.2759\n"
     ]
    }
   ],
   "source": [
    "k = 8\n",
    "joint_prob_outstanding_excellent = excellent + outstanding\n",
    "prob = stats.binom.pmf(k,n,joint_prob_outstanding_excellent)  \n",
    "print(f\"probability two or more are outstanding is {prob:1.4f}\")"
   ]
  },
  {
   "cell_type": "markdown",
   "metadata": {
    "id": "by_BuepFVNaH"
   },
   "source": [
    "**d) None of the trainees are rated as unsatisfactory**"
   ]
  },
  {
   "cell_type": "code",
   "execution_count": 72,
   "metadata": {
    "id": "RHtn4WYzabsA",
    "outputId": "e9aa51f1-1a69-44a0-8895-b05c12f4b2b7"
   },
   "outputs": [
    {
     "name": "stdout",
     "output_type": "stream",
     "text": [
      "probability zero unstat 0.5987\n"
     ]
    }
   ],
   "source": [
    "k = 0\n",
    "prob = stats.binom.pmf(k,n,unstat) \n",
    "print(f\"probability zero unstat {prob:1.4f}\")"
   ]
  },
  {
   "cell_type": "markdown",
   "metadata": {
    "id": "1-lP_U28aUuP"
   },
   "source": [
    "# **Uniform Distribution**\n",
    "\n",
    "### **1) A University records the amount of time  students take  to solve the statistics assignment in 'assignment.csv’. Plot the probability distribution this data follows and answer the following questions.**\n",
    "\n",
    "\n",
    "\n",
    "\n",
    "\n",
    "\n"
   ]
  },
  {
   "cell_type": "markdown",
   "metadata": {
    "id": "l46Ul-hMd7DD"
   },
   "source": [
    "#### **Reading the Data into the Dataframe**"
   ]
  },
  {
   "cell_type": "code",
   "execution_count": 75,
   "metadata": {
    "colab": {
     "base_uri": "https://localhost:8080/",
     "height": 204
    },
    "id": "C1zqTRCLd6BQ",
    "outputId": "266bf3e5-3adf-4b1c-a5e4-3d1311bc6750"
   },
   "outputs": [
    {
     "data": {
      "text/html": [
       "<div>\n",
       "<style scoped>\n",
       "    .dataframe tbody tr th:only-of-type {\n",
       "        vertical-align: middle;\n",
       "    }\n",
       "\n",
       "    .dataframe tbody tr th {\n",
       "        vertical-align: top;\n",
       "    }\n",
       "\n",
       "    .dataframe thead th {\n",
       "        text-align: right;\n",
       "    }\n",
       "</style>\n",
       "<table border=\"1\" class=\"dataframe\">\n",
       "  <thead>\n",
       "    <tr style=\"text-align: right;\">\n",
       "      <th></th>\n",
       "      <th>Student_ID</th>\n",
       "      <th>Time_taken</th>\n",
       "    </tr>\n",
       "  </thead>\n",
       "  <tbody>\n",
       "    <tr>\n",
       "      <th>0</th>\n",
       "      <td>955</td>\n",
       "      <td>2.79</td>\n",
       "    </tr>\n",
       "    <tr>\n",
       "      <th>1</th>\n",
       "      <td>379</td>\n",
       "      <td>3.32</td>\n",
       "    </tr>\n",
       "    <tr>\n",
       "      <th>2</th>\n",
       "      <td>922</td>\n",
       "      <td>1.35</td>\n",
       "    </tr>\n",
       "    <tr>\n",
       "      <th>3</th>\n",
       "      <td>312</td>\n",
       "      <td>2.35</td>\n",
       "    </tr>\n",
       "    <tr>\n",
       "      <th>4</th>\n",
       "      <td>670</td>\n",
       "      <td>1.98</td>\n",
       "    </tr>\n",
       "  </tbody>\n",
       "</table>\n",
       "</div>"
      ],
      "text/plain": [
       "   Student_ID  Time_taken\n",
       "0         955        2.79\n",
       "1         379        3.32\n",
       "2         922        1.35\n",
       "3         312        2.35\n",
       "4         670        1.98"
      ]
     },
     "execution_count": 75,
     "metadata": {},
     "output_type": "execute_result"
    }
   ],
   "source": [
    "file_name = \"../../data/csv/assignment.csv\"\n",
    "df_assignment = pd.read_csv(file_name)\n",
    "df_assignment.head()"
   ]
  },
  {
   "cell_type": "code",
   "execution_count": 102,
   "metadata": {},
   "outputs": [
    {
     "data": {
      "text/plain": [
       "Text(0.5, 1.0, 'Histogram of Student Assigment Completion Time')"
      ]
     },
     "execution_count": 102,
     "metadata": {},
     "output_type": "execute_result"
    },
    {
     "data": {
      "image/png": "[encoded data removed]",
      "text/plain": [
       "<Figure size 640x480 with 1 Axes>"
      ]
     },
     "metadata": {},
     "output_type": "display_data"
    }
   ],
   "source": [
    "plt.hist(df_assignment[[\"Time_taken\"]],density=True)\n",
    "plt.xlabel(\"Time required to complete assignment\")\n",
    "plt.ylabel(\"Probability\")\n",
    "plt.title(\"Histogram of Student Assigment Completion Time\")"
   ]
  },
  {
   "cell_type": "markdown",
   "metadata": {
    "id": "riMH9942kyzJ"
   },
   "source": [
    "**a) Find the probability that a randomly selected Student  requires atmost 2.5 hours to complete the assignment.**\n",
    "\n",
    "\n",
    "\n",
    "**CDF:** of a random variable(X) is the probability that X  will take the value less than or equal to x. It can be represented mathematically as below.\n",
    "\n",
    ">$F_X(x) = P(X\\leq x)$\n",
    "\n",
    "\n",
    "In our case, random variable(X) is the number of hours.\n",
    "\n",
    "$ P(X\\leq 2.5)$"
   ]
  },
  {
   "cell_type": "code",
   "execution_count": 159,
   "metadata": {
    "colab": {
     "base_uri": "https://localhost:8080/"
    },
    "id": "j6Q_wOlPlh5g",
    "outputId": "82c79ea7-ca72-4ea4-c7ad-489a2dd91760"
   },
   "outputs": [
    {
     "name": "stdout",
     "output_type": "stream",
     "text": [
      "probability of student taking less than equal to 2.5 hours 0.5000\n"
     ]
    }
   ],
   "source": [
    "n = df_assignment[[\"Time_taken\"]].count()\n",
    "min_v = df_assignment[[\"Time_taken\"]].min()\n",
    "max_v = df_assignment[[\"Time_taken\"]].max()\n",
    "mean_v = df_assignment[[\"Time_taken\"]].mean()\n",
    "std_v = df_assignment[[\"Time_taken\"]].std()\n",
    "#print(f\"n is {n} min={min_v} max={max_v}\")\n",
    "x = 2.5\n",
    "prob = stats.uniform.cdf(x,loc=min_v,scale=max_v-min_v)\n",
    "#print(prob.dtype)\n",
    "#print(prob[0])\n",
    "print(f\"probability of student taking less than equal to 2.5 hours is {prob[0]:1.4f}\")"
   ]
  },
  {
   "cell_type": "markdown",
   "metadata": {
    "id": "C3TVqrPQlt1h"
   },
   "source": [
    "**b) Find the probability that a randomly selected student  requires atleast  3 hours to complete the quiz.**\n",
    "\n",
    "$ P(X>=3)$"
   ]
  },
  {
   "cell_type": "code",
   "execution_count": 172,
   "metadata": {
    "colab": {
     "base_uri": "https://localhost:8080/"
    },
    "id": "qy9TT_38l108",
    "outputId": "20724781-bd1f-48e3-fdcb-26eb1fc7597f"
   },
   "outputs": [
    {
     "name": "stdout",
     "output_type": "stream",
     "text": [
      "probability of student taking >= 3 hours is 0.3333\n"
     ]
    }
   ],
   "source": [
    "x = 3 # we want 3 or more\n",
    "prob = 1 - stats.uniform.cdf(x,loc=min_v,scale=max_v-min_v) # 1-less than 3 hours gives us > 3 \n",
    "print(f\"probability of student taking >= 3 hours is {prob[0]:1.4f}\")"
   ]
  },
  {
   "cell_type": "markdown",
   "metadata": {
    "id": "ln66mUUsmad-"
   },
   "source": [
    "**c) Find the probability that a randomly selected student requires 1.5 to 3.5 hours to complete the quiz.**\n",
    "\n",
    "$ P(1.5<= X <=3.5)$"
   ]
  },
  {
   "cell_type": "code",
   "execution_count": 171,
   "metadata": {
    "colab": {
     "base_uri": "https://localhost:8080/"
    },
    "id": "oVS-Q3f3mZlj",
    "outputId": "283b341b-1853-49d8-f3b3-63ac852902ab"
   },
   "outputs": [
    {
     "name": "stdout",
     "output_type": "stream",
     "text": [
      "probability hours between 1.5 and 3.5 is 0.6667\n"
     ]
    }
   ],
   "source": [
    "x1 = 3.5 \n",
    "prob_less_35 = stats.uniform.cdf(x1,loc=min_v,scale=max_v-min_v) # less than 3.5 this included 1.5 \n",
    "x2 = 1.5 \n",
    "prob_less_15 = stats.uniform.cdf(x2,loc=min_v,scale=max_v-min_v) # less than 1.5 \n",
    "prob = prob_less_35 - prob_less_15 # sub to get the region that is less than 3.5 but greater than 1.5\n",
    "print(f\"probability hours between 1.5 and 3.5 is {prob[0]:1.4f}\")"
   ]
  },
  {
   "cell_type": "markdown",
   "metadata": {
    "id": "xh7vsKOHVNZ8"
   },
   "source": [
    "# **Normal Distribution**"
   ]
  },
  {
   "cell_type": "markdown",
   "metadata": {
    "id": "yRiWnS4VabsT"
   },
   "source": [
    "### **1) According to the Telecommunication Industry the average monthly cell phone bill is Rs. 850 with a standard deviation of Rs. 150. Assuming that the monthly bill follows normal distribution answer the following:**"
   ]
  },
  {
   "cell_type": "markdown",
   "metadata": {
    "id": "MJ7wKYwvVNZ_"
   },
   "source": [
    "**a) What is the probability that a randomly selected cell phone bill is more than Rs 1200?**"
   ]
  },
  {
   "cell_type": "code",
   "execution_count": 173,
   "metadata": {
    "colab": {
     "base_uri": "https://localhost:8080/"
    },
    "id": "jJ1cXSf0absV",
    "outputId": "78ae5cc4-110d-434f-a021-194964c091fc"
   },
   "outputs": [
    {
     "name": "stdout",
     "output_type": "stream",
     "text": [
      "probability that bill is more than 1200 is 0.0098\n"
     ]
    }
   ],
   "source": [
    "mean = 850\n",
    "stddev = 150\n",
    "x = 1200\n",
    "prob = 1 - stats.norm.cdf(x,loc=mean,scale=stddev) # 1 - less than eq 1200\n",
    "print(f\"probability that bill is more than 1200 is {prob:1.4f}\")"
   ]
  },
  {
   "cell_type": "markdown",
   "metadata": {
    "id": "1eoJzslRVNZ_"
   },
   "source": [
    "**b) What is the probability that a randomly selected cell phone bill is between Rs 750 and Rs 1200?**"
   ]
  },
  {
   "cell_type": "code",
   "execution_count": 174,
   "metadata": {
    "colab": {
     "base_uri": "https://localhost:8080/"
    },
    "id": "1uU2mRzbabsh",
    "outputId": "0d94bb46-e479-405e-cd8e-579a8e2709d9"
   },
   "outputs": [
    {
     "name": "stdout",
     "output_type": "stream",
     "text": [
      "probability that bill is more than 1200 is 0.7377\n"
     ]
    }
   ],
   "source": [
    "x1 = 1200\n",
    "x2 = 750\n",
    "prob_1200 = stats.norm.cdf(x1,loc=mean,scale=stddev) # 1 - less than eq 1200\n",
    "prob_750 = stats.norm.cdf(x2,loc=mean,scale=stddev) # 1 - less than eq 1200\n",
    "prob = prob_1200 - prob_750\n",
    "print(f\"probability that bill is more than 1200 is {prob:1.4f}\")"
   ]
  },
  {
   "cell_type": "markdown",
   "metadata": {
    "id": "tGxBocT6VNZ_"
   },
   "source": [
    "**c) What is the probability that a randomly selected cell phone bill is no more than Rs 650?**"
   ]
  },
  {
   "cell_type": "code",
   "execution_count": 175,
   "metadata": {
    "colab": {
     "base_uri": "https://localhost:8080/"
    },
    "id": "TqFcIHcUabsp",
    "outputId": "19b42148-5710-4e7d-a6db-efdc471502e8"
   },
   "outputs": [
    {
     "name": "stdout",
     "output_type": "stream",
     "text": [
      "probability that bill is less than eq to 650 is 0.0912\n"
     ]
    }
   ],
   "source": [
    "x = 650\n",
    "prob = stats.norm.cdf(x,loc=mean,scale=stddev)  \n",
    "print(f\"probability that bill is less than eq to 650 is {prob:1.4f}\")"
   ]
  },
  {
   "cell_type": "markdown",
   "metadata": {
    "id": "oFmIG_sqVNaA"
   },
   "source": [
    "**d) What is the amount above which lies top 15% of cell phone bills?**"
   ]
  },
  {
   "cell_type": "code",
   "execution_count": 176,
   "metadata": {
    "colab": {
     "base_uri": "https://localhost:8080/"
    },
    "id": "_r55P6SNabs0",
    "outputId": "2cf77402-788c-435e-fa3a-2e7fc4c4fac8"
   },
   "outputs": [
    {
     "name": "stdout",
     "output_type": "stream",
     "text": [
      "amount which is top 15% 1005.4650\n"
     ]
    }
   ],
   "source": [
    "x = 1-0.15 # as we need top 15%\n",
    "amount = stats.norm.ppf(x,loc=mean,scale=stddev)  \n",
    "print(f\"amount which is top 15% {amount:1.4f}\")"
   ]
  },
  {
   "cell_type": "markdown",
   "metadata": {
    "id": "_lNAMUvvVNaA"
   },
   "source": [
    "**e) What is the amount below which lies bottom 25% of cell phone bills?**"
   ]
  },
  {
   "cell_type": "code",
   "execution_count": 177,
   "metadata": {
    "colab": {
     "base_uri": "https://localhost:8080/"
    },
    "id": "-7OQk_Ftabs-",
    "outputId": "c50bc6e1-8ff7-4fe0-d4c0-b6669b3209f9"
   },
   "outputs": [
    {
     "name": "stdout",
     "output_type": "stream",
     "text": [
      "amount which is bottom 25% 748.8265\n"
     ]
    }
   ],
   "source": [
    "x = 0.25\n",
    "amount = stats.norm.ppf(x,loc=mean,scale=stddev)  \n",
    "print(f\"amount which is bottom 25% {amount:1.4f}\")"
   ]
  },
  {
   "cell_type": "markdown",
   "metadata": {
    "id": "QmtfulFDVNaH"
   },
   "source": [
    "### **2) The mean filling capacity for a coke bottle is 500 ml with a standard deviation of 20ml. Assume that it follows a normal distribution and answer the following questions:**"
   ]
  },
  {
   "cell_type": "markdown",
   "metadata": {
    "id": "ak4RyMGVVNaI"
   },
   "source": [
    "**a) What is the probability that the bottle filled less than 480 ml ?**"
   ]
  },
  {
   "cell_type": "code",
   "execution_count": 178,
   "metadata": {
    "colab": {
     "base_uri": "https://localhost:8080/"
    },
    "id": "7HZogLBGVNaI",
    "outputId": "6fd2cf8a-2bb5-4119-9143-53eea85edf15"
   },
   "outputs": [
    {
     "name": "stdout",
     "output_type": "stream",
     "text": [
      "probability that bottle is less than eq to 480 is 0.1587\n"
     ]
    }
   ],
   "source": [
    "mean = 500\n",
    "stddev = 20\n",
    "x = 480\n",
    "prob = stats.norm.cdf(x,loc=mean,scale=stddev)  \n",
    "print(f\"probability that bottle is less than eq to 480 is {prob:1.4f}\")"
   ]
  },
  {
   "cell_type": "markdown",
   "metadata": {
    "id": "ILDdv_5fVNaI"
   },
   "source": [
    "**b) What is the probability that the bottle filled more than  520 ml?**"
   ]
  },
  {
   "cell_type": "code",
   "execution_count": 180,
   "metadata": {
    "colab": {
     "base_uri": "https://localhost:8080/"
    },
    "id": "u42DGuDPVNaJ",
    "outputId": "4208ece9-6c8d-4be4-d37b-3264766f66b8"
   },
   "outputs": [
    {
     "name": "stdout",
     "output_type": "stream",
     "text": [
      "probability that bottle more than 520 is 0.1587\n"
     ]
    }
   ],
   "source": [
    "x = 520\n",
    "prob = 1- stats.norm.cdf(x,loc=mean,scale=stddev)  \n",
    "print(f\"probability that bottle more than 520 is {prob:1.4f}\")"
   ]
  },
  {
   "cell_type": "markdown",
   "metadata": {
    "id": "GDGLNR7dVNaJ"
   },
   "source": [
    "**c) What is the probability that the bottle filled between 470 ml to 525 ml?**"
   ]
  },
  {
   "cell_type": "code",
   "execution_count": 181,
   "metadata": {
    "colab": {
     "base_uri": "https://localhost:8080/"
    },
    "id": "_uPKpbvtVNaK",
    "outputId": "1ae86422-e645-4183-d9a5-7f1097668e0e"
   },
   "outputs": [
    {
     "name": "stdout",
     "output_type": "stream",
     "text": [
      "probability that bottle between 525 and 470 0.8275\n"
     ]
    }
   ],
   "source": [
    "x1 = 525\n",
    "x2 = 470\n",
    "prob = stats.norm.cdf(x1,loc=mean,scale=stddev) - stats.norm.cdf(x2,loc=mean,scale=stddev)    \n",
    "print(f\"probability that bottle between 525 and 470 {prob:1.4f}\")"
   ]
  },
  {
   "cell_type": "markdown",
   "metadata": {
    "id": "7WFVLPL-VNaM"
   },
   "source": [
    "### **3) In 2 Liter soft drink bottles the drink filled is normally distributed, with a mean of 2.0 liters and a standard deviation of 0.05 liter. If the bottles contain less than 95% of the listed net content(1.90 liters),  the manufacturer may be subject to penalty by the state office of consumer affairs. Bottles that have a net content above 2.1 liters may cause excess spillage upon opening. Answer the following questions:**"
   ]
  },
  {
   "cell_type": "markdown",
   "metadata": {
    "id": "KJh8EodMVNaM"
   },
   "source": [
    "**a) What is the probability that the bottle content is between 1.9 and 2.0 liters?**"
   ]
  },
  {
   "cell_type": "code",
   "execution_count": 182,
   "metadata": {
    "colab": {
     "base_uri": "https://localhost:8080/"
    },
    "id": "WfcWl231VNaM",
    "outputId": "5b8e470b-4b08-484f-ec17-892dbe4313ed"
   },
   "outputs": [
    {
     "name": "stdout",
     "output_type": "stream",
     "text": [
      "probability that bottle between 2.0 and 1.9 0.4772\n"
     ]
    }
   ],
   "source": [
    "mean = 2.0\n",
    "stddev = 0.05\n",
    "min_v = 1.90\n",
    "max_v = 2.0\n",
    "prob = stats.norm.cdf(max_v,loc=mean,scale=stddev) - stats.norm.cdf(min_v,loc=mean,scale=stddev)    \n",
    "print(f\"probability that bottle between 2.0 and 1.9 {prob:1.4f}\")"
   ]
  },
  {
   "cell_type": "markdown",
   "metadata": {
    "id": "hZhrsYtoVNaN"
   },
   "source": [
    "**b)  What is the probability that the bottle content is between 1.9 and 2.1 liters?**"
   ]
  },
  {
   "cell_type": "code",
   "execution_count": 131,
   "metadata": {
    "colab": {
     "base_uri": "https://localhost:8080/"
    },
    "id": "wbnjjf0aVNaN",
    "outputId": "23281c0c-f9f4-41d0-b824-3fe0a1b3445c"
   },
   "outputs": [
    {
     "name": "stdout",
     "output_type": "stream",
     "text": [
      "probability that bottle between 2.1 and 1.9 0.9545\n"
     ]
    }
   ],
   "source": [
    "min_v = 1.90\n",
    "max_v = 2.1\n",
    "prob = stats.norm.cdf(max_v,loc=mean,scale=stddev) - stats.norm.cdf(min_v,loc=mean,scale=stddev)    \n",
    "print(f\"probability that bottle between 2.1 and 1.9 {prob:1.4f}\")"
   ]
  },
  {
   "cell_type": "markdown",
   "metadata": {
    "id": "H6fG71TVVNaN"
   },
   "source": [
    "**c) What is the probability that the bottle content is below 1.9 liters or above 2.1 liters?**"
   ]
  },
  {
   "cell_type": "code",
   "execution_count": 132,
   "metadata": {
    "colab": {
     "base_uri": "https://localhost:8080/"
    },
    "id": "1Z6O0xxHVNaO",
    "outputId": "bdd5a29e-a423-4c8d-a0dc-ce46d24e37b6"
   },
   "outputs": [
    {
     "name": "stdout",
     "output_type": "stream",
     "text": [
      "probability that bottle below 1.9 or above 2.1 0.0455\n"
     ]
    }
   ],
   "source": [
    "min_v = 1.90\n",
    "max_v = 2.1\n",
    "prob_below_min = stats.norm.cdf(min_v,loc=mean,scale=stddev)    \n",
    "prob_above_max = 1-stats.norm.cdf(max_v,loc=mean,scale=stddev)\n",
    "prob = prob_below_min + prob_above_max # or means add and means multiple\n",
    "print(f\"probability that bottle below 1.9 or above 2.1 {prob:1.4f}\")"
   ]
  },
  {
   "cell_type": "markdown",
   "metadata": {
    "id": "Qc1CMY6PVNaO"
   },
   "source": [
    "**d) 99% of the bottles atleast have how much soft drink in them?**"
   ]
  },
  {
   "cell_type": "code",
   "execution_count": 138,
   "metadata": {
    "colab": {
     "base_uri": "https://localhost:8080/"
    },
    "id": "vhoVgTxBVNaO",
    "outputId": "19fe901b-e6aa-46a8-f5a5-7f65e08402a6"
   },
   "outputs": [
    {
     "name": "stdout",
     "output_type": "stream",
     "text": [
      "amount which is top 99% 1.8837\n"
     ]
    }
   ],
   "source": [
    "x = 1-0.99\n",
    "amount = stats.norm.ppf(x,loc=mean,scale=stddev)  \n",
    "print(f\"amount which is top 99% {amount:1.4f}\") # top 99% because of atleast we look at top hence we do 1-0.99"
   ]
  },
  {
   "cell_type": "markdown",
   "metadata": {
    "id": "cfuKFTnCDTeA"
   },
   "source": [
    "# **Sampling Distribution**"
   ]
  },
  {
   "cell_type": "markdown",
   "metadata": {
    "id": "azEQu4DoC_Q5"
   },
   "source": [
    "### 1) **Suppose an automobile battery manufacturer claims that the mean lifetime of their battery is 60 months with a standard deviation of 6 months. Suppose the distribution of battery lives of is approximately normal. Find the probability that the mean lifetime of 40 randomly sampled batteries will be less than 58 months.**"
   ]
  },
  {
   "cell_type": "code",
   "execution_count": 142,
   "metadata": {
    "colab": {
     "base_uri": "https://localhost:8080/"
    },
    "id": "AiWFb0LCC9Wp",
    "outputId": "6d0dd09c-a184-4aac-daba-8fd1f2ec4d3d"
   },
   "outputs": [
    {
     "name": "stdout",
     "output_type": "stream",
     "text": [
      "prob of 40 sample 0.0175\n"
     ]
    }
   ],
   "source": [
    "mean = 60\n",
    "stddev = 6\n",
    "n = 40 # sample size\n",
    "sample_stddev = stddev/np.sqrt(n)\n",
    "less_v = 58\n",
    "prob_below_58 = stats.norm.cdf(less_v,loc=mean,scale=sample_stddev) # we have to find sample stddev or error for sample as told in video \n",
    "print(f\"prob of 40 sample {prob_below_58:1.4f}\")"
   ]
  },
  {
   "cell_type": "markdown",
   "metadata": {
    "id": "1TFwIVHqBR8O"
   },
   "source": [
    "# **Interval Estimation**"
   ]
  },
  {
   "cell_type": "markdown",
   "metadata": {
    "id": "hyfZcgYs_LMD"
   },
   "source": [
    "### **1) A random sample of 40 households was selected as part of a study on electricity usage, and the number of kilowatt-hours (kWh) was recorded for each household in the sample for the March quarter of 2020. The average usage was found to be 310kWh. In a very large study in the March quarter of the previous year it was found that the standard deviation of the usage was 89kWh.**\n",
    "\n",
    "### **Assuming the standard deviation is unchanged and that the usage is normally distributed, provide an expression for calculating a 95% confidence interval for the mean usage in the March quarter of 2019.** \n",
    "\n"
   ]
  },
  {
   "cell_type": "code",
   "execution_count": 155,
   "metadata": {
    "colab": {
     "base_uri": "https://localhost:8080/"
    },
    "id": "uyAHorce_KaM",
    "outputId": "a17aca72-2c15-42a8-993f-88393ea59489"
   },
   "outputs": [
    {
     "name": "stdout",
     "output_type": "stream",
     "text": [
      "(282.419121062447, 337.580878937553)\n"
     ]
    }
   ],
   "source": [
    "n = 40\n",
    "mean_cur = 310\n",
    "stddev_prev = 89/np.sqrt(n) # correct for sample\n",
    "ci_per = 0.95 # means +- 2 sigma\n",
    "\n",
    "ci = stats.norm.interval(ci_per,loc=mean_cur,scale=stddev_prev)\n",
    "print(ci)\n"
   ]
  },
  {
   "cell_type": "code",
   "execution_count": 157,
   "metadata": {},
   "outputs": [
    {
     "name": "stdout",
     "output_type": "stream",
     "text": [
      "2 sigma (281.8557288245014, 338.1442711754986) not exactly the same but close\n"
     ]
    }
   ],
   "source": [
    "ci_2sigma = ((mean_cur - 2.0*stddev_prev),(mean_cur + 2.0*stddev_prev))\n",
    "print(f\"2 sigma {ci_2sigma} not exactly the same but close\")"
   ]
  },
  {
   "cell_type": "code",
   "execution_count": null,
   "metadata": {},
   "outputs": [],
   "source": []
  }
 ],
 "metadata": {
  "colab": {
   "collapsed_sections": [
    "g7pg-lWiVNZx",
    "l46Ul-hMd7DD"
   ],
   "name": "Practice_exercise -1 (1).ipynb",
   "provenance": []
  },
  "kernelspec": {
   "display_name": "Python 3 (ipykernel)",
   "language": "python",
   "name": "python3"
  },
  "language_info": {
   "codemirror_mode": {
    "name": "ipython",
    "version": 3
   },
   "file_extension": ".py",
   "mimetype": "text/x-python",
   "name": "python",
   "nbconvert_exporter": "python",
   "pygments_lexer": "ipython3",
   "version": "3.9.13"
  }
 },
 "nbformat": 4,
 "nbformat_minor": 1
}
