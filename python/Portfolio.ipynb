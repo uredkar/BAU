{
 "cells": [
  {
   "cell_type": "code",
   "execution_count": 1,
   "metadata": {},
   "outputs": [],
   "source": [
    "%matplotlib inline\n"
   ]
  },
  {
   "cell_type": "code",
   "execution_count": 2,
   "metadata": {},
   "outputs": [],
   "source": [
    "import pandas as pd\n",
    "import numpy as np\n",
    "\n",
    "from numpy.lib.stride_tricks import as_strided\n",
    "import matplotlib.pyplot as plt\n",
    "import pandas_datareader as web\n",
    "import yfinance as yf\n",
    "\n",
    "def download(file_name,symbols):\n",
    "   \n",
    "\n",
    "    yf_data = yf.download(symbols,  start = \"2005-02-01\" , end = \"2022-12-01\")\n",
    "    newcolnames = [col[0] + col[1] for col in yf_data.columns.values]\n",
    "    yf_data\n",
    "    yf_data.columns = newcolnames\n",
    "    yf_data.reset_index(inplace=True)\n",
    "    yf_data.columns\n",
    "    yf_data.to_csv(file_name, index=False) "
   ]
  },
  {
   "cell_type": "markdown",
   "metadata": {},
   "source": [
    "file_name = 'vanguard.csv'\n",
    "# use SPY instead of VOO since spy has more price history\n",
    "# convert this markdown to code for new data\n",
    "symbols = ['VTV','VB', 'VTI', 'SPY','VUG','VXUS','VGK','VDE','VWO','VBK','VTIP','BND','BNDX']\n",
    "download(file_name,symbols)"
   ]
  },
  {
   "cell_type": "code",
   "execution_count": 3,
   "metadata": {},
   "outputs": [
    {
     "data": {
      "text/html": [
       "<div>\n",
       "<style scoped>\n",
       "    .dataframe tbody tr th:only-of-type {\n",
       "        vertical-align: middle;\n",
       "    }\n",
       "\n",
       "    .dataframe tbody tr th {\n",
       "        vertical-align: top;\n",
       "    }\n",
       "\n",
       "    .dataframe thead th {\n",
       "        text-align: right;\n",
       "    }\n",
       "</style>\n",
       "<table border=\"1\" class=\"dataframe\">\n",
       "  <thead>\n",
       "    <tr style=\"text-align: right;\">\n",
       "      <th></th>\n",
       "      <th>Date</th>\n",
       "      <th>Adj CloseBND</th>\n",
       "      <th>Adj CloseBNDX</th>\n",
       "      <th>Adj CloseSPY</th>\n",
       "      <th>Adj CloseVB</th>\n",
       "      <th>Adj CloseVBK</th>\n",
       "      <th>Adj CloseVDE</th>\n",
       "      <th>Adj CloseVGK</th>\n",
       "      <th>Adj CloseVTI</th>\n",
       "      <th>Adj CloseVTIP</th>\n",
       "      <th>...</th>\n",
       "      <th>VolumeVB</th>\n",
       "      <th>VolumeVBK</th>\n",
       "      <th>VolumeVDE</th>\n",
       "      <th>VolumeVGK</th>\n",
       "      <th>VolumeVTI</th>\n",
       "      <th>VolumeVTIP</th>\n",
       "      <th>VolumeVTV</th>\n",
       "      <th>VolumeVUG</th>\n",
       "      <th>VolumeVWO</th>\n",
       "      <th>VolumeVXUS</th>\n",
       "    </tr>\n",
       "  </thead>\n",
       "  <tbody>\n",
       "    <tr>\n",
       "      <th>0</th>\n",
       "      <td>2005-02-01</td>\n",
       "      <td>NaN</td>\n",
       "      <td>NaN</td>\n",
       "      <td>84.298782</td>\n",
       "      <td>42.236012</td>\n",
       "      <td>46.481964</td>\n",
       "      <td>37.072823</td>\n",
       "      <td>NaN</td>\n",
       "      <td>41.463337</td>\n",
       "      <td>NaN</td>\n",
       "      <td>...</td>\n",
       "      <td>1845100</td>\n",
       "      <td>5500</td>\n",
       "      <td>19400</td>\n",
       "      <td>NaN</td>\n",
       "      <td>174800</td>\n",
       "      <td>NaN</td>\n",
       "      <td>19600</td>\n",
       "      <td>10600</td>\n",
       "      <td>NaN</td>\n",
       "      <td>NaN</td>\n",
       "    </tr>\n",
       "    <tr>\n",
       "      <th>1</th>\n",
       "      <td>2005-02-02</td>\n",
       "      <td>NaN</td>\n",
       "      <td>NaN</td>\n",
       "      <td>84.553978</td>\n",
       "      <td>42.445549</td>\n",
       "      <td>46.765667</td>\n",
       "      <td>37.670547</td>\n",
       "      <td>NaN</td>\n",
       "      <td>41.653214</td>\n",
       "      <td>NaN</td>\n",
       "      <td>...</td>\n",
       "      <td>3300</td>\n",
       "      <td>134000</td>\n",
       "      <td>31700</td>\n",
       "      <td>NaN</td>\n",
       "      <td>167000</td>\n",
       "      <td>NaN</td>\n",
       "      <td>62900</td>\n",
       "      <td>8400</td>\n",
       "      <td>NaN</td>\n",
       "      <td>NaN</td>\n",
       "    </tr>\n",
       "  </tbody>\n",
       "</table>\n",
       "<p>2 rows × 79 columns</p>\n",
       "</div>"
      ],
      "text/plain": [
       "         Date  Adj CloseBND  Adj CloseBNDX  Adj CloseSPY  Adj CloseVB  \\\n",
       "0  2005-02-01           NaN            NaN     84.298782    42.236012   \n",
       "1  2005-02-02           NaN            NaN     84.553978    42.445549   \n",
       "\n",
       "   Adj CloseVBK  Adj CloseVDE  Adj CloseVGK  Adj CloseVTI  Adj CloseVTIP  ...  \\\n",
       "0     46.481964     37.072823           NaN     41.463337            NaN  ...   \n",
       "1     46.765667     37.670547           NaN     41.653214            NaN  ...   \n",
       "\n",
       "   VolumeVB  VolumeVBK  VolumeVDE  VolumeVGK  VolumeVTI  VolumeVTIP  \\\n",
       "0   1845100       5500      19400        NaN     174800         NaN   \n",
       "1      3300     134000      31700        NaN     167000         NaN   \n",
       "\n",
       "   VolumeVTV  VolumeVUG  VolumeVWO  VolumeVXUS  \n",
       "0      19600      10600        NaN         NaN  \n",
       "1      62900       8400        NaN         NaN  \n",
       "\n",
       "[2 rows x 79 columns]"
      ]
     },
     "execution_count": 3,
     "metadata": {},
     "output_type": "execute_result"
    }
   ],
   "source": [
    "df_vanguard = pd.read_csv(\"vanguard.csv\")\n",
    "df_vanguard.head(2)"
   ]
  },
  {
   "cell_type": "code",
   "execution_count": 4,
   "metadata": {},
   "outputs": [
    {
     "ename": "NameError",
     "evalue": "name 'symbols' is not defined",
     "output_type": "error",
     "traceback": [
      "\u001b[1;31m---------------------------------------------------------------------------\u001b[0m",
      "\u001b[1;31mNameError\u001b[0m                                 Traceback (most recent call last)",
      "\u001b[1;32mc:\\temp\\ipykernel_126040\\1314686782.py\u001b[0m in \u001b[0;36m<module>\u001b[1;34m\u001b[0m\n\u001b[1;32m----> 1\u001b[1;33m \u001b[0mvanguard_adj_close\u001b[0m \u001b[1;33m=\u001b[0m \u001b[1;33m[\u001b[0m\u001b[1;34m\"Adj Close\"\u001b[0m \u001b[1;33m+\u001b[0m \u001b[0msymbol\u001b[0m \u001b[1;32mfor\u001b[0m \u001b[0msymbol\u001b[0m \u001b[1;32min\u001b[0m \u001b[0msymbols\u001b[0m\u001b[1;33m]\u001b[0m\u001b[1;33m\u001b[0m\u001b[1;33m\u001b[0m\u001b[0m\n\u001b[0m\u001b[0;32m      2\u001b[0m \u001b[0mdf_vanguard\u001b[0m\u001b[1;33m[\u001b[0m\u001b[0mvanguard_adj_close\u001b[0m\u001b[1;33m]\u001b[0m\u001b[1;33m\u001b[0m\u001b[1;33m\u001b[0m\u001b[0m\n",
      "\u001b[1;31mNameError\u001b[0m: name 'symbols' is not defined"
     ]
    }
   ],
   "source": [
    "vanguard_adj_close = [\"Adj Close\" + symbol for symbol in symbols]\n",
    "df_vanguard[vanguard_adj_close]"
   ]
  },
  {
   "cell_type": "code",
   "execution_count": null,
   "metadata": {},
   "outputs": [],
   "source": [
    "df_vanguard[vanguard_adj_close].plot()"
   ]
  },
  {
   "cell_type": "code",
   "execution_count": null,
   "metadata": {},
   "outputs": [],
   "source": [
    "def stock_data(prices,col):\n",
    "    df = pd.DataFrame({'Date':prices.Date, 'Values':prices[col]})\n",
    "\n",
    "    x = df['Date'].tolist()\n",
    "    y = df['Values'].tolist()\n",
    "\n",
    "    plt.style.use('dark_background')\n",
    "    plt.plot(x,y)\n",
    "    plt.ylabel('Price($)')\n",
    "    plt.xlabel('Date', rotation=0)\n",
    "    plt.show()\n",
    "stock_data(df_vanguard,\"Adj CloseBND\")        "
   ]
  },
  {
   "cell_type": "code",
   "execution_count": null,
   "metadata": {},
   "outputs": [],
   "source": [
    "\n",
    "def plot_hist_returns(title,price_data,period,w):\n",
    "    \"\"\"\n",
    "    price_data df with price data index by date\n",
    "    w weight of each symbol fixed weight for ex ante hist\n",
    "    \"\"\"\n",
    "    \n",
    "    print(sum(w))\n",
    "    ret_data = price_data.pct_change(periods=period)[1:]\n",
    "    #print(ret_data.head())\n",
    "    weighted_returns = (w * ret_data)\n",
    "    #print(weighted_returns.head())\n",
    "    port_ret = weighted_returns.sum(axis=1)\n",
    "\n",
    "    fig = plt.figure()\n",
    "    ax1 = fig.add_axes([0.1,0.1,0.8,0.8])\n",
    "    ax1.hist(port_ret, bins = 60)\n",
    "    ax1.set_xlabel('Portfolio returns')\n",
    "    ax1.set_ylabel(\"Freq\")\n",
    "    ax1.set_title(title)\n",
    "    plt.show();     \n"
   ]
  },
  {
   "cell_type": "code",
   "execution_count": null,
   "metadata": {},
   "outputs": [],
   "source": []
  },
  {
   "cell_type": "code",
   "execution_count": null,
   "metadata": {},
   "outputs": [],
   "source": [
    "\n",
    "prices = df_vanguard[vanguard_adj_close]\n",
    "wt = [1 / len(prices.columns)] * len(prices.columns)\n",
    "plot_hist_returns(\"Hist of Daily Portfolio Returns\",prices,1,wt)"
   ]
  },
  {
   "cell_type": "code",
   "execution_count": null,
   "metadata": {},
   "outputs": [],
   "source": [
    "plot_hist_returns(\"Hist of Daily Portfolio Returns\",prices,7,wt)"
   ]
  },
  {
   "cell_type": "code",
   "execution_count": null,
   "metadata": {},
   "outputs": [],
   "source": [
    "plot_hist_returns(\"Hist of Daily Portfolio Returns\",prices,30,wt)"
   ]
  },
  {
   "cell_type": "code",
   "execution_count": null,
   "metadata": {},
   "outputs": [],
   "source": [
    "plot_hist_returns(\"Hist of Daily Portfolio Returns\",prices,90,wt)\n"
   ]
  },
  {
   "cell_type": "code",
   "execution_count": null,
   "metadata": {},
   "outputs": [],
   "source": [
    "prices.rolling(100, win_type='gaussian').mean(std=3).plot()\n"
   ]
  },
  {
   "cell_type": "code",
   "execution_count": null,
   "metadata": {},
   "outputs": [],
   "source": [
    "\n",
    "  "
   ]
  },
  {
   "cell_type": "markdown",
   "metadata": {},
   "source": [
    "def download_prices(symbols,filename):\n",
    "    df = web.get_data_yahoo(symbols,\n",
    "                                   start = '2017-06-01',\n",
    "                                   end = '2021-10-01')\n",
    "    df = df['Adj Close']\n",
    "    print(df.head())\n",
    "    df.to_csv(filename, index=True) \n",
    "    \n",
    "symbols = ['VOO','VEA', 'VB', 'VWO','BND']\n",
    "download_prices(symbols,\"vanguard.csv\")"
   ]
  },
  {
   "cell_type": "markdown",
   "metadata": {},
   "source": [
    "symbols = ['FDFIX','FLXSX','FLAPX','FITFX','FIBUX','BND','SHV']\n",
    "download_prices(symbols,\"fidelity.csv\")"
   ]
  },
  {
   "cell_type": "code",
   "execution_count": null,
   "metadata": {},
   "outputs": [],
   "source": [
    "\n",
    "    "
   ]
  },
  {
   "cell_type": "code",
   "execution_count": null,
   "metadata": {},
   "outputs": [],
   "source": []
  },
  {
   "cell_type": "code",
   "execution_count": null,
   "metadata": {},
   "outputs": [],
   "source": []
  },
  {
   "cell_type": "code",
   "execution_count": null,
   "metadata": {},
   "outputs": [],
   "source": [
    "\n",
    "    "
   ]
  },
  {
   "cell_type": "code",
   "execution_count": null,
   "metadata": {},
   "outputs": [],
   "source": [
    "\n"
   ]
  },
  {
   "cell_type": "code",
   "execution_count": null,
   "metadata": {},
   "outputs": [],
   "source": [
    " "
   ]
  },
  {
   "cell_type": "code",
   "execution_count": null,
   "metadata": {},
   "outputs": [],
   "source": [
    " "
   ]
  },
  {
   "cell_type": "code",
   "execution_count": null,
   "metadata": {},
   "outputs": [],
   "source": []
  },
  {
   "cell_type": "code",
   "execution_count": null,
   "metadata": {},
   "outputs": [],
   "source": []
  },
  {
   "cell_type": "code",
   "execution_count": null,
   "metadata": {},
   "outputs": [],
   "source": []
  },
  {
   "cell_type": "code",
   "execution_count": null,
   "metadata": {},
   "outputs": [],
   "source": []
  },
  {
   "cell_type": "code",
   "execution_count": null,
   "metadata": {},
   "outputs": [],
   "source": [
    "\n"
   ]
  },
  {
   "cell_type": "code",
   "execution_count": null,
   "metadata": {},
   "outputs": [],
   "source": [
    "\n",
    "# axis =1 tells pandas we want to add\n",
    "# the rows"
   ]
  },
  {
   "cell_type": "code",
   "execution_count": null,
   "metadata": {},
   "outputs": [],
   "source": []
  },
  {
   "cell_type": "code",
   "execution_count": null,
   "metadata": {},
   "outputs": [],
   "source": []
  },
  {
   "cell_type": "code",
   "execution_count": null,
   "metadata": {},
   "outputs": [],
   "source": []
  },
  {
   "cell_type": "code",
   "execution_count": null,
   "metadata": {},
   "outputs": [],
   "source": []
  },
  {
   "cell_type": "code",
   "execution_count": null,
   "metadata": {},
   "outputs": [],
   "source": []
  }
 ],
 "metadata": {
  "kernelspec": {
   "display_name": "Python 3 (ipykernel)",
   "language": "python",
   "name": "python3"
  },
  "language_info": {
   "codemirror_mode": {
    "name": "ipython",
    "version": 3
   },
   "file_extension": ".py",
   "mimetype": "text/x-python",
   "name": "python",
   "nbconvert_exporter": "python",
   "pygments_lexer": "ipython3",
   "version": "3.9.13"
  }
 },
 "nbformat": 4,
 "nbformat_minor": 4
}
