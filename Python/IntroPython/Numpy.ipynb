{
 "cells": [
  {
   "cell_type": "code",
   "execution_count": 72,
   "id": "40dbd77a",
   "metadata": {},
   "outputs": [],
   "source": [
    "import numpy as np\n",
    "import pandas as pd\n",
    "#from google.colab import drive\n",
    "#drive.mount('content/drive')"
   ]
  },
  {
   "cell_type": "code",
   "execution_count": 73,
   "id": "3777af62",
   "metadata": {},
   "outputs": [],
   "source": [
    "demo_matrix = np.array(([13,35,74,48], [23,37,37,38],[73,39,93,39]))"
   ]
  },
  {
   "cell_type": "code",
   "execution_count": 74,
   "id": "94385e0d",
   "metadata": {},
   "outputs": [
    {
     "data": {
      "text/plain": [
       "array([[35, 74],\n",
       "       [37, 37],\n",
       "       [39, 93]])"
      ]
     },
     "execution_count": 74,
     "metadata": {},
     "output_type": "execute_result"
    }
   ],
   "source": [
    "demo_matrix[0:3, 1:3]"
   ]
  },
  {
   "cell_type": "code",
   "execution_count": 81,
   "id": "2a9b6b16",
   "metadata": {},
   "outputs": [],
   "source": [
    "demo_array = np.array(np.arange(1,11))"
   ]
  },
  {
   "cell_type": "code",
   "execution_count": 82,
   "id": "125e54b9",
   "metadata": {},
   "outputs": [],
   "source": [
    "demo_array[:7]=5"
   ]
  },
  {
   "cell_type": "code",
   "execution_count": 83,
   "id": "d00fc313",
   "metadata": {},
   "outputs": [
    {
     "data": {
      "text/plain": [
       "array([ 5,  5,  5,  5,  5,  5,  5,  8,  9, 10])"
      ]
     },
     "execution_count": 83,
     "metadata": {},
     "output_type": "execute_result"
    }
   ],
   "source": [
    "demo_array"
   ]
  },
  {
   "cell_type": "code",
   "execution_count": 84,
   "id": "0a1e232d",
   "metadata": {},
   "outputs": [
    {
     "data": {
      "text/plain": [
       "array([ True,  True,  True, False, False, False, False, False, False,\n",
       "       False])"
      ]
     },
     "execution_count": 84,
     "metadata": {},
     "output_type": "execute_result"
    }
   ],
   "source": [
    "import numpy as np\n",
    "demo_array = np.arange(0,10)\n",
    "demo_array<3"
   ]
  },
  {
   "cell_type": "code",
   "execution_count": 85,
   "id": "dc9e7ea4",
   "metadata": {},
   "outputs": [
    {
     "data": {
      "text/plain": [
       "5"
      ]
     },
     "execution_count": 85,
     "metadata": {},
     "output_type": "execute_result"
    }
   ],
   "source": [
    "flowers = pd.Series([2, 3, 5, 4], index=['lily', 'rose', 'daisy', 'lotus'])\n",
    "flowers['daisy']"
   ]
  },
  {
   "cell_type": "code",
   "execution_count": 90,
   "id": "90bc6e2d",
   "metadata": {},
   "outputs": [
    {
     "data": {
      "text/html": [
       "<div>\n",
       "<style scoped>\n",
       "    .dataframe tbody tr th:only-of-type {\n",
       "        vertical-align: middle;\n",
       "    }\n",
       "\n",
       "    .dataframe tbody tr th {\n",
       "        vertical-align: top;\n",
       "    }\n",
       "\n",
       "    .dataframe thead th {\n",
       "        text-align: right;\n",
       "    }\n",
       "</style>\n",
       "<table border=\"1\" class=\"dataframe\">\n",
       "  <thead>\n",
       "    <tr style=\"text-align: right;\">\n",
       "      <th></th>\n",
       "      <th>customer</th>\n",
       "      <th>category</th>\n",
       "      <th>important</th>\n",
       "      <th>sales</th>\n",
       "    </tr>\n",
       "  </thead>\n",
       "  <tbody>\n",
       "    <tr>\n",
       "      <th>0</th>\n",
       "      <td>101</td>\n",
       "      <td>cat2</td>\n",
       "      <td>yes</td>\n",
       "      <td>123</td>\n",
       "    </tr>\n",
       "    <tr>\n",
       "      <th>1</th>\n",
       "      <td>102</td>\n",
       "      <td>cat2</td>\n",
       "      <td>no</td>\n",
       "      <td>52</td>\n",
       "    </tr>\n",
       "    <tr>\n",
       "      <th>2</th>\n",
       "      <td>103</td>\n",
       "      <td>cat1</td>\n",
       "      <td>yes</td>\n",
       "      <td>214</td>\n",
       "    </tr>\n",
       "    <tr>\n",
       "      <th>3</th>\n",
       "      <td>104</td>\n",
       "      <td>cat3</td>\n",
       "      <td>yes</td>\n",
       "      <td>663</td>\n",
       "    </tr>\n",
       "  </tbody>\n",
       "</table>\n",
       "</div>"
      ],
      "text/plain": [
       "   customer category important  sales\n",
       "0       101     cat2       yes    123\n",
       "1       102     cat2        no     52\n",
       "2       103     cat1       yes    214\n",
       "3       104     cat3       yes    663"
      ]
     },
     "execution_count": 90,
     "metadata": {},
     "output_type": "execute_result"
    }
   ],
   "source": [
    "data_customer = pd.DataFrame({'customer': [101,102,103,104]\n",
    "                           ,'category': ['cat2','cat2','cat1','cat3']\n",
    "                           ,'important': ['yes','no','yes','yes']\n",
    "                           ,'sales': [123,52,214,663]\n",
    "                           })\n",
    "data_customer"
   ]
  },
  {
   "cell_type": "code",
   "execution_count": 89,
   "id": "5da6c7b2",
   "metadata": {},
   "outputs": [
    {
     "data": {
      "text/plain": [
       "cat2    2\n",
       "cat1    1\n",
       "cat3    1\n",
       "Name: category, dtype: int64"
      ]
     },
     "execution_count": 89,
     "metadata": {},
     "output_type": "execute_result"
    }
   ],
   "source": [
    "data_customer['category'].value_counts()"
   ]
  },
  {
   "cell_type": "code",
   "execution_count": 91,
   "id": "7011078b",
   "metadata": {},
   "outputs": [
    {
     "data": {
      "text/html": [
       "<div>\n",
       "<style scoped>\n",
       "    .dataframe tbody tr th:only-of-type {\n",
       "        vertical-align: middle;\n",
       "    }\n",
       "\n",
       "    .dataframe tbody tr th {\n",
       "        vertical-align: top;\n",
       "    }\n",
       "\n",
       "    .dataframe thead th {\n",
       "        text-align: right;\n",
       "    }\n",
       "</style>\n",
       "<table border=\"1\" class=\"dataframe\">\n",
       "  <thead>\n",
       "    <tr style=\"text-align: right;\">\n",
       "      <th></th>\n",
       "      <th>customer</th>\n",
       "      <th>category</th>\n",
       "      <th>important</th>\n",
       "      <th>sales</th>\n",
       "    </tr>\n",
       "  </thead>\n",
       "  <tbody>\n",
       "    <tr>\n",
       "      <th>3</th>\n",
       "      <td>104</td>\n",
       "      <td>cat3</td>\n",
       "      <td>yes</td>\n",
       "      <td>663</td>\n",
       "    </tr>\n",
       "    <tr>\n",
       "      <th>2</th>\n",
       "      <td>103</td>\n",
       "      <td>cat1</td>\n",
       "      <td>yes</td>\n",
       "      <td>214</td>\n",
       "    </tr>\n",
       "    <tr>\n",
       "      <th>0</th>\n",
       "      <td>101</td>\n",
       "      <td>cat2</td>\n",
       "      <td>yes</td>\n",
       "      <td>123</td>\n",
       "    </tr>\n",
       "    <tr>\n",
       "      <th>1</th>\n",
       "      <td>102</td>\n",
       "      <td>cat2</td>\n",
       "      <td>no</td>\n",
       "      <td>52</td>\n",
       "    </tr>\n",
       "  </tbody>\n",
       "</table>\n",
       "</div>"
      ],
      "text/plain": [
       "   customer category important  sales\n",
       "3       104     cat3       yes    663\n",
       "2       103     cat1       yes    214\n",
       "0       101     cat2       yes    123\n",
       "1       102     cat2        no     52"
      ]
     },
     "execution_count": 91,
     "metadata": {},
     "output_type": "execute_result"
    }
   ],
   "source": [
    "data_customer.sort_values(by='sales',ascending=False)"
   ]
  },
  {
   "cell_type": "code",
   "execution_count": 92,
   "id": "98bb80a5",
   "metadata": {},
   "outputs": [
    {
     "data": {
      "text/html": [
       "<div>\n",
       "<style scoped>\n",
       "    .dataframe tbody tr th:only-of-type {\n",
       "        vertical-align: middle;\n",
       "    }\n",
       "\n",
       "    .dataframe tbody tr th {\n",
       "        vertical-align: top;\n",
       "    }\n",
       "\n",
       "    .dataframe thead th {\n",
       "        text-align: right;\n",
       "    }\n",
       "</style>\n",
       "<table border=\"1\" class=\"dataframe\">\n",
       "  <thead>\n",
       "    <tr style=\"text-align: right;\">\n",
       "      <th></th>\n",
       "      <th>customer</th>\n",
       "      <th>sales</th>\n",
       "    </tr>\n",
       "  </thead>\n",
       "  <tbody>\n",
       "    <tr>\n",
       "      <th>1</th>\n",
       "      <td>102</td>\n",
       "      <td>52</td>\n",
       "    </tr>\n",
       "    <tr>\n",
       "      <th>2</th>\n",
       "      <td>103</td>\n",
       "      <td>214</td>\n",
       "    </tr>\n",
       "  </tbody>\n",
       "</table>\n",
       "</div>"
      ],
      "text/plain": [
       "   customer  sales\n",
       "1       102     52\n",
       "2       103    214"
      ]
     },
     "execution_count": 92,
     "metadata": {},
     "output_type": "execute_result"
    }
   ],
   "source": [
    "data_customer.loc[[1,2], ['customer', 'sales']]"
   ]
  },
  {
   "cell_type": "code",
   "execution_count": 95,
   "id": "f783c3d7",
   "metadata": {},
   "outputs": [
    {
     "data": {
      "text/plain": [
       "customer\n",
       "101    123.0\n",
       "102     52.0\n",
       "103    214.0\n",
       "104    663.0\n",
       "Name: sales, dtype: float64"
      ]
     },
     "execution_count": 95,
     "metadata": {},
     "output_type": "execute_result"
    }
   ],
   "source": [
    "data_customer.groupby(['customer'])['sales'].mean()"
   ]
  },
  {
   "cell_type": "code",
   "execution_count": 94,
   "id": "c65d898b",
   "metadata": {},
   "outputs": [
    {
     "ename": "NameError",
     "evalue": "name 'data_cust' is not defined",
     "output_type": "error",
     "traceback": [
      "\u001b[1;31m---------------------------------------------------------------------------\u001b[0m",
      "\u001b[1;31mNameError\u001b[0m                                 Traceback (most recent call last)",
      "Cell \u001b[1;32mIn[94], line 1\u001b[0m\n\u001b[1;32m----> 1\u001b[0m \u001b[43mdata_cust\u001b[49m([\u001b[38;5;124m'\u001b[39m\u001b[38;5;124mcustomer\u001b[39m\u001b[38;5;124m'\u001b[39m])[\u001b[38;5;124m'\u001b[39m\u001b[38;5;124msales\u001b[39m\u001b[38;5;124m'\u001b[39m]\u001b[38;5;241m.\u001b[39mmean()\n",
      "\u001b[1;31mNameError\u001b[0m: name 'data_cust' is not defined"
     ]
    }
   ],
   "source": [
    "data_cust(['customer'])['sales'].mean()"
   ]
  },
  {
   "cell_type": "code",
   "execution_count": null,
   "id": "bd79ec39",
   "metadata": {},
   "outputs": [],
   "source": []
  },
  {
   "cell_type": "code",
   "execution_count": null,
   "id": "9ef55891",
   "metadata": {},
   "outputs": [],
   "source": []
  },
  {
   "cell_type": "code",
   "execution_count": 2,
   "id": "7cf39d7a",
   "metadata": {},
   "outputs": [],
   "source": [
    "arr_str = ['aa','bb','cc']\n",
    "arr_num = [1,2,3]"
   ]
  },
  {
   "cell_type": "code",
   "execution_count": 4,
   "id": "6158255f",
   "metadata": {},
   "outputs": [],
   "source": [
    "np_arr_str = np.array(arr_str)\n",
    "np_arr_num = np.array(arr_num)"
   ]
  },
  {
   "cell_type": "code",
   "execution_count": 5,
   "id": "41122061",
   "metadata": {},
   "outputs": [
    {
     "data": {
      "text/plain": [
       "array(['aa', 'bb', 'cc'], dtype='<U2')"
      ]
     },
     "execution_count": 5,
     "metadata": {},
     "output_type": "execute_result"
    }
   ],
   "source": [
    "np_arr_str"
   ]
  },
  {
   "cell_type": "code",
   "execution_count": 7,
   "id": "5aed349f",
   "metadata": {},
   "outputs": [],
   "source": [
    "matrix = np.array([[1,2,3],[4,5,6],[7,8,9]])"
   ]
  },
  {
   "cell_type": "code",
   "execution_count": 10,
   "id": "4c3c9d82",
   "metadata": {},
   "outputs": [
    {
     "data": {
      "text/plain": [
       "array([[10, 20, 30],\n",
       "       [40, 50, 60],\n",
       "       [70, 80, 90]])"
      ]
     },
     "execution_count": 10,
     "metadata": {},
     "output_type": "execute_result"
    }
   ],
   "source": [
    "matrix * 10"
   ]
  },
  {
   "cell_type": "code",
   "execution_count": 9,
   "id": "b72d7122",
   "metadata": {},
   "outputs": [
    {
     "data": {
      "text/plain": [
       "numpy.ndarray"
      ]
     },
     "execution_count": 9,
     "metadata": {},
     "output_type": "execute_result"
    }
   ],
   "source": [
    "type(matrix)"
   ]
  },
  {
   "cell_type": "code",
   "execution_count": 11,
   "id": "8e231acf",
   "metadata": {},
   "outputs": [
    {
     "name": "stdout",
     "output_type": "stream",
     "text": [
      "['Cricket' 'Football' 'Tennis' 'Golf' 'Baseball']\n"
     ]
    }
   ],
   "source": [
    "sports = ['Cricket', 'Football', 'Tennis', 'Golf', 'Baseball']\n",
    "sports_new = np.array(sports)\n",
    "print(sports_new)"
   ]
  },
  {
   "cell_type": "code",
   "execution_count": 15,
   "id": "d438eb39",
   "metadata": {},
   "outputs": [
    {
     "data": {
      "text/plain": [
       "array([ 1,  4,  7, 10, 13])"
      ]
     },
     "execution_count": 15,
     "metadata": {},
     "output_type": "execute_result"
    }
   ],
   "source": [
    "np.arange(1,14,3)"
   ]
  },
  {
   "cell_type": "code",
   "execution_count": 18,
   "id": "e0588290",
   "metadata": {},
   "outputs": [],
   "source": [
    "l = np.linspace(1,10)"
   ]
  },
  {
   "cell_type": "code",
   "execution_count": 19,
   "id": "381b430c",
   "metadata": {},
   "outputs": [
    {
     "data": {
      "text/plain": [
       "50"
      ]
     },
     "execution_count": 19,
     "metadata": {},
     "output_type": "execute_result"
    }
   ],
   "source": [
    "len(l)"
   ]
  },
  {
   "cell_type": "code",
   "execution_count": 26,
   "id": "59d4849c",
   "metadata": {},
   "outputs": [
    {
     "data": {
      "text/plain": [
       "array([10.        , 11.11111111, 12.22222222, 13.33333333, 14.44444444,\n",
       "       15.55555556, 16.66666667, 17.77777778, 18.88888889, 20.        ])"
      ]
     },
     "execution_count": 26,
     "metadata": {},
     "output_type": "execute_result"
    }
   ],
   "source": [
    "np.linspace(start=10,stop=20,num=10)"
   ]
  },
  {
   "cell_type": "code",
   "execution_count": 23,
   "id": "3b9c1cf6",
   "metadata": {},
   "outputs": [],
   "source": [
    "?np.linspace"
   ]
  },
  {
   "cell_type": "code",
   "execution_count": 27,
   "id": "3b74c9ea",
   "metadata": {},
   "outputs": [
    {
     "data": {
      "text/plain": [
       "array([1., 1., 1., 1., 1., 1., 1., 1., 1., 1.])"
      ]
     },
     "execution_count": 27,
     "metadata": {},
     "output_type": "execute_result"
    }
   ],
   "source": [
    "np.ones(10)"
   ]
  },
  {
   "cell_type": "code",
   "execution_count": 30,
   "id": "5d501aed",
   "metadata": {},
   "outputs": [
    {
     "data": {
      "text/plain": [
       "array([[0.],\n",
       "       [0.],\n",
       "       [0.],\n",
       "       [0.],\n",
       "       [0.],\n",
       "       [0.],\n",
       "       [0.],\n",
       "       [0.],\n",
       "       [0.],\n",
       "       [0.]])"
      ]
     },
     "execution_count": 30,
     "metadata": {},
     "output_type": "execute_result"
    }
   ],
   "source": [
    "np.zeros(10).reshape(10,1)"
   ]
  },
  {
   "cell_type": "code",
   "execution_count": 32,
   "id": "80388226",
   "metadata": {},
   "outputs": [
    {
     "data": {
      "text/plain": [
       "array([[1., 0., 0.],\n",
       "       [0., 1., 0.],\n",
       "       [0., 0., 1.]])"
      ]
     },
     "execution_count": 32,
     "metadata": {},
     "output_type": "execute_result"
    }
   ],
   "source": [
    "np.eye(3)"
   ]
  },
  {
   "cell_type": "code",
   "execution_count": 33,
   "id": "12a5fc97",
   "metadata": {},
   "outputs": [
    {
     "name": "stdout",
     "output_type": "stream",
     "text": [
      "[10 13 16 19]\n"
     ]
    }
   ],
   "source": [
    "vec = np.arange(10, 20, 3)\n",
    "print(vec)"
   ]
  },
  {
   "cell_type": "code",
   "execution_count": 34,
   "id": "a65c80fc",
   "metadata": {},
   "outputs": [
    {
     "name": "stdout",
     "output_type": "stream",
     "text": [
      "[10. 15. 20.]\n"
     ]
    }
   ],
   "source": [
    "vec = np.linspace(10,20,3)\n",
    "print(vec)"
   ]
  },
  {
   "cell_type": "code",
   "execution_count": 35,
   "id": "88bcc9d7",
   "metadata": {},
   "outputs": [
    {
     "name": "stdout",
     "output_type": "stream",
     "text": [
      "[[0. 0. 0.]\n",
      " [0. 0. 0.]]\n"
     ]
    }
   ],
   "source": [
    "vec = np.zeros([2,3])\n",
    "print(vec)"
   ]
  },
  {
   "cell_type": "code",
   "execution_count": 36,
   "id": "830b0496",
   "metadata": {},
   "outputs": [
    {
     "name": "stdout",
     "output_type": "stream",
     "text": [
      "[[ 0  1  2]\n",
      " [ 3  4  5]\n",
      " [ 6  7  8]\n",
      " [ 9 10 11]]\n"
     ]
    }
   ],
   "source": [
    "vec1 = np.arange(0, 12)\n",
    "vec2 = vec1.reshape(4, 3)\n",
    "print(vec2)"
   ]
  },
  {
   "cell_type": "code",
   "execution_count": 37,
   "id": "0ac47587",
   "metadata": {},
   "outputs": [
    {
     "ename": "ValueError",
     "evalue": "cannot reshape array of size 5 into shape (2,3)",
     "output_type": "error",
     "traceback": [
      "\u001b[1;31m---------------------------------------------------------------------------\u001b[0m",
      "\u001b[1;31mValueError\u001b[0m                                Traceback (most recent call last)",
      "Cell \u001b[1;32mIn[37], line 2\u001b[0m\n\u001b[0;32m      1\u001b[0m vec \u001b[38;5;241m=\u001b[39m np\u001b[38;5;241m.\u001b[39marange(\u001b[38;5;241m0\u001b[39m,\u001b[38;5;241m5\u001b[39m) \n\u001b[1;32m----> 2\u001b[0m \u001b[38;5;28mprint\u001b[39m(\u001b[43mvec\u001b[49m\u001b[38;5;241;43m.\u001b[39;49m\u001b[43mreshape\u001b[49m\u001b[43m(\u001b[49m\u001b[43m(\u001b[49m\u001b[38;5;241;43m2\u001b[39;49m\u001b[43m,\u001b[49m\u001b[38;5;241;43m3\u001b[39;49m\u001b[43m)\u001b[49m\u001b[43m)\u001b[49m)\n",
      "\u001b[1;31mValueError\u001b[0m: cannot reshape array of size 5 into shape (2,3)"
     ]
    }
   ],
   "source": [
    "vec = np.arange(0,5) \n",
    "print(vec.reshape((2,3)))"
   ]
  },
  {
   "cell_type": "code",
   "execution_count": 38,
   "id": "ff89efb5",
   "metadata": {},
   "outputs": [
    {
     "name": "stdout",
     "output_type": "stream",
     "text": [
      "[10, 15, 20, 15, 25, 35]\n"
     ]
    }
   ],
   "source": [
    "vec1 = [10,15,20]\n",
    "vec2 = [15,25,35]\n",
    "print(vec1+vec2)"
   ]
  },
  {
   "cell_type": "code",
   "execution_count": 39,
   "id": "74b8e157",
   "metadata": {},
   "outputs": [
    {
     "ename": "ValueError",
     "evalue": "operands could not be broadcast together with shapes (4,) (3,) ",
     "output_type": "error",
     "traceback": [
      "\u001b[1;31m---------------------------------------------------------------------------\u001b[0m",
      "\u001b[1;31mValueError\u001b[0m                                Traceback (most recent call last)",
      "Cell \u001b[1;32mIn[39], line 3\u001b[0m\n\u001b[0;32m      1\u001b[0m vec1 \u001b[38;5;241m=\u001b[39m np\u001b[38;5;241m.\u001b[39mlinspace(\u001b[38;5;241m20\u001b[39m,\u001b[38;5;241m50\u001b[39m,\u001b[38;5;241m4\u001b[39m)\n\u001b[0;32m      2\u001b[0m vec2 \u001b[38;5;241m=\u001b[39m np\u001b[38;5;241m.\u001b[39mlinspace(\u001b[38;5;241m100\u001b[39m,\u001b[38;5;241m120\u001b[39m,\u001b[38;5;241m3\u001b[39m)\n\u001b[1;32m----> 3\u001b[0m \u001b[38;5;28mprint\u001b[39m(\u001b[43mvec1\u001b[49m\u001b[43m \u001b[49m\u001b[38;5;241;43m+\u001b[39;49m\u001b[43m \u001b[49m\u001b[43mvec2\u001b[49m)\n",
      "\u001b[1;31mValueError\u001b[0m: operands could not be broadcast together with shapes (4,) (3,) "
     ]
    }
   ],
   "source": [
    "vec1 = np.linspace(20,50,4)\n",
    "vec2 = np.linspace(100,120,3)\n",
    "print(vec1 + vec2)"
   ]
  },
  {
   "cell_type": "code",
   "execution_count": 40,
   "id": "22522f60",
   "metadata": {},
   "outputs": [
    {
     "name": "stdout",
     "output_type": "stream",
     "text": [
      "[0.5        0.33333333 0.25      ]\n",
      "[ 4  9 16]\n"
     ]
    }
   ],
   "source": [
    "vec = np.arange(2,5,1)\n",
    "print(1/vec)\n",
    "print(vec**2)"
   ]
  },
  {
   "cell_type": "code",
   "execution_count": 41,
   "id": "9ea4de8b",
   "metadata": {},
   "outputs": [
    {
     "name": "stdout",
     "output_type": "stream",
     "text": [
      "[[ 1. inf]\n",
      " [inf  4.]]\n"
     ]
    },
    {
     "name": "stderr",
     "output_type": "stream",
     "text": [
      "c:\\temp\\ipykernel_28836\\3306162440.py:3: RuntimeWarning: divide by zero encountered in divide\n",
      "  print(mat1/mat2)\n"
     ]
    }
   ],
   "source": [
    "mat1 = np.arange(1,5).reshape(2,2)\n",
    "mat2 = np.eye(2)\n",
    "print(mat1/mat2)"
   ]
  },
  {
   "cell_type": "code",
   "execution_count": 42,
   "id": "05626d70",
   "metadata": {},
   "outputs": [
    {
     "name": "stdout",
     "output_type": "stream",
     "text": [
      "-9\n",
      "-1\n"
     ]
    }
   ],
   "source": [
    "mat1 = np.arange(-9,0,1).reshape(3,3)\n",
    "print(np.min(mat1))\n",
    "print(np.max(mat1))"
   ]
  },
  {
   "cell_type": "code",
   "execution_count": 49,
   "id": "44e6023a",
   "metadata": {},
   "outputs": [],
   "source": [
    " x = np.arange(-9,0,1)"
   ]
  },
  {
   "cell_type": "code",
   "execution_count": 50,
   "id": "d9d547e0",
   "metadata": {},
   "outputs": [
    {
     "data": {
      "text/plain": [
       "array([-9, -8, -7, -6, -5, -4, -3, -2, -1])"
      ]
     },
     "execution_count": 50,
     "metadata": {},
     "output_type": "execute_result"
    }
   ],
   "source": [
    "x"
   ]
  },
  {
   "cell_type": "code",
   "execution_count": 51,
   "id": "35b689c3",
   "metadata": {},
   "outputs": [
    {
     "data": {
      "text/plain": [
       "array([-7, -6])"
      ]
     },
     "execution_count": 51,
     "metadata": {},
     "output_type": "execute_result"
    }
   ],
   "source": [
    "x[2:4]"
   ]
  },
  {
   "cell_type": "code",
   "execution_count": 52,
   "id": "f6c25978",
   "metadata": {},
   "outputs": [
    {
     "name": "stdout",
     "output_type": "stream",
     "text": [
      "5\n"
     ]
    }
   ],
   "source": [
    "matrix = np.array([[1,2,3],[4,5,6],[7,8,9]])\n",
    "print(matrix[1][1])"
   ]
  },
  {
   "cell_type": "code",
   "execution_count": 53,
   "id": "ef1e35d8",
   "metadata": {},
   "outputs": [
    {
     "name": "stdout",
     "output_type": "stream",
     "text": [
      "[ 7  8  9 10]\n"
     ]
    }
   ],
   "source": [
    "vec = np.array([4,7,8,9,10,6,1])\n",
    "print(vec[vec>6])"
   ]
  },
  {
   "cell_type": "code",
   "execution_count": 54,
   "id": "bffbd66f",
   "metadata": {},
   "outputs": [
    {
     "name": "stdout",
     "output_type": "stream",
     "text": [
      "[4 2 2 2 2 6 1]\n"
     ]
    }
   ],
   "source": [
    "vec1 = np.array([4, 7, 8, 9, 10, 6, 1])\n",
    "vec1[vec1>6] = 2\n",
    "print(vec1)"
   ]
  },
  {
   "cell_type": "code",
   "execution_count": 56,
   "id": "a68fe6c1",
   "metadata": {},
   "outputs": [
    {
     "data": {
      "text/plain": [
       "array([[1, 2, 3],\n",
       "       [4, 5, 6],\n",
       "       [7, 8, 9]])"
      ]
     },
     "execution_count": 56,
     "metadata": {},
     "output_type": "execute_result"
    }
   ],
   "source": [
    "np.arange(1,10).reshape(3,3)"
   ]
  },
  {
   "cell_type": "code",
   "execution_count": 55,
   "id": "664f3e3f",
   "metadata": {},
   "outputs": [
    {
     "name": "stdout",
     "output_type": "stream",
     "text": [
      "[[1 0 3]\n",
      " [4 0 6]\n",
      " [7 8 9]]\n"
     ]
    }
   ],
   "source": [
    "matrix = np.arange(1,10).reshape(3,3)\n",
    "matrix[0:2,1:2] = 0\n",
    "print(matrix)"
   ]
  },
  {
   "cell_type": "code",
   "execution_count": 57,
   "id": "2a65b93e",
   "metadata": {},
   "outputs": [],
   "source": [
    "import numpy as np\n",
    "array1 = np.array([[1,2,3],[4,5,6],[7,8,9]])\n",
    "array2 = array1\n"
   ]
  },
  {
   "cell_type": "code",
   "execution_count": 58,
   "id": "992105fa",
   "metadata": {},
   "outputs": [],
   "source": [
    "array1[0:2,1:2] = 0"
   ]
  },
  {
   "cell_type": "code",
   "execution_count": 59,
   "id": "3c1bea72",
   "metadata": {},
   "outputs": [
    {
     "data": {
      "text/plain": [
       "array([[1, 0, 3],\n",
       "       [4, 0, 6],\n",
       "       [7, 8, 9]])"
      ]
     },
     "execution_count": 59,
     "metadata": {},
     "output_type": "execute_result"
    }
   ],
   "source": [
    "array2"
   ]
  },
  {
   "cell_type": "code",
   "execution_count": 60,
   "id": "77c6fbf9",
   "metadata": {},
   "outputs": [
    {
     "data": {
      "text/plain": [
       "array([[1, 0, 3],\n",
       "       [4, 0, 6],\n",
       "       [7, 8, 9]])"
      ]
     },
     "execution_count": 60,
     "metadata": {},
     "output_type": "execute_result"
    }
   ],
   "source": [
    "array1"
   ]
  },
  {
   "cell_type": "code",
   "execution_count": 61,
   "id": "1e9dc317",
   "metadata": {},
   "outputs": [],
   "source": [
    "import pandas as pd"
   ]
  },
  {
   "cell_type": "code",
   "execution_count": 62,
   "id": "4b529db7",
   "metadata": {},
   "outputs": [
    {
     "data": {
      "text/html": [
       "<div>\n",
       "<style scoped>\n",
       "    .dataframe tbody tr th:only-of-type {\n",
       "        vertical-align: middle;\n",
       "    }\n",
       "\n",
       "    .dataframe tbody tr th {\n",
       "        vertical-align: top;\n",
       "    }\n",
       "\n",
       "    .dataframe thead th {\n",
       "        text-align: right;\n",
       "    }\n",
       "</style>\n",
       "<table border=\"1\" class=\"dataframe\">\n",
       "  <thead>\n",
       "    <tr style=\"text-align: right;\">\n",
       "      <th></th>\n",
       "    </tr>\n",
       "  </thead>\n",
       "  <tbody>\n",
       "  </tbody>\n",
       "</table>\n",
       "</div>"
      ],
      "text/plain": [
       "Empty DataFrame\n",
       "Columns: []\n",
       "Index: []"
      ]
     },
     "execution_count": 62,
     "metadata": {},
     "output_type": "execute_result"
    }
   ],
   "source": [
    "pd.DataFrame()"
   ]
  },
  {
   "cell_type": "code",
   "execution_count": 63,
   "id": "0a4aca78",
   "metadata": {},
   "outputs": [],
   "source": [
    "day = ['day1', 'day2', 'day3', 'day4']\n",
    "temperature = [31, 28, 30, 32] #temperature in degree Celsius\n",
    "temp_data = pd.Series(temperature, index=day)"
   ]
  },
  {
   "cell_type": "code",
   "execution_count": 71,
   "id": "c32943e4",
   "metadata": {},
   "outputs": [
    {
     "data": {
      "text/plain": [
       "day3    30\n",
       "day4    32\n",
       "dtype: int64"
      ]
     },
     "execution_count": 71,
     "metadata": {},
     "output_type": "execute_result"
    }
   ],
   "source": [
    "temp_data[2:]"
   ]
  },
  {
   "cell_type": "code",
   "execution_count": 72,
   "id": "b070b3b4",
   "metadata": {},
   "outputs": [
    {
     "data": {
      "text/plain": [
       "array([[1, 0, 3],\n",
       "       [4, 0, 6],\n",
       "       [7, 8, 9]])"
      ]
     },
     "execution_count": 72,
     "metadata": {},
     "output_type": "execute_result"
    }
   ],
   "source": [
    "array1"
   ]
  },
  {
   "cell_type": "code",
   "execution_count": 79,
   "id": "50b41fa5",
   "metadata": {},
   "outputs": [
    {
     "data": {
      "text/plain": [
       "array([[4, 0, 6]])"
      ]
     },
     "execution_count": 79,
     "metadata": {},
     "output_type": "execute_result"
    }
   ],
   "source": [
    "array1[1:2:2]"
   ]
  },
  {
   "cell_type": "code",
   "execution_count": 80,
   "id": "fa6aafb7",
   "metadata": {},
   "outputs": [],
   "source": [
    "df = pd.DataFrame({'num_legs': [2, 4, 8, 0],\n",
    "                    'num_wings': [2, 0, 0, 0],\n",
    "                    'num_specimen_seen': [10, 2, 1, 8]},\n",
    "                    index=['falcon', 'dog', 'spider', 'fish'])\n"
   ]
  },
  {
   "cell_type": "code",
   "execution_count": 83,
   "id": "8352ef4f",
   "metadata": {},
   "outputs": [
    {
     "data": {
      "text/html": [
       "<div>\n",
       "<style scoped>\n",
       "    .dataframe tbody tr th:only-of-type {\n",
       "        vertical-align: middle;\n",
       "    }\n",
       "\n",
       "    .dataframe tbody tr th {\n",
       "        vertical-align: top;\n",
       "    }\n",
       "\n",
       "    .dataframe thead th {\n",
       "        text-align: right;\n",
       "    }\n",
       "</style>\n",
       "<table border=\"1\" class=\"dataframe\">\n",
       "  <thead>\n",
       "    <tr style=\"text-align: right;\">\n",
       "      <th></th>\n",
       "      <th>num_legs</th>\n",
       "      <th>num_wings</th>\n",
       "      <th>num_specimen_seen</th>\n",
       "    </tr>\n",
       "  </thead>\n",
       "  <tbody>\n",
       "    <tr>\n",
       "      <th>falcon</th>\n",
       "      <td>2</td>\n",
       "      <td>2</td>\n",
       "      <td>10</td>\n",
       "    </tr>\n",
       "    <tr>\n",
       "      <th>dog</th>\n",
       "      <td>4</td>\n",
       "      <td>0</td>\n",
       "      <td>2</td>\n",
       "    </tr>\n",
       "    <tr>\n",
       "      <th>spider</th>\n",
       "      <td>8</td>\n",
       "      <td>0</td>\n",
       "      <td>1</td>\n",
       "    </tr>\n",
       "    <tr>\n",
       "      <th>fish</th>\n",
       "      <td>0</td>\n",
       "      <td>0</td>\n",
       "      <td>8</td>\n",
       "    </tr>\n",
       "  </tbody>\n",
       "</table>\n",
       "</div>"
      ],
      "text/plain": [
       "        num_legs  num_wings  num_specimen_seen\n",
       "falcon         2          2                 10\n",
       "dog            4          0                  2\n",
       "spider         8          0                  1\n",
       "fish           0          0                  8"
      ]
     },
     "execution_count": 83,
     "metadata": {},
     "output_type": "execute_result"
    }
   ],
   "source": [
    "df"
   ]
  },
  {
   "cell_type": "code",
   "execution_count": 88,
   "id": "b443112a",
   "metadata": {},
   "outputs": [
    {
     "data": {
      "text/html": [
       "<div>\n",
       "<style scoped>\n",
       "    .dataframe tbody tr th:only-of-type {\n",
       "        vertical-align: middle;\n",
       "    }\n",
       "\n",
       "    .dataframe tbody tr th {\n",
       "        vertical-align: top;\n",
       "    }\n",
       "\n",
       "    .dataframe thead th {\n",
       "        text-align: right;\n",
       "    }\n",
       "</style>\n",
       "<table border=\"1\" class=\"dataframe\">\n",
       "  <thead>\n",
       "    <tr style=\"text-align: right;\">\n",
       "      <th></th>\n",
       "      <th>num_legs</th>\n",
       "      <th>num_wings</th>\n",
       "      <th>num_specimen_seen</th>\n",
       "    </tr>\n",
       "  </thead>\n",
       "  <tbody>\n",
       "    <tr>\n",
       "      <th>dog</th>\n",
       "      <td>4</td>\n",
       "      <td>0</td>\n",
       "      <td>2</td>\n",
       "    </tr>\n",
       "    <tr>\n",
       "      <th>fish</th>\n",
       "      <td>0</td>\n",
       "      <td>0</td>\n",
       "      <td>8</td>\n",
       "    </tr>\n",
       "  </tbody>\n",
       "</table>\n",
       "</div>"
      ],
      "text/plain": [
       "      num_legs  num_wings  num_specimen_seen\n",
       "dog          4          0                  2\n",
       "fish         0          0                  8"
      ]
     },
     "execution_count": 88,
     "metadata": {},
     "output_type": "execute_result"
    }
   ],
   "source": [
    "df[1::2]"
   ]
  },
  {
   "cell_type": "code",
   "execution_count": 90,
   "id": "ee72521d",
   "metadata": {},
   "outputs": [
    {
     "data": {
      "text/html": [
       "<div>\n",
       "<style scoped>\n",
       "    .dataframe tbody tr th:only-of-type {\n",
       "        vertical-align: middle;\n",
       "    }\n",
       "\n",
       "    .dataframe tbody tr th {\n",
       "        vertical-align: top;\n",
       "    }\n",
       "\n",
       "    .dataframe thead th {\n",
       "        text-align: right;\n",
       "    }\n",
       "</style>\n",
       "<table border=\"1\" class=\"dataframe\">\n",
       "  <thead>\n",
       "    <tr style=\"text-align: right;\">\n",
       "      <th></th>\n",
       "      <th>num_legs</th>\n",
       "      <th>num_wings</th>\n",
       "      <th>num_specimen_seen</th>\n",
       "    </tr>\n",
       "  </thead>\n",
       "  <tbody>\n",
       "    <tr>\n",
       "      <th>falcon</th>\n",
       "      <td>2</td>\n",
       "      <td>2</td>\n",
       "      <td>10</td>\n",
       "    </tr>\n",
       "    <tr>\n",
       "      <th>spider</th>\n",
       "      <td>8</td>\n",
       "      <td>0</td>\n",
       "      <td>1</td>\n",
       "    </tr>\n",
       "  </tbody>\n",
       "</table>\n",
       "</div>"
      ],
      "text/plain": [
       "        num_legs  num_wings  num_specimen_seen\n",
       "falcon         2          2                 10\n",
       "spider         8          0                  1"
      ]
     },
     "execution_count": 90,
     "metadata": {},
     "output_type": "execute_result"
    }
   ],
   "source": [
    "df[::2]"
   ]
  },
  {
   "cell_type": "code",
   "execution_count": 102,
   "id": "6b26c3aa",
   "metadata": {},
   "outputs": [
    {
     "data": {
      "text/html": [
       "<div>\n",
       "<style scoped>\n",
       "    .dataframe tbody tr th:only-of-type {\n",
       "        vertical-align: middle;\n",
       "    }\n",
       "\n",
       "    .dataframe tbody tr th {\n",
       "        vertical-align: top;\n",
       "    }\n",
       "\n",
       "    .dataframe thead th {\n",
       "        text-align: right;\n",
       "    }\n",
       "</style>\n",
       "<table border=\"1\" class=\"dataframe\">\n",
       "  <thead>\n",
       "    <tr style=\"text-align: right;\">\n",
       "      <th></th>\n",
       "      <th>num_legs</th>\n",
       "      <th>num_wings</th>\n",
       "      <th>num_specimen_seen</th>\n",
       "    </tr>\n",
       "  </thead>\n",
       "  <tbody>\n",
       "    <tr>\n",
       "      <th>falcon</th>\n",
       "      <td>2</td>\n",
       "      <td>2</td>\n",
       "      <td>10</td>\n",
       "    </tr>\n",
       "    <tr>\n",
       "      <th>dog</th>\n",
       "      <td>4</td>\n",
       "      <td>0</td>\n",
       "      <td>2</td>\n",
       "    </tr>\n",
       "    <tr>\n",
       "      <th>spider</th>\n",
       "      <td>8</td>\n",
       "      <td>0</td>\n",
       "      <td>1</td>\n",
       "    </tr>\n",
       "    <tr>\n",
       "      <th>fish</th>\n",
       "      <td>0</td>\n",
       "      <td>0</td>\n",
       "      <td>8</td>\n",
       "    </tr>\n",
       "  </tbody>\n",
       "</table>\n",
       "</div>"
      ],
      "text/plain": [
       "        num_legs  num_wings  num_specimen_seen\n",
       "falcon         2          2                 10\n",
       "dog            4          0                  2\n",
       "spider         8          0                  1\n",
       "fish           0          0                  8"
      ]
     },
     "execution_count": 102,
     "metadata": {},
     "output_type": "execute_result"
    }
   ],
   "source": [
    "df"
   ]
  },
  {
   "cell_type": "code",
   "execution_count": 118,
   "id": "a0d58511",
   "metadata": {},
   "outputs": [
    {
     "ename": "KeyError",
     "evalue": "0",
     "output_type": "error",
     "traceback": [
      "\u001b[1;31m---------------------------------------------------------------------------\u001b[0m",
      "\u001b[1;31mKeyError\u001b[0m                                  Traceback (most recent call last)",
      "File \u001b[1;32m~\\anaconda3\\lib\\site-packages\\pandas\\core\\indexes\\base.py:3802\u001b[0m, in \u001b[0;36mIndex.get_loc\u001b[1;34m(self, key, method, tolerance)\u001b[0m\n\u001b[0;32m   3801\u001b[0m \u001b[38;5;28;01mtry\u001b[39;00m:\n\u001b[1;32m-> 3802\u001b[0m     \u001b[38;5;28;01mreturn\u001b[39;00m \u001b[38;5;28;43mself\u001b[39;49m\u001b[38;5;241;43m.\u001b[39;49m\u001b[43m_engine\u001b[49m\u001b[38;5;241;43m.\u001b[39;49m\u001b[43mget_loc\u001b[49m\u001b[43m(\u001b[49m\u001b[43mcasted_key\u001b[49m\u001b[43m)\u001b[49m\n\u001b[0;32m   3803\u001b[0m \u001b[38;5;28;01mexcept\u001b[39;00m \u001b[38;5;167;01mKeyError\u001b[39;00m \u001b[38;5;28;01mas\u001b[39;00m err:\n",
      "File \u001b[1;32m~\\anaconda3\\lib\\site-packages\\pandas\\_libs\\index.pyx:138\u001b[0m, in \u001b[0;36mpandas._libs.index.IndexEngine.get_loc\u001b[1;34m()\u001b[0m\n",
      "File \u001b[1;32m~\\anaconda3\\lib\\site-packages\\pandas\\_libs\\index.pyx:165\u001b[0m, in \u001b[0;36mpandas._libs.index.IndexEngine.get_loc\u001b[1;34m()\u001b[0m\n",
      "File \u001b[1;32mpandas\\_libs\\hashtable_class_helper.pxi:5745\u001b[0m, in \u001b[0;36mpandas._libs.hashtable.PyObjectHashTable.get_item\u001b[1;34m()\u001b[0m\n",
      "File \u001b[1;32mpandas\\_libs\\hashtable_class_helper.pxi:5753\u001b[0m, in \u001b[0;36mpandas._libs.hashtable.PyObjectHashTable.get_item\u001b[1;34m()\u001b[0m\n",
      "\u001b[1;31mKeyError\u001b[0m: 0",
      "\nThe above exception was the direct cause of the following exception:\n",
      "\u001b[1;31mKeyError\u001b[0m                                  Traceback (most recent call last)",
      "Cell \u001b[1;32mIn[118], line 1\u001b[0m\n\u001b[1;32m----> 1\u001b[0m \u001b[43mdf\u001b[49m\u001b[38;5;241;43m.\u001b[39;49m\u001b[43mloc\u001b[49m\u001b[43m[\u001b[49m\u001b[38;5;241;43m0\u001b[39;49m\u001b[43m]\u001b[49m\n",
      "File \u001b[1;32m~\\anaconda3\\lib\\site-packages\\pandas\\core\\indexing.py:1073\u001b[0m, in \u001b[0;36m_LocationIndexer.__getitem__\u001b[1;34m(self, key)\u001b[0m\n\u001b[0;32m   1070\u001b[0m axis \u001b[38;5;241m=\u001b[39m \u001b[38;5;28mself\u001b[39m\u001b[38;5;241m.\u001b[39maxis \u001b[38;5;129;01mor\u001b[39;00m \u001b[38;5;241m0\u001b[39m\n\u001b[0;32m   1072\u001b[0m maybe_callable \u001b[38;5;241m=\u001b[39m com\u001b[38;5;241m.\u001b[39mapply_if_callable(key, \u001b[38;5;28mself\u001b[39m\u001b[38;5;241m.\u001b[39mobj)\n\u001b[1;32m-> 1073\u001b[0m \u001b[38;5;28;01mreturn\u001b[39;00m \u001b[38;5;28;43mself\u001b[39;49m\u001b[38;5;241;43m.\u001b[39;49m\u001b[43m_getitem_axis\u001b[49m\u001b[43m(\u001b[49m\u001b[43mmaybe_callable\u001b[49m\u001b[43m,\u001b[49m\u001b[43m \u001b[49m\u001b[43maxis\u001b[49m\u001b[38;5;241;43m=\u001b[39;49m\u001b[43maxis\u001b[49m\u001b[43m)\u001b[49m\n",
      "File \u001b[1;32m~\\anaconda3\\lib\\site-packages\\pandas\\core\\indexing.py:1312\u001b[0m, in \u001b[0;36m_LocIndexer._getitem_axis\u001b[1;34m(self, key, axis)\u001b[0m\n\u001b[0;32m   1310\u001b[0m \u001b[38;5;66;03m# fall thru to straight lookup\u001b[39;00m\n\u001b[0;32m   1311\u001b[0m \u001b[38;5;28mself\u001b[39m\u001b[38;5;241m.\u001b[39m_validate_key(key, axis)\n\u001b[1;32m-> 1312\u001b[0m \u001b[38;5;28;01mreturn\u001b[39;00m \u001b[38;5;28;43mself\u001b[39;49m\u001b[38;5;241;43m.\u001b[39;49m\u001b[43m_get_label\u001b[49m\u001b[43m(\u001b[49m\u001b[43mkey\u001b[49m\u001b[43m,\u001b[49m\u001b[43m \u001b[49m\u001b[43maxis\u001b[49m\u001b[38;5;241;43m=\u001b[39;49m\u001b[43maxis\u001b[49m\u001b[43m)\u001b[49m\n",
      "File \u001b[1;32m~\\anaconda3\\lib\\site-packages\\pandas\\core\\indexing.py:1260\u001b[0m, in \u001b[0;36m_LocIndexer._get_label\u001b[1;34m(self, label, axis)\u001b[0m\n\u001b[0;32m   1258\u001b[0m \u001b[38;5;28;01mdef\u001b[39;00m \u001b[38;5;21m_get_label\u001b[39m(\u001b[38;5;28mself\u001b[39m, label, axis: \u001b[38;5;28mint\u001b[39m):\n\u001b[0;32m   1259\u001b[0m     \u001b[38;5;66;03m# GH#5567 this will fail if the label is not present in the axis.\u001b[39;00m\n\u001b[1;32m-> 1260\u001b[0m     \u001b[38;5;28;01mreturn\u001b[39;00m \u001b[38;5;28;43mself\u001b[39;49m\u001b[38;5;241;43m.\u001b[39;49m\u001b[43mobj\u001b[49m\u001b[38;5;241;43m.\u001b[39;49m\u001b[43mxs\u001b[49m\u001b[43m(\u001b[49m\u001b[43mlabel\u001b[49m\u001b[43m,\u001b[49m\u001b[43m \u001b[49m\u001b[43maxis\u001b[49m\u001b[38;5;241;43m=\u001b[39;49m\u001b[43maxis\u001b[49m\u001b[43m)\u001b[49m\n",
      "File \u001b[1;32m~\\anaconda3\\lib\\site-packages\\pandas\\core\\generic.py:4056\u001b[0m, in \u001b[0;36mNDFrame.xs\u001b[1;34m(self, key, axis, level, drop_level)\u001b[0m\n\u001b[0;32m   4054\u001b[0m             new_index \u001b[38;5;241m=\u001b[39m index[loc]\n\u001b[0;32m   4055\u001b[0m \u001b[38;5;28;01melse\u001b[39;00m:\n\u001b[1;32m-> 4056\u001b[0m     loc \u001b[38;5;241m=\u001b[39m \u001b[43mindex\u001b[49m\u001b[38;5;241;43m.\u001b[39;49m\u001b[43mget_loc\u001b[49m\u001b[43m(\u001b[49m\u001b[43mkey\u001b[49m\u001b[43m)\u001b[49m\n\u001b[0;32m   4058\u001b[0m     \u001b[38;5;28;01mif\u001b[39;00m \u001b[38;5;28misinstance\u001b[39m(loc, np\u001b[38;5;241m.\u001b[39mndarray):\n\u001b[0;32m   4059\u001b[0m         \u001b[38;5;28;01mif\u001b[39;00m loc\u001b[38;5;241m.\u001b[39mdtype \u001b[38;5;241m==\u001b[39m np\u001b[38;5;241m.\u001b[39mbool_:\n",
      "File \u001b[1;32m~\\anaconda3\\lib\\site-packages\\pandas\\core\\indexes\\base.py:3804\u001b[0m, in \u001b[0;36mIndex.get_loc\u001b[1;34m(self, key, method, tolerance)\u001b[0m\n\u001b[0;32m   3802\u001b[0m     \u001b[38;5;28;01mreturn\u001b[39;00m \u001b[38;5;28mself\u001b[39m\u001b[38;5;241m.\u001b[39m_engine\u001b[38;5;241m.\u001b[39mget_loc(casted_key)\n\u001b[0;32m   3803\u001b[0m \u001b[38;5;28;01mexcept\u001b[39;00m \u001b[38;5;167;01mKeyError\u001b[39;00m \u001b[38;5;28;01mas\u001b[39;00m err:\n\u001b[1;32m-> 3804\u001b[0m     \u001b[38;5;28;01mraise\u001b[39;00m \u001b[38;5;167;01mKeyError\u001b[39;00m(key) \u001b[38;5;28;01mfrom\u001b[39;00m \u001b[38;5;21;01merr\u001b[39;00m\n\u001b[0;32m   3805\u001b[0m \u001b[38;5;28;01mexcept\u001b[39;00m \u001b[38;5;167;01mTypeError\u001b[39;00m:\n\u001b[0;32m   3806\u001b[0m     \u001b[38;5;66;03m# If we have a listlike key, _check_indexing_error will raise\u001b[39;00m\n\u001b[0;32m   3807\u001b[0m     \u001b[38;5;66;03m#  InvalidIndexError. Otherwise we fall through and re-raise\u001b[39;00m\n\u001b[0;32m   3808\u001b[0m     \u001b[38;5;66;03m#  the TypeError.\u001b[39;00m\n\u001b[0;32m   3809\u001b[0m     \u001b[38;5;28mself\u001b[39m\u001b[38;5;241m.\u001b[39m_check_indexing_error(key)\n",
      "\u001b[1;31mKeyError\u001b[0m: 0"
     ]
    }
   ],
   "source": [
    "df.loc[0]"
   ]
  },
  {
   "cell_type": "code",
   "execution_count": 106,
   "id": "3abb0d71",
   "metadata": {},
   "outputs": [
    {
     "data": {
      "text/html": [
       "<div>\n",
       "<style scoped>\n",
       "    .dataframe tbody tr th:only-of-type {\n",
       "        vertical-align: middle;\n",
       "    }\n",
       "\n",
       "    .dataframe tbody tr th {\n",
       "        vertical-align: top;\n",
       "    }\n",
       "\n",
       "    .dataframe thead th {\n",
       "        text-align: right;\n",
       "    }\n",
       "</style>\n",
       "<table border=\"1\" class=\"dataframe\">\n",
       "  <thead>\n",
       "    <tr style=\"text-align: right;\">\n",
       "      <th></th>\n",
       "      <th>num_wings</th>\n",
       "    </tr>\n",
       "  </thead>\n",
       "  <tbody>\n",
       "    <tr>\n",
       "      <th>dog</th>\n",
       "      <td>0</td>\n",
       "    </tr>\n",
       "    <tr>\n",
       "      <th>spider</th>\n",
       "      <td>0</td>\n",
       "    </tr>\n",
       "    <tr>\n",
       "      <th>fish</th>\n",
       "      <td>0</td>\n",
       "    </tr>\n",
       "  </tbody>\n",
       "</table>\n",
       "</div>"
      ],
      "text/plain": [
       "        num_wings\n",
       "dog             0\n",
       "spider          0\n",
       "fish            0"
      ]
     },
     "execution_count": 106,
     "metadata": {},
     "output_type": "execute_result"
    }
   ],
   "source": [
    "df.loc[\"dog\":\"fish\",[\"num_wings\"]]"
   ]
  },
  {
   "cell_type": "code",
   "execution_count": 109,
   "id": "6a1de2ff",
   "metadata": {},
   "outputs": [
    {
     "data": {
      "text/plain": [
       "dog       0\n",
       "spider    0\n",
       "fish      0\n",
       "Name: num_wings, dtype: int64"
      ]
     },
     "execution_count": 109,
     "metadata": {},
     "output_type": "execute_result"
    }
   ],
   "source": [
    "df.iloc[1:,1]"
   ]
  },
  {
   "cell_type": "code",
   "execution_count": 110,
   "id": "f171672e",
   "metadata": {},
   "outputs": [
    {
     "data": {
      "text/html": [
       "<div>\n",
       "<style scoped>\n",
       "    .dataframe tbody tr th:only-of-type {\n",
       "        vertical-align: middle;\n",
       "    }\n",
       "\n",
       "    .dataframe tbody tr th {\n",
       "        vertical-align: top;\n",
       "    }\n",
       "\n",
       "    .dataframe thead th {\n",
       "        text-align: right;\n",
       "    }\n",
       "</style>\n",
       "<table border=\"1\" class=\"dataframe\">\n",
       "  <thead>\n",
       "    <tr style=\"text-align: right;\">\n",
       "      <th></th>\n",
       "      <th>day</th>\n",
       "      <th>calories</th>\n",
       "      <th>duration_min</th>\n",
       "    </tr>\n",
       "  </thead>\n",
       "  <tbody>\n",
       "    <tr>\n",
       "      <th>0</th>\n",
       "      <td>day1</td>\n",
       "      <td>450</td>\n",
       "      <td>30</td>\n",
       "    </tr>\n",
       "    <tr>\n",
       "      <th>1</th>\n",
       "      <td>day2</td>\n",
       "      <td>300</td>\n",
       "      <td>25</td>\n",
       "    </tr>\n",
       "    <tr>\n",
       "      <th>2</th>\n",
       "      <td>day3</td>\n",
       "      <td>345</td>\n",
       "      <td>29</td>\n",
       "    </tr>\n",
       "    <tr>\n",
       "      <th>3</th>\n",
       "      <td>day4</td>\n",
       "      <td>520</td>\n",
       "      <td>39</td>\n",
       "    </tr>\n",
       "    <tr>\n",
       "      <th>4</th>\n",
       "      <td>day5</td>\n",
       "      <td>600</td>\n",
       "      <td>48</td>\n",
       "    </tr>\n",
       "  </tbody>\n",
       "</table>\n",
       "</div>"
      ],
      "text/plain": [
       "    day  calories  duration_min\n",
       "0  day1       450            30\n",
       "1  day2       300            25\n",
       "2  day3       345            29\n",
       "3  day4       520            39\n",
       "4  day5       600            48"
      ]
     },
     "execution_count": 110,
     "metadata": {},
     "output_type": "execute_result"
    }
   ],
   "source": [
    "calorie_data = pd.DataFrame({'day': ['day1','day2','day3','day4','day5']\n",
    "                           ,'calories': [450, 300, 345, 520, 600]\n",
    "                           ,'duration_min': [30, 25, 29, 39, 48]\n",
    "                           })\n",
    "calorie_data"
   ]
  },
  {
   "cell_type": "code",
   "execution_count": 111,
   "id": "337a09cb",
   "metadata": {},
   "outputs": [
    {
     "data": {
      "text/html": [
       "<div>\n",
       "<style scoped>\n",
       "    .dataframe tbody tr th:only-of-type {\n",
       "        vertical-align: middle;\n",
       "    }\n",
       "\n",
       "    .dataframe tbody tr th {\n",
       "        vertical-align: top;\n",
       "    }\n",
       "\n",
       "    .dataframe thead th {\n",
       "        text-align: right;\n",
       "    }\n",
       "</style>\n",
       "<table border=\"1\" class=\"dataframe\">\n",
       "  <thead>\n",
       "    <tr style=\"text-align: right;\">\n",
       "      <th></th>\n",
       "      <th>calories</th>\n",
       "    </tr>\n",
       "  </thead>\n",
       "  <tbody>\n",
       "    <tr>\n",
       "      <th>1</th>\n",
       "      <td>300</td>\n",
       "    </tr>\n",
       "    <tr>\n",
       "      <th>2</th>\n",
       "      <td>345</td>\n",
       "    </tr>\n",
       "  </tbody>\n",
       "</table>\n",
       "</div>"
      ],
      "text/plain": [
       "   calories\n",
       "1       300\n",
       "2       345"
      ]
     },
     "execution_count": 111,
     "metadata": {},
     "output_type": "execute_result"
    }
   ],
   "source": [
    "calorie_data.loc[[1,2],['calories']]"
   ]
  },
  {
   "cell_type": "code",
   "execution_count": 112,
   "id": "4e5590ca",
   "metadata": {},
   "outputs": [
    {
     "data": {
      "text/html": [
       "<div>\n",
       "<style scoped>\n",
       "    .dataframe tbody tr th:only-of-type {\n",
       "        vertical-align: middle;\n",
       "    }\n",
       "\n",
       "    .dataframe tbody tr th {\n",
       "        vertical-align: top;\n",
       "    }\n",
       "\n",
       "    .dataframe thead th {\n",
       "        text-align: right;\n",
       "    }\n",
       "</style>\n",
       "<table border=\"1\" class=\"dataframe\">\n",
       "  <thead>\n",
       "    <tr style=\"text-align: right;\">\n",
       "      <th></th>\n",
       "      <th>calories</th>\n",
       "    </tr>\n",
       "  </thead>\n",
       "  <tbody>\n",
       "    <tr>\n",
       "      <th>1</th>\n",
       "      <td>300</td>\n",
       "    </tr>\n",
       "    <tr>\n",
       "      <th>2</th>\n",
       "      <td>345</td>\n",
       "    </tr>\n",
       "  </tbody>\n",
       "</table>\n",
       "</div>"
      ],
      "text/plain": [
       "   calories\n",
       "1       300\n",
       "2       345"
      ]
     },
     "execution_count": 112,
     "metadata": {},
     "output_type": "execute_result"
    }
   ],
   "source": [
    "calorie_data.iloc[[1,2],[1]]"
   ]
  },
  {
   "cell_type": "code",
   "execution_count": 116,
   "id": "e4f9f977",
   "metadata": {},
   "outputs": [
    {
     "data": {
      "text/plain": [
       "day             day2\n",
       "calories         300\n",
       "duration_min      25\n",
       "Name: 1, dtype: object"
      ]
     },
     "execution_count": 116,
     "metadata": {},
     "output_type": "execute_result"
    }
   ],
   "source": [
    "calorie_data.loc[1]"
   ]
  },
  {
   "cell_type": "code",
   "execution_count": 115,
   "id": "63ca9d77",
   "metadata": {},
   "outputs": [
    {
     "data": {
      "text/plain": [
       "day             day1\n",
       "calories         450\n",
       "duration_min      30\n",
       "Name: 0, dtype: object"
      ]
     },
     "execution_count": 115,
     "metadata": {},
     "output_type": "execute_result"
    }
   ],
   "source": [
    "calorie_data.iloc[0]"
   ]
  },
  {
   "cell_type": "code",
   "execution_count": 117,
   "id": "6c701842",
   "metadata": {},
   "outputs": [
    {
     "data": {
      "text/plain": [
       "RangeIndex(start=0, stop=5, step=1)"
      ]
     },
     "execution_count": 117,
     "metadata": {},
     "output_type": "execute_result"
    }
   ],
   "source": [
    "calorie_data.index"
   ]
  },
  {
   "cell_type": "code",
   "execution_count": 121,
   "id": "face8847",
   "metadata": {},
   "outputs": [
    {
     "data": {
      "text/html": [
       "<div>\n",
       "<style scoped>\n",
       "    .dataframe tbody tr th:only-of-type {\n",
       "        vertical-align: middle;\n",
       "    }\n",
       "\n",
       "    .dataframe tbody tr th {\n",
       "        vertical-align: top;\n",
       "    }\n",
       "\n",
       "    .dataframe thead th {\n",
       "        text-align: right;\n",
       "    }\n",
       "</style>\n",
       "<table border=\"1\" class=\"dataframe\">\n",
       "  <thead>\n",
       "    <tr style=\"text-align: right;\">\n",
       "      <th></th>\n",
       "      <th>day</th>\n",
       "      <th>calories</th>\n",
       "      <th>duration_min</th>\n",
       "    </tr>\n",
       "  </thead>\n",
       "  <tbody>\n",
       "    <tr>\n",
       "      <th>0</th>\n",
       "      <td>day1</td>\n",
       "      <td>450</td>\n",
       "      <td>30</td>\n",
       "    </tr>\n",
       "    <tr>\n",
       "      <th>3</th>\n",
       "      <td>day4</td>\n",
       "      <td>520</td>\n",
       "      <td>39</td>\n",
       "    </tr>\n",
       "    <tr>\n",
       "      <th>4</th>\n",
       "      <td>day5</td>\n",
       "      <td>600</td>\n",
       "      <td>48</td>\n",
       "    </tr>\n",
       "  </tbody>\n",
       "</table>\n",
       "</div>"
      ],
      "text/plain": [
       "    day  calories  duration_min\n",
       "0  day1       450            30\n",
       "3  day4       520            39\n",
       "4  day5       600            48"
      ]
     },
     "execution_count": 121,
     "metadata": {},
     "output_type": "execute_result"
    }
   ],
   "source": [
    "calorie_data[calorie_data[\"calories\"] > 400]"
   ]
  },
  {
   "cell_type": "code",
   "execution_count": 122,
   "id": "eeb1b58e",
   "metadata": {},
   "outputs": [
    {
     "data": {
      "text/html": [
       "<div>\n",
       "<style scoped>\n",
       "    .dataframe tbody tr th:only-of-type {\n",
       "        vertical-align: middle;\n",
       "    }\n",
       "\n",
       "    .dataframe tbody tr th {\n",
       "        vertical-align: top;\n",
       "    }\n",
       "\n",
       "    .dataframe thead th {\n",
       "        text-align: right;\n",
       "    }\n",
       "</style>\n",
       "<table border=\"1\" class=\"dataframe\">\n",
       "  <thead>\n",
       "    <tr style=\"text-align: right;\">\n",
       "      <th></th>\n",
       "      <th>day</th>\n",
       "      <th>calories</th>\n",
       "      <th>duration_min</th>\n",
       "    </tr>\n",
       "  </thead>\n",
       "  <tbody>\n",
       "    <tr>\n",
       "      <th>0</th>\n",
       "      <td>day1</td>\n",
       "      <td>450</td>\n",
       "      <td>30</td>\n",
       "    </tr>\n",
       "    <tr>\n",
       "      <th>3</th>\n",
       "      <td>day4</td>\n",
       "      <td>520</td>\n",
       "      <td>39</td>\n",
       "    </tr>\n",
       "    <tr>\n",
       "      <th>4</th>\n",
       "      <td>day5</td>\n",
       "      <td>600</td>\n",
       "      <td>48</td>\n",
       "    </tr>\n",
       "  </tbody>\n",
       "</table>\n",
       "</div>"
      ],
      "text/plain": [
       "    day  calories  duration_min\n",
       "0  day1       450            30\n",
       "3  day4       520            39\n",
       "4  day5       600            48"
      ]
     },
     "execution_count": 122,
     "metadata": {},
     "output_type": "execute_result"
    }
   ],
   "source": [
    "calorie_data.loc[calorie_data[\"calories\"] > 400]"
   ]
  },
  {
   "cell_type": "code",
   "execution_count": 123,
   "id": "9da8114f",
   "metadata": {},
   "outputs": [
    {
     "ename": "NotImplementedError",
     "evalue": "iLocation based boolean indexing on an integer type is not available",
     "output_type": "error",
     "traceback": [
      "\u001b[1;31m---------------------------------------------------------------------------\u001b[0m",
      "\u001b[1;31mNotImplementedError\u001b[0m                       Traceback (most recent call last)",
      "Cell \u001b[1;32mIn[123], line 1\u001b[0m\n\u001b[1;32m----> 1\u001b[0m \u001b[43mcalorie_data\u001b[49m\u001b[38;5;241;43m.\u001b[39;49m\u001b[43miloc\u001b[49m\u001b[43m[\u001b[49m\u001b[43mcalorie_data\u001b[49m\u001b[43m[\u001b[49m\u001b[38;5;124;43m\"\u001b[39;49m\u001b[38;5;124;43mcalories\u001b[39;49m\u001b[38;5;124;43m\"\u001b[39;49m\u001b[43m]\u001b[49m\u001b[43m \u001b[49m\u001b[38;5;241;43m>\u001b[39;49m\u001b[43m \u001b[49m\u001b[38;5;241;43m400\u001b[39;49m\u001b[43m]\u001b[49m\n",
      "File \u001b[1;32m~\\anaconda3\\lib\\site-packages\\pandas\\core\\indexing.py:1073\u001b[0m, in \u001b[0;36m_LocationIndexer.__getitem__\u001b[1;34m(self, key)\u001b[0m\n\u001b[0;32m   1070\u001b[0m axis \u001b[38;5;241m=\u001b[39m \u001b[38;5;28mself\u001b[39m\u001b[38;5;241m.\u001b[39maxis \u001b[38;5;129;01mor\u001b[39;00m \u001b[38;5;241m0\u001b[39m\n\u001b[0;32m   1072\u001b[0m maybe_callable \u001b[38;5;241m=\u001b[39m com\u001b[38;5;241m.\u001b[39mapply_if_callable(key, \u001b[38;5;28mself\u001b[39m\u001b[38;5;241m.\u001b[39mobj)\n\u001b[1;32m-> 1073\u001b[0m \u001b[38;5;28;01mreturn\u001b[39;00m \u001b[38;5;28;43mself\u001b[39;49m\u001b[38;5;241;43m.\u001b[39;49m\u001b[43m_getitem_axis\u001b[49m\u001b[43m(\u001b[49m\u001b[43mmaybe_callable\u001b[49m\u001b[43m,\u001b[49m\u001b[43m \u001b[49m\u001b[43maxis\u001b[49m\u001b[38;5;241;43m=\u001b[39;49m\u001b[43maxis\u001b[49m\u001b[43m)\u001b[49m\n",
      "File \u001b[1;32m~\\anaconda3\\lib\\site-packages\\pandas\\core\\indexing.py:1611\u001b[0m, in \u001b[0;36m_iLocIndexer._getitem_axis\u001b[1;34m(self, key, axis)\u001b[0m\n\u001b[0;32m   1608\u001b[0m     key \u001b[38;5;241m=\u001b[39m np\u001b[38;5;241m.\u001b[39masarray(key)\n\u001b[0;32m   1610\u001b[0m \u001b[38;5;28;01mif\u001b[39;00m com\u001b[38;5;241m.\u001b[39mis_bool_indexer(key):\n\u001b[1;32m-> 1611\u001b[0m     \u001b[38;5;28;43mself\u001b[39;49m\u001b[38;5;241;43m.\u001b[39;49m\u001b[43m_validate_key\u001b[49m\u001b[43m(\u001b[49m\u001b[43mkey\u001b[49m\u001b[43m,\u001b[49m\u001b[43m \u001b[49m\u001b[43maxis\u001b[49m\u001b[43m)\u001b[49m\n\u001b[0;32m   1612\u001b[0m     \u001b[38;5;28;01mreturn\u001b[39;00m \u001b[38;5;28mself\u001b[39m\u001b[38;5;241m.\u001b[39m_getbool_axis(key, axis\u001b[38;5;241m=\u001b[39maxis)\n\u001b[0;32m   1614\u001b[0m \u001b[38;5;66;03m# a list of integers\u001b[39;00m\n",
      "File \u001b[1;32m~\\anaconda3\\lib\\site-packages\\pandas\\core\\indexing.py:1452\u001b[0m, in \u001b[0;36m_iLocIndexer._validate_key\u001b[1;34m(self, key, axis)\u001b[0m\n\u001b[0;32m   1450\u001b[0m \u001b[38;5;28;01mif\u001b[39;00m \u001b[38;5;28mhasattr\u001b[39m(key, \u001b[38;5;124m\"\u001b[39m\u001b[38;5;124mindex\u001b[39m\u001b[38;5;124m\"\u001b[39m) \u001b[38;5;129;01mand\u001b[39;00m \u001b[38;5;28misinstance\u001b[39m(key\u001b[38;5;241m.\u001b[39mindex, Index):\n\u001b[0;32m   1451\u001b[0m     \u001b[38;5;28;01mif\u001b[39;00m key\u001b[38;5;241m.\u001b[39mindex\u001b[38;5;241m.\u001b[39minferred_type \u001b[38;5;241m==\u001b[39m \u001b[38;5;124m\"\u001b[39m\u001b[38;5;124minteger\u001b[39m\u001b[38;5;124m\"\u001b[39m:\n\u001b[1;32m-> 1452\u001b[0m         \u001b[38;5;28;01mraise\u001b[39;00m \u001b[38;5;167;01mNotImplementedError\u001b[39;00m(\n\u001b[0;32m   1453\u001b[0m             \u001b[38;5;124m\"\u001b[39m\u001b[38;5;124miLocation based boolean \u001b[39m\u001b[38;5;124m\"\u001b[39m\n\u001b[0;32m   1454\u001b[0m             \u001b[38;5;124m\"\u001b[39m\u001b[38;5;124mindexing on an integer type \u001b[39m\u001b[38;5;124m\"\u001b[39m\n\u001b[0;32m   1455\u001b[0m             \u001b[38;5;124m\"\u001b[39m\u001b[38;5;124mis not available\u001b[39m\u001b[38;5;124m\"\u001b[39m\n\u001b[0;32m   1456\u001b[0m         )\n\u001b[0;32m   1457\u001b[0m     \u001b[38;5;28;01mraise\u001b[39;00m \u001b[38;5;167;01mValueError\u001b[39;00m(\n\u001b[0;32m   1458\u001b[0m         \u001b[38;5;124m\"\u001b[39m\u001b[38;5;124miLocation based boolean indexing cannot use \u001b[39m\u001b[38;5;124m\"\u001b[39m\n\u001b[0;32m   1459\u001b[0m         \u001b[38;5;124m\"\u001b[39m\u001b[38;5;124man indexable as a mask\u001b[39m\u001b[38;5;124m\"\u001b[39m\n\u001b[0;32m   1460\u001b[0m     )\n\u001b[0;32m   1461\u001b[0m \u001b[38;5;28;01mreturn\u001b[39;00m\n",
      "\u001b[1;31mNotImplementedError\u001b[0m: iLocation based boolean indexing on an integer type is not available"
     ]
    }
   ],
   "source": [
    "calorie_data.iloc[calorie_data[\"calories\"] > 400]"
   ]
  },
  {
   "cell_type": "code",
   "execution_count": 124,
   "id": "919676fa",
   "metadata": {},
   "outputs": [
    {
     "data": {
      "text/html": [
       "<div>\n",
       "<style scoped>\n",
       "    .dataframe tbody tr th:only-of-type {\n",
       "        vertical-align: middle;\n",
       "    }\n",
       "\n",
       "    .dataframe tbody tr th {\n",
       "        vertical-align: top;\n",
       "    }\n",
       "\n",
       "    .dataframe thead th {\n",
       "        text-align: right;\n",
       "    }\n",
       "</style>\n",
       "<table border=\"1\" class=\"dataframe\">\n",
       "  <thead>\n",
       "    <tr style=\"text-align: right;\">\n",
       "      <th></th>\n",
       "      <th>day</th>\n",
       "      <th>calories</th>\n",
       "      <th>duration_min</th>\n",
       "    </tr>\n",
       "  </thead>\n",
       "  <tbody>\n",
       "    <tr>\n",
       "      <th>0</th>\n",
       "      <td>day1</td>\n",
       "      <td>450</td>\n",
       "      <td>30</td>\n",
       "    </tr>\n",
       "    <tr>\n",
       "      <th>1</th>\n",
       "      <td>day2</td>\n",
       "      <td>300</td>\n",
       "      <td>25</td>\n",
       "    </tr>\n",
       "    <tr>\n",
       "      <th>2</th>\n",
       "      <td>day3</td>\n",
       "      <td>345</td>\n",
       "      <td>29</td>\n",
       "    </tr>\n",
       "    <tr>\n",
       "      <th>3</th>\n",
       "      <td>day4</td>\n",
       "      <td>520</td>\n",
       "      <td>39</td>\n",
       "    </tr>\n",
       "    <tr>\n",
       "      <th>4</th>\n",
       "      <td>day5</td>\n",
       "      <td>600</td>\n",
       "      <td>48</td>\n",
       "    </tr>\n",
       "  </tbody>\n",
       "</table>\n",
       "</div>"
      ],
      "text/plain": [
       "    day  calories  duration_min\n",
       "0  day1       450            30\n",
       "1  day2       300            25\n",
       "2  day3       345            29\n",
       "3  day4       520            39\n",
       "4  day5       600            48"
      ]
     },
     "execution_count": 124,
     "metadata": {},
     "output_type": "execute_result"
    }
   ],
   "source": [
    "calorie_data = pd.DataFrame({'day': ['day1','day2','day3','day4','day5']\n",
    "                           ,'calories': [450, 300, 345, 520, 600]\n",
    "                           ,'duration_min': [30, 25, 29, 39, 48]\n",
    "                           })\n",
    "calorie_data"
   ]
  },
  {
   "cell_type": "code",
   "execution_count": 125,
   "id": "803b2d80",
   "metadata": {},
   "outputs": [
    {
     "data": {
      "text/html": [
       "<div>\n",
       "<style scoped>\n",
       "    .dataframe tbody tr th:only-of-type {\n",
       "        vertical-align: middle;\n",
       "    }\n",
       "\n",
       "    .dataframe tbody tr th {\n",
       "        vertical-align: top;\n",
       "    }\n",
       "\n",
       "    .dataframe thead th {\n",
       "        text-align: right;\n",
       "    }\n",
       "</style>\n",
       "<table border=\"1\" class=\"dataframe\">\n",
       "  <thead>\n",
       "    <tr style=\"text-align: right;\">\n",
       "      <th></th>\n",
       "      <th>day</th>\n",
       "      <th>calories</th>\n",
       "      <th>duration_min</th>\n",
       "    </tr>\n",
       "  </thead>\n",
       "  <tbody>\n",
       "    <tr>\n",
       "      <th>3</th>\n",
       "      <td>day4</td>\n",
       "      <td>520</td>\n",
       "      <td>39</td>\n",
       "    </tr>\n",
       "    <tr>\n",
       "      <th>4</th>\n",
       "      <td>day5</td>\n",
       "      <td>600</td>\n",
       "      <td>48</td>\n",
       "    </tr>\n",
       "  </tbody>\n",
       "</table>\n",
       "</div>"
      ],
      "text/plain": [
       "    day  calories  duration_min\n",
       "3  day4       520            39\n",
       "4  day5       600            48"
      ]
     },
     "execution_count": 125,
     "metadata": {},
     "output_type": "execute_result"
    }
   ],
   "source": [
    "calorie_data.loc[calorie_data['calories']>500]"
   ]
  },
  {
   "cell_type": "code",
   "execution_count": 126,
   "id": "15502452",
   "metadata": {},
   "outputs": [
    {
     "data": {
      "text/html": [
       "<div>\n",
       "<style scoped>\n",
       "    .dataframe tbody tr th:only-of-type {\n",
       "        vertical-align: middle;\n",
       "    }\n",
       "\n",
       "    .dataframe tbody tr th {\n",
       "        vertical-align: top;\n",
       "    }\n",
       "\n",
       "    .dataframe thead th {\n",
       "        text-align: right;\n",
       "    }\n",
       "</style>\n",
       "<table border=\"1\" class=\"dataframe\">\n",
       "  <thead>\n",
       "    <tr style=\"text-align: right;\">\n",
       "      <th></th>\n",
       "      <th>day</th>\n",
       "      <th>calories</th>\n",
       "    </tr>\n",
       "  </thead>\n",
       "  <tbody>\n",
       "    <tr>\n",
       "      <th>0</th>\n",
       "      <td>day1</td>\n",
       "      <td>450</td>\n",
       "    </tr>\n",
       "    <tr>\n",
       "      <th>1</th>\n",
       "      <td>day2</td>\n",
       "      <td>300</td>\n",
       "    </tr>\n",
       "    <tr>\n",
       "      <th>2</th>\n",
       "      <td>day3</td>\n",
       "      <td>345</td>\n",
       "    </tr>\n",
       "    <tr>\n",
       "      <th>3</th>\n",
       "      <td>day4</td>\n",
       "      <td>520</td>\n",
       "    </tr>\n",
       "    <tr>\n",
       "      <th>4</th>\n",
       "      <td>day5</td>\n",
       "      <td>600</td>\n",
       "    </tr>\n",
       "  </tbody>\n",
       "</table>\n",
       "</div>"
      ],
      "text/plain": [
       "    day  calories\n",
       "0  day1       450\n",
       "1  day2       300\n",
       "2  day3       345\n",
       "3  day4       520\n",
       "4  day5       600"
      ]
     },
     "execution_count": 126,
     "metadata": {},
     "output_type": "execute_result"
    }
   ],
   "source": [
    "calorie_data.drop('duration_min', axis=1)"
   ]
  },
  {
   "cell_type": "code",
   "execution_count": 1,
   "id": "cf789388",
   "metadata": {},
   "outputs": [
    {
     "name": "stdout",
     "output_type": "stream",
     "text": [
      "2022-01-29\n"
     ]
    }
   ],
   "source": [
    "import datetime\n",
    "date = datetime.date(2022, 1, 29)\n",
    "print(date)"
   ]
  },
  {
   "cell_type": "code",
   "execution_count": 2,
   "id": "2bc2dd13",
   "metadata": {},
   "outputs": [
    {
     "ename": "AttributeError",
     "evalue": "'datetime.date' object has no attribute 'dt'",
     "output_type": "error",
     "traceback": [
      "\u001b[1;31m---------------------------------------------------------------------------\u001b[0m",
      "\u001b[1;31mAttributeError\u001b[0m                            Traceback (most recent call last)",
      "Cell \u001b[1;32mIn[2], line 1\u001b[0m\n\u001b[1;32m----> 1\u001b[0m \u001b[43mdate\u001b[49m\u001b[38;5;241;43m.\u001b[39;49m\u001b[43mdt\u001b[49m\u001b[38;5;241m.\u001b[39mmonth\n",
      "\u001b[1;31mAttributeError\u001b[0m: 'datetime.date' object has no attribute 'dt'"
     ]
    }
   ],
   "source": [
    "date.dt.month"
   ]
  },
  {
   "cell_type": "code",
   "execution_count": 4,
   "id": "335faa4c",
   "metadata": {},
   "outputs": [],
   "source": [
    "array_1 = np.linspace(0,20,6)"
   ]
  },
  {
   "cell_type": "code",
   "execution_count": 5,
   "id": "09303680",
   "metadata": {},
   "outputs": [],
   "source": [
    "array_2 = np.arange(0,20,6)"
   ]
  },
  {
   "cell_type": "code",
   "execution_count": 8,
   "id": "ec9e4a6c",
   "metadata": {},
   "outputs": [
    {
     "data": {
      "text/plain": [
       "2"
      ]
     },
     "execution_count": 8,
     "metadata": {},
     "output_type": "execute_result"
    }
   ],
   "source": [
    "len(array_1) - len(array_2)"
   ]
  },
  {
   "cell_type": "code",
   "execution_count": 9,
   "id": "b1853c5b",
   "metadata": {},
   "outputs": [
    {
     "data": {
      "text/plain": [
       "array([ 0,  6, 12, 18])"
      ]
     },
     "execution_count": 9,
     "metadata": {},
     "output_type": "execute_result"
    }
   ],
   "source": [
    "array_2"
   ]
  },
  {
   "cell_type": "code",
   "execution_count": 10,
   "id": "b6dffc47",
   "metadata": {},
   "outputs": [],
   "source": [
    "mat = np.matrix([[ 1, 4, 9, 121, 144, 169],\n",
    "                [ 16, 25, 36, 196, 225, 256], \n",
    "                [ 49, 64, 81, 289, 324, 361]])"
   ]
  },
  {
   "cell_type": "code",
   "execution_count": 11,
   "id": "e819e373",
   "metadata": {},
   "outputs": [
    {
     "data": {
      "text/plain": [
       "131.66666666666666"
      ]
     },
     "execution_count": 11,
     "metadata": {},
     "output_type": "execute_result"
    }
   ],
   "source": [
    "np.mean(mat)"
   ]
  },
  {
   "cell_type": "code",
   "execution_count": 12,
   "id": "65e6af0f",
   "metadata": {},
   "outputs": [
    {
     "name": "stdout",
     "output_type": "stream",
     "text": [
      "[2 3 4 5 6]\n"
     ]
    }
   ],
   "source": [
    "a = np.arange(0,20)\n",
    "print(a[2:7])"
   ]
  },
  {
   "cell_type": "code",
   "execution_count": 13,
   "id": "97427f74",
   "metadata": {},
   "outputs": [
    {
     "data": {
      "text/plain": [
       "array([0, 1, 2, 3, 4, 5, 6, 7, 8, 9])"
      ]
     },
     "execution_count": 13,
     "metadata": {},
     "output_type": "execute_result"
    }
   ],
   "source": [
    "a[a<10]"
   ]
  },
  {
   "cell_type": "code",
   "execution_count": 14,
   "id": "4c63c2f9",
   "metadata": {},
   "outputs": [
    {
     "data": {
      "text/plain": [
       "array([ 1.        ,  0.54030231, -0.41614684, -0.9899925 , -0.65364362])"
      ]
     },
     "execution_count": 14,
     "metadata": {},
     "output_type": "execute_result"
    }
   ],
   "source": [
    "np.cos([0, 1, 2, 3, 4]) "
   ]
  },
  {
   "cell_type": "code",
   "execution_count": 15,
   "id": "2a540a7d",
   "metadata": {},
   "outputs": [],
   "source": [
    "list_1 = [1,2,3] \n",
    "list_2 = [4,5,6]\n",
    "new_list = list_1 + list_2"
   ]
  },
  {
   "cell_type": "code",
   "execution_count": 16,
   "id": "00cfec73",
   "metadata": {},
   "outputs": [],
   "source": [
    "array_1 = np.array([1,2,3])\n",
    "array_2 = np.array([4,5,6])\n",
    "new_array = array_1 + array_2"
   ]
  },
  {
   "cell_type": "code",
   "execution_count": 18,
   "id": "3987d775",
   "metadata": {},
   "outputs": [
    {
     "data": {
      "text/plain": [
       "False"
      ]
     },
     "execution_count": 18,
     "metadata": {},
     "output_type": "execute_result"
    }
   ],
   "source": [
    "len(new_list) == len(new_array)"
   ]
  },
  {
   "cell_type": "code",
   "execution_count": 19,
   "id": "e742a65d",
   "metadata": {},
   "outputs": [
    {
     "data": {
      "text/plain": [
       "[1, 2, 3, 4, 5, 6]"
      ]
     },
     "execution_count": 19,
     "metadata": {},
     "output_type": "execute_result"
    }
   ],
   "source": [
    "new_list"
   ]
  },
  {
   "cell_type": "code",
   "execution_count": 20,
   "id": "49551c78",
   "metadata": {},
   "outputs": [
    {
     "data": {
      "text/plain": [
       "array([5, 7, 9])"
      ]
     },
     "execution_count": 20,
     "metadata": {},
     "output_type": "execute_result"
    }
   ],
   "source": [
    "new_array"
   ]
  },
  {
   "cell_type": "code",
   "execution_count": 21,
   "id": "8f8c3708",
   "metadata": {},
   "outputs": [],
   "source": [
    "mat = np.array([[1, 2, 1], [4, 5, 9],[1, 8, 9]])"
   ]
  },
  {
   "cell_type": "code",
   "execution_count": 22,
   "id": "c95cd71a",
   "metadata": {},
   "outputs": [
    {
     "data": {
      "text/plain": [
       "array([[1, 2, 1],\n",
       "       [4, 5, 9],\n",
       "       [1, 8, 9]])"
      ]
     },
     "execution_count": 22,
     "metadata": {},
     "output_type": "execute_result"
    }
   ],
   "source": [
    "mat"
   ]
  },
  {
   "cell_type": "code",
   "execution_count": 23,
   "id": "cae47726",
   "metadata": {},
   "outputs": [],
   "source": [
    "mat[1]=5"
   ]
  },
  {
   "cell_type": "code",
   "execution_count": 24,
   "id": "b7763d3b",
   "metadata": {},
   "outputs": [
    {
     "data": {
      "text/plain": [
       "array([[1, 2, 1],\n",
       "       [5, 5, 5],\n",
       "       [1, 8, 9]])"
      ]
     },
     "execution_count": 24,
     "metadata": {},
     "output_type": "execute_result"
    }
   ],
   "source": [
    "mat"
   ]
  },
  {
   "cell_type": "code",
   "execution_count": 25,
   "id": "40d744f0",
   "metadata": {},
   "outputs": [
    {
     "name": "stdout",
     "output_type": "stream",
     "text": [
      "21\n"
     ]
    }
   ],
   "source": [
    "array_1 = np.array([1, 2, 3, 5, 8])\n",
    "array_2 = np.array([0, 3, 4, 2, 1])\n",
    "new_array = array_1+ array_2\n",
    "final_array = new_array*array_1\n",
    "print(final_array[2])"
   ]
  },
  {
   "cell_type": "code",
   "execution_count": 26,
   "id": "5393a5b9",
   "metadata": {},
   "outputs": [
    {
     "data": {
      "text/plain": [
       "array([ 1, 10, 21, 35, 72])"
      ]
     },
     "execution_count": 26,
     "metadata": {},
     "output_type": "execute_result"
    }
   ],
   "source": [
    "final_array"
   ]
  },
  {
   "cell_type": "code",
   "execution_count": 28,
   "id": "5fb6ed99",
   "metadata": {},
   "outputs": [
    {
     "data": {
      "text/plain": [
       "(2, 2)"
      ]
     },
     "execution_count": 28,
     "metadata": {},
     "output_type": "execute_result"
    }
   ],
   "source": [
    "np.ones([2, 2]).shape"
   ]
  },
  {
   "cell_type": "code",
   "execution_count": 29,
   "id": "6fcfe558",
   "metadata": {},
   "outputs": [],
   "source": [
    "n1 = np.matrix([[121, 144, 169], [196, 225, 256], [ 289, 324, 361]])"
   ]
  },
  {
   "cell_type": "code",
   "execution_count": 30,
   "id": "d707da77",
   "metadata": {},
   "outputs": [],
   "source": [
    "n2 = np.matrix([[ 1, 4, 9], [ 1, 5, 4], [ 9, 4, 8]])"
   ]
  },
  {
   "cell_type": "code",
   "execution_count": 31,
   "id": "81ce6f37",
   "metadata": {},
   "outputs": [
    {
     "data": {
      "text/plain": [
       "matrix([[1786, 1880, 3017],\n",
       "        [2725, 2933, 4712],\n",
       "        [3862, 4220, 6785]])"
      ]
     },
     "execution_count": 31,
     "metadata": {},
     "output_type": "execute_result"
    }
   ],
   "source": [
    "n1 @ n2"
   ]
  },
  {
   "cell_type": "code",
   "execution_count": 32,
   "id": "b8e6c264",
   "metadata": {},
   "outputs": [
    {
     "name": "stdout",
     "output_type": "stream",
     "text": [
      " Volume in drive C is Windows\n",
      " Volume Serial Number is 66D7-08B7\n",
      "\n",
      " Directory of C:\\sources\\BAU\\python\\IntroPython\n",
      "\n",
      "06/16/2023  08:43 PM    <DIR>          .\n",
      "06/16/2023  08:43 PM    <DIR>          ..\n",
      "06/16/2023  08:29 PM    <DIR>          .ipynb_checkpoints\n",
      "06/10/2023  06:11 PM            22,192 Data Structure.ipynb\n",
      "06/03/2023  04:23 PM            23,247 Hands_on_notebook_Data_Structures_1.ipynb\n",
      "06/03/2023  08:11 PM            26,923 Hands_on_notebook_Data_Structures_2-1.ipynb\n",
      "06/16/2023  08:29 PM            60,197 Hands_on_Notebook_NumPy_v1.ipynb\n",
      "06/16/2023  07:59 PM           350,043 Hands_on_Notebook_Pandas-1.ipynb\n",
      "06/16/2023  08:43 PM            64,324 Numpy.ipynb\n",
      "06/10/2023  06:02 PM            12,471 OOP_in_python.ipynb\n",
      "06/15/2023  03:25 PM    <DIR>          Untitled Folder\n",
      "               7 File(s)        559,397 bytes\n",
      "               4 Dir(s)  26,751,733,760 bytes free\n"
     ]
    }
   ],
   "source": [
    "!dir"
   ]
  },
  {
   "cell_type": "code",
   "execution_count": 36,
   "id": "bcdce79d",
   "metadata": {},
   "outputs": [],
   "source": [
    "df = pd.read_csv('books.csv')"
   ]
  },
  {
   "cell_type": "code",
   "execution_count": 37,
   "id": "0a7a1091",
   "metadata": {},
   "outputs": [
    {
     "data": {
      "text/html": [
       "<div>\n",
       "<style scoped>\n",
       "    .dataframe tbody tr th:only-of-type {\n",
       "        vertical-align: middle;\n",
       "    }\n",
       "\n",
       "    .dataframe tbody tr th {\n",
       "        vertical-align: top;\n",
       "    }\n",
       "\n",
       "    .dataframe thead th {\n",
       "        text-align: right;\n",
       "    }\n",
       "</style>\n",
       "<table border=\"1\" class=\"dataframe\">\n",
       "  <thead>\n",
       "    <tr style=\"text-align: right;\">\n",
       "      <th></th>\n",
       "      <th>title</th>\n",
       "      <th>author</th>\n",
       "      <th>average_rating</th>\n",
       "      <th>isbn13</th>\n",
       "      <th>language_code</th>\n",
       "      <th>num_pages</th>\n",
       "      <th>ratings_count</th>\n",
       "      <th>text_reviews_count</th>\n",
       "      <th>publisher</th>\n",
       "      <th>year</th>\n",
       "    </tr>\n",
       "  </thead>\n",
       "  <tbody>\n",
       "    <tr>\n",
       "      <th>0</th>\n",
       "      <td>The Hunchback of Notre-Dame</td>\n",
       "      <td>Victor Hugo</td>\n",
       "      <td>4.00</td>\n",
       "      <td>9780345472427</td>\n",
       "      <td>en-US</td>\n",
       "      <td>534.0</td>\n",
       "      <td>140</td>\n",
       "      <td>22</td>\n",
       "      <td>Modern Library</td>\n",
       "      <td>2004</td>\n",
       "    </tr>\n",
       "    <tr>\n",
       "      <th>1</th>\n",
       "      <td>La Cucina Di Lidia: Recipes and Memories from ...</td>\n",
       "      <td>Lidia Matticchio Bastianich</td>\n",
       "      <td>4.14</td>\n",
       "      <td>9780767914222</td>\n",
       "      <td>en-GB</td>\n",
       "      <td>288.0</td>\n",
       "      <td>48</td>\n",
       "      <td>3</td>\n",
       "      <td>Clarkson Potter</td>\n",
       "      <td>2003</td>\n",
       "    </tr>\n",
       "    <tr>\n",
       "      <th>2</th>\n",
       "      <td>Breach of Promise</td>\n",
       "      <td>James Scott Bell</td>\n",
       "      <td>4.00</td>\n",
       "      <td>9780310243878</td>\n",
       "      <td>eng</td>\n",
       "      <td>345.0</td>\n",
       "      <td>368</td>\n",
       "      <td>36</td>\n",
       "      <td>Zondervan</td>\n",
       "      <td>2004</td>\n",
       "    </tr>\n",
       "    <tr>\n",
       "      <th>3</th>\n",
       "      <td>Brief Interviews with Hideous Men</td>\n",
       "      <td>David Foster Wallace</td>\n",
       "      <td>3.86</td>\n",
       "      <td>9780349111889</td>\n",
       "      <td>eng</td>\n",
       "      <td>273.0</td>\n",
       "      <td>18335</td>\n",
       "      <td>1155</td>\n",
       "      <td>Abacus</td>\n",
       "      <td>2000</td>\n",
       "    </tr>\n",
       "    <tr>\n",
       "      <th>4</th>\n",
       "      <td>The Killing Dance (Anita Blake  Vampire Hunter...</td>\n",
       "      <td>Laurell K. Hamilton</td>\n",
       "      <td>4.13</td>\n",
       "      <td>9780425209066</td>\n",
       "      <td>en-US</td>\n",
       "      <td>368.0</td>\n",
       "      <td>59524</td>\n",
       "      <td>946</td>\n",
       "      <td>Berkley Hardcover</td>\n",
       "      <td>2006</td>\n",
       "    </tr>\n",
       "  </tbody>\n",
       "</table>\n",
       "</div>"
      ],
      "text/plain": [
       "                                               title  \\\n",
       "0                        The Hunchback of Notre-Dame   \n",
       "1  La Cucina Di Lidia: Recipes and Memories from ...   \n",
       "2                                  Breach of Promise   \n",
       "3                  Brief Interviews with Hideous Men   \n",
       "4  The Killing Dance (Anita Blake  Vampire Hunter...   \n",
       "\n",
       "                        author  average_rating         isbn13 language_code  \\\n",
       "0                  Victor Hugo            4.00  9780345472427         en-US   \n",
       "1  Lidia Matticchio Bastianich            4.14  9780767914222         en-GB   \n",
       "2             James Scott Bell            4.00  9780310243878           eng   \n",
       "3         David Foster Wallace            3.86  9780349111889           eng   \n",
       "4          Laurell K. Hamilton            4.13  9780425209066         en-US   \n",
       "\n",
       "   num_pages  ratings_count  text_reviews_count          publisher  year  \n",
       "0      534.0            140                  22     Modern Library  2004  \n",
       "1      288.0             48                   3    Clarkson Potter  2003  \n",
       "2      345.0            368                  36          Zondervan  2004  \n",
       "3      273.0          18335                1155             Abacus  2000  \n",
       "4      368.0          59524                 946  Berkley Hardcover  2006  "
      ]
     },
     "execution_count": 37,
     "metadata": {},
     "output_type": "execute_result"
    }
   ],
   "source": [
    "df.head()"
   ]
  },
  {
   "cell_type": "code",
   "execution_count": 38,
   "id": "c341bbc3",
   "metadata": {},
   "outputs": [
    {
     "data": {
      "text/plain": [
       "(5000, 10)"
      ]
     },
     "execution_count": 38,
     "metadata": {},
     "output_type": "execute_result"
    }
   ],
   "source": [
    "df.shape"
   ]
  },
  {
   "cell_type": "code",
   "execution_count": 39,
   "id": "a27d536a",
   "metadata": {},
   "outputs": [
    {
     "data": {
      "text/html": [
       "<div>\n",
       "<style scoped>\n",
       "    .dataframe tbody tr th:only-of-type {\n",
       "        vertical-align: middle;\n",
       "    }\n",
       "\n",
       "    .dataframe tbody tr th {\n",
       "        vertical-align: top;\n",
       "    }\n",
       "\n",
       "    .dataframe thead th {\n",
       "        text-align: right;\n",
       "    }\n",
       "</style>\n",
       "<table border=\"1\" class=\"dataframe\">\n",
       "  <thead>\n",
       "    <tr style=\"text-align: right;\">\n",
       "      <th></th>\n",
       "      <th>average_rating</th>\n",
       "      <th>isbn13</th>\n",
       "      <th>num_pages</th>\n",
       "      <th>ratings_count</th>\n",
       "      <th>text_reviews_count</th>\n",
       "      <th>year</th>\n",
       "    </tr>\n",
       "  </thead>\n",
       "  <tbody>\n",
       "    <tr>\n",
       "      <th>count</th>\n",
       "      <td>5000.000000</td>\n",
       "      <td>5.000000e+03</td>\n",
       "      <td>4967.000000</td>\n",
       "      <td>5.000000e+03</td>\n",
       "      <td>5000.000000</td>\n",
       "      <td>5000.000000</td>\n",
       "    </tr>\n",
       "    <tr>\n",
       "      <th>mean</th>\n",
       "      <td>3.931932</td>\n",
       "      <td>9.752758e+12</td>\n",
       "      <td>341.094021</td>\n",
       "      <td>2.017549e+04</td>\n",
       "      <td>592.688600</td>\n",
       "      <td>2000.131800</td>\n",
       "    </tr>\n",
       "    <tr>\n",
       "      <th>std</th>\n",
       "      <td>0.348741</td>\n",
       "      <td>5.129254e+11</td>\n",
       "      <td>230.986115</td>\n",
       "      <td>1.175026e+05</td>\n",
       "      <td>2539.539004</td>\n",
       "      <td>8.069043</td>\n",
       "    </tr>\n",
       "    <tr>\n",
       "      <th>min</th>\n",
       "      <td>0.000000</td>\n",
       "      <td>8.987060e+09</td>\n",
       "      <td>1.000000</td>\n",
       "      <td>0.000000e+00</td>\n",
       "      <td>0.000000</td>\n",
       "      <td>1913.000000</td>\n",
       "    </tr>\n",
       "    <tr>\n",
       "      <th>25%</th>\n",
       "      <td>3.770000</td>\n",
       "      <td>9.780345e+12</td>\n",
       "      <td>200.000000</td>\n",
       "      <td>1.050000e+02</td>\n",
       "      <td>9.000000</td>\n",
       "      <td>1998.000000</td>\n",
       "    </tr>\n",
       "    <tr>\n",
       "      <th>50%</th>\n",
       "      <td>3.960000</td>\n",
       "      <td>9.780571e+12</td>\n",
       "      <td>304.000000</td>\n",
       "      <td>7.915000e+02</td>\n",
       "      <td>49.000000</td>\n",
       "      <td>2003.000000</td>\n",
       "    </tr>\n",
       "    <tr>\n",
       "      <th>75%</th>\n",
       "      <td>4.140000</td>\n",
       "      <td>9.780871e+12</td>\n",
       "      <td>416.500000</td>\n",
       "      <td>5.348750e+03</td>\n",
       "      <td>249.000000</td>\n",
       "      <td>2005.000000</td>\n",
       "    </tr>\n",
       "    <tr>\n",
       "      <th>max</th>\n",
       "      <td>5.000000</td>\n",
       "      <td>9.789879e+12</td>\n",
       "      <td>3342.000000</td>\n",
       "      <td>2.457092e+06</td>\n",
       "      <td>55843.000000</td>\n",
       "      <td>2019.000000</td>\n",
       "    </tr>\n",
       "  </tbody>\n",
       "</table>\n",
       "</div>"
      ],
      "text/plain": [
       "       average_rating        isbn13    num_pages  ratings_count  \\\n",
       "count     5000.000000  5.000000e+03  4967.000000   5.000000e+03   \n",
       "mean         3.931932  9.752758e+12   341.094021   2.017549e+04   \n",
       "std          0.348741  5.129254e+11   230.986115   1.175026e+05   \n",
       "min          0.000000  8.987060e+09     1.000000   0.000000e+00   \n",
       "25%          3.770000  9.780345e+12   200.000000   1.050000e+02   \n",
       "50%          3.960000  9.780571e+12   304.000000   7.915000e+02   \n",
       "75%          4.140000  9.780871e+12   416.500000   5.348750e+03   \n",
       "max          5.000000  9.789879e+12  3342.000000   2.457092e+06   \n",
       "\n",
       "       text_reviews_count         year  \n",
       "count         5000.000000  5000.000000  \n",
       "mean           592.688600  2000.131800  \n",
       "std           2539.539004     8.069043  \n",
       "min              0.000000  1913.000000  \n",
       "25%              9.000000  1998.000000  \n",
       "50%             49.000000  2003.000000  \n",
       "75%            249.000000  2005.000000  \n",
       "max          55843.000000  2019.000000  "
      ]
     },
     "execution_count": 39,
     "metadata": {},
     "output_type": "execute_result"
    }
   ],
   "source": [
    "df.describe()"
   ]
  },
  {
   "cell_type": "code",
   "execution_count": 40,
   "id": "c3d8febe",
   "metadata": {},
   "outputs": [
    {
     "name": "stdout",
     "output_type": "stream",
     "text": [
      "<class 'pandas.core.frame.DataFrame'>\n",
      "RangeIndex: 5000 entries, 0 to 4999\n",
      "Data columns (total 10 columns):\n",
      " #   Column              Non-Null Count  Dtype  \n",
      "---  ------              --------------  -----  \n",
      " 0   title               5000 non-null   object \n",
      " 1   author              5000 non-null   object \n",
      " 2   average_rating      5000 non-null   float64\n",
      " 3   isbn13              5000 non-null   int64  \n",
      " 4   language_code       4923 non-null   object \n",
      " 5   num_pages           4967 non-null   float64\n",
      " 6   ratings_count       5000 non-null   int64  \n",
      " 7   text_reviews_count  5000 non-null   int64  \n",
      " 8   publisher           5000 non-null   object \n",
      " 9   year                5000 non-null   int64  \n",
      "dtypes: float64(2), int64(4), object(4)\n",
      "memory usage: 390.8+ KB\n"
     ]
    }
   ],
   "source": [
    "df.info()"
   ]
  },
  {
   "cell_type": "code",
   "execution_count": 42,
   "id": "6a2f141f",
   "metadata": {},
   "outputs": [
    {
     "data": {
      "text/plain": [
       "title                 2115\n",
       "author                2115\n",
       "average_rating        2115\n",
       "isbn13                2115\n",
       "language_code         2072\n",
       "num_pages             2103\n",
       "ratings_count         2115\n",
       "text_reviews_count    2115\n",
       "publisher             2115\n",
       "year                  2115\n",
       "dtype: int64"
      ]
     },
     "execution_count": 42,
     "metadata": {},
     "output_type": "execute_result"
    }
   ],
   "source": [
    "df[df['average_rating']>4].count()"
   ]
  },
  {
   "cell_type": "code",
   "execution_count": 50,
   "id": "a1ca5bdd",
   "metadata": {},
   "outputs": [
    {
     "data": {
      "text/html": [
       "<div>\n",
       "<style scoped>\n",
       "    .dataframe tbody tr th:only-of-type {\n",
       "        vertical-align: middle;\n",
       "    }\n",
       "\n",
       "    .dataframe tbody tr th {\n",
       "        vertical-align: top;\n",
       "    }\n",
       "\n",
       "    .dataframe thead th {\n",
       "        text-align: right;\n",
       "    }\n",
       "</style>\n",
       "<table border=\"1\" class=\"dataframe\">\n",
       "  <thead>\n",
       "    <tr style=\"text-align: right;\">\n",
       "      <th></th>\n",
       "      <th>title</th>\n",
       "      <th>author</th>\n",
       "      <th>average_rating</th>\n",
       "      <th>isbn13</th>\n",
       "      <th>language_code</th>\n",
       "      <th>num_pages</th>\n",
       "      <th>ratings_count</th>\n",
       "      <th>text_reviews_count</th>\n",
       "      <th>publisher</th>\n",
       "      <th>year</th>\n",
       "    </tr>\n",
       "  </thead>\n",
       "  <tbody>\n",
       "    <tr>\n",
       "      <th>63</th>\n",
       "      <td>鋼之鍊金術師 9</td>\n",
       "      <td>Hiromu Arakawa</td>\n",
       "      <td>4.57</td>\n",
       "      <td>9789861156521</td>\n",
       "      <td>NaN</td>\n",
       "      <td>184.0</td>\n",
       "      <td>4</td>\n",
       "      <td>0</td>\n",
       "      <td>東立</td>\n",
       "      <td>2004</td>\n",
       "    </tr>\n",
       "    <tr>\n",
       "      <th>178</th>\n",
       "      <td>鋼之鍊金術師 6</td>\n",
       "      <td>Hiromu Arakawa</td>\n",
       "      <td>4.58</td>\n",
       "      <td>9789861146140</td>\n",
       "      <td>NaN</td>\n",
       "      <td>191.0</td>\n",
       "      <td>5</td>\n",
       "      <td>0</td>\n",
       "      <td>東立</td>\n",
       "      <td>2004</td>\n",
       "    </tr>\n",
       "    <tr>\n",
       "      <th>224</th>\n",
       "      <td>Stargirl LitPlans on CD</td>\n",
       "      <td>Mary B. Collins</td>\n",
       "      <td>4.86</td>\n",
       "      <td>9781583372920</td>\n",
       "      <td>eng</td>\n",
       "      <td>210.0</td>\n",
       "      <td>5</td>\n",
       "      <td>0</td>\n",
       "      <td>Teacher's Pet Publications</td>\n",
       "      <td>2005</td>\n",
       "    </tr>\n",
       "    <tr>\n",
       "      <th>454</th>\n",
       "      <td>Literature Circle Guide: Bridge to Terabithia:...</td>\n",
       "      <td>Tara MacCarthy</td>\n",
       "      <td>5.00</td>\n",
       "      <td>9780439271714</td>\n",
       "      <td>eng</td>\n",
       "      <td>32.0</td>\n",
       "      <td>4</td>\n",
       "      <td>1</td>\n",
       "      <td>Teaching Resources</td>\n",
       "      <td>2002</td>\n",
       "    </tr>\n",
       "    <tr>\n",
       "      <th>584</th>\n",
       "      <td>Falling Angels (Luc Actar #1)</td>\n",
       "      <td>Melissa M. Garcia</td>\n",
       "      <td>4.67</td>\n",
       "      <td>9780595377107</td>\n",
       "      <td>eng</td>\n",
       "      <td>216.0</td>\n",
       "      <td>1</td>\n",
       "      <td>0</td>\n",
       "      <td>iUniverse</td>\n",
       "      <td>2006</td>\n",
       "    </tr>\n",
       "    <tr>\n",
       "      <th>681</th>\n",
       "      <td>Fanning the Flame: Bible  Cross  and Mission</td>\n",
       "      <td>Chris    Green</td>\n",
       "      <td>5.00</td>\n",
       "      <td>9780310249870</td>\n",
       "      <td>eng</td>\n",
       "      <td>336.0</td>\n",
       "      <td>1</td>\n",
       "      <td>1</td>\n",
       "      <td>Zondervan</td>\n",
       "      <td>2003</td>\n",
       "    </tr>\n",
       "    <tr>\n",
       "      <th>696</th>\n",
       "      <td>Tyrannosaurus Wrecks (Stanley  #1)</td>\n",
       "      <td>Laura Driscoll</td>\n",
       "      <td>5.00</td>\n",
       "      <td>9780786845033</td>\n",
       "      <td>eng</td>\n",
       "      <td>24.0</td>\n",
       "      <td>2</td>\n",
       "      <td>1</td>\n",
       "      <td>Disney Press</td>\n",
       "      <td>2003</td>\n",
       "    </tr>\n",
       "    <tr>\n",
       "      <th>741</th>\n",
       "      <td>The John Deere Two-Cylinder Tractor Encycloped...</td>\n",
       "      <td>Don Macmillan</td>\n",
       "      <td>4.75</td>\n",
       "      <td>9780760329634</td>\n",
       "      <td>eng</td>\n",
       "      <td>256.0</td>\n",
       "      <td>4</td>\n",
       "      <td>0</td>\n",
       "      <td>Voyageur Press</td>\n",
       "      <td>2007</td>\n",
       "    </tr>\n",
       "    <tr>\n",
       "      <th>757</th>\n",
       "      <td>The American Campaign: U.S. Presidential Campa...</td>\n",
       "      <td>James E. Campbell</td>\n",
       "      <td>5.00</td>\n",
       "      <td>9780890969403</td>\n",
       "      <td>eng</td>\n",
       "      <td>314.0</td>\n",
       "      <td>0</td>\n",
       "      <td>0</td>\n",
       "      <td>Texas A&amp;M University Press</td>\n",
       "      <td>2000</td>\n",
       "    </tr>\n",
       "    <tr>\n",
       "      <th>1837</th>\n",
       "      <td>The Goon Show  Volume 4: My Knees Have Fallen ...</td>\n",
       "      <td>NOT A BOOK</td>\n",
       "      <td>5.00</td>\n",
       "      <td>9780563388692</td>\n",
       "      <td>eng</td>\n",
       "      <td>2.0</td>\n",
       "      <td>3</td>\n",
       "      <td>0</td>\n",
       "      <td>BBC Physical Audio</td>\n",
       "      <td>1996</td>\n",
       "    </tr>\n",
       "    <tr>\n",
       "      <th>1856</th>\n",
       "      <td>鋼之鍊金術師 10</td>\n",
       "      <td>Hiromu Arakawa</td>\n",
       "      <td>4.60</td>\n",
       "      <td>9789861156538</td>\n",
       "      <td>NaN</td>\n",
       "      <td>188.0</td>\n",
       "      <td>3</td>\n",
       "      <td>0</td>\n",
       "      <td>東立</td>\n",
       "      <td>2005</td>\n",
       "    </tr>\n",
       "    <tr>\n",
       "      <th>1960</th>\n",
       "      <td>Wissenschaft der Logik: Die Lehre Vom Begriff ...</td>\n",
       "      <td>Georg Wilhelm Friedrich Hegel</td>\n",
       "      <td>4.78</td>\n",
       "      <td>9783787307678</td>\n",
       "      <td>ger</td>\n",
       "      <td>337.0</td>\n",
       "      <td>0</td>\n",
       "      <td>0</td>\n",
       "      <td>F. Meiner</td>\n",
       "      <td>1994</td>\n",
       "    </tr>\n",
       "    <tr>\n",
       "      <th>2244</th>\n",
       "      <td>Getting a Grip on the Basics: Building a Firm ...</td>\n",
       "      <td>Beth A. Jones</td>\n",
       "      <td>4.67</td>\n",
       "      <td>9781577948261</td>\n",
       "      <td>eng</td>\n",
       "      <td>124.0</td>\n",
       "      <td>9</td>\n",
       "      <td>0</td>\n",
       "      <td>Harrison House</td>\n",
       "      <td>2006</td>\n",
       "    </tr>\n",
       "    <tr>\n",
       "      <th>2496</th>\n",
       "      <td>Come Away My Beloved</td>\n",
       "      <td>Frances J. Roberts</td>\n",
       "      <td>4.58</td>\n",
       "      <td>9781593109158</td>\n",
       "      <td>eng</td>\n",
       "      <td>192.0</td>\n",
       "      <td>8</td>\n",
       "      <td>0</td>\n",
       "      <td>Barbour Books</td>\n",
       "      <td>2005</td>\n",
       "    </tr>\n",
       "    <tr>\n",
       "      <th>3178</th>\n",
       "      <td>Organizational Architecture: Designs for Chang...</td>\n",
       "      <td>David A. Nadler</td>\n",
       "      <td>4.62</td>\n",
       "      <td>9781555424435</td>\n",
       "      <td>eng</td>\n",
       "      <td>304.0</td>\n",
       "      <td>2</td>\n",
       "      <td>0</td>\n",
       "      <td>Jossey-Bass</td>\n",
       "      <td>1992</td>\n",
       "    </tr>\n",
       "    <tr>\n",
       "      <th>3438</th>\n",
       "      <td>Bill Gates: Computer Legend (Famous Lives)</td>\n",
       "      <td>Sara Barton-Wood</td>\n",
       "      <td>5.00</td>\n",
       "      <td>9780739844328</td>\n",
       "      <td>eng</td>\n",
       "      <td>48.0</td>\n",
       "      <td>0</td>\n",
       "      <td>0</td>\n",
       "      <td>Raintree</td>\n",
       "      <td>2001</td>\n",
       "    </tr>\n",
       "    <tr>\n",
       "      <th>3706</th>\n",
       "      <td>A Wife After God's Own Heart Growth and Study ...</td>\n",
       "      <td>Elizabeth George</td>\n",
       "      <td>4.69</td>\n",
       "      <td>9780736911689</td>\n",
       "      <td>eng</td>\n",
       "      <td>160.0</td>\n",
       "      <td>9</td>\n",
       "      <td>1</td>\n",
       "      <td>Harvest House Publishers</td>\n",
       "      <td>2004</td>\n",
       "    </tr>\n",
       "    <tr>\n",
       "      <th>3833</th>\n",
       "      <td>His Princess Devotional: A Royal Encounter Wit...</td>\n",
       "      <td>Sheri Rose Shepherd</td>\n",
       "      <td>5.00</td>\n",
       "      <td>9781590529621</td>\n",
       "      <td>eng</td>\n",
       "      <td>240.0</td>\n",
       "      <td>2</td>\n",
       "      <td>0</td>\n",
       "      <td>Multnomah</td>\n",
       "      <td>2007</td>\n",
       "    </tr>\n",
       "    <tr>\n",
       "      <th>3909</th>\n",
       "      <td>Little Big Book for God's Children</td>\n",
       "      <td>Alice Wong</td>\n",
       "      <td>4.88</td>\n",
       "      <td>9780941807555</td>\n",
       "      <td>en-US</td>\n",
       "      <td>352.0</td>\n",
       "      <td>8</td>\n",
       "      <td>0</td>\n",
       "      <td>Welcome Books</td>\n",
       "      <td>2001</td>\n",
       "    </tr>\n",
       "    <tr>\n",
       "      <th>3927</th>\n",
       "      <td>Colossians and Philemon: A Critical and Exeget...</td>\n",
       "      <td>R. McL. Wilson</td>\n",
       "      <td>5.00</td>\n",
       "      <td>9780567044716</td>\n",
       "      <td>eng</td>\n",
       "      <td>512.0</td>\n",
       "      <td>1</td>\n",
       "      <td>0</td>\n",
       "      <td>T&amp;T Clark Int'l</td>\n",
       "      <td>2005</td>\n",
       "    </tr>\n",
       "    <tr>\n",
       "      <th>4108</th>\n",
       "      <td>Willem de Kooning: Late Paintings</td>\n",
       "      <td>Julie Sylvester</td>\n",
       "      <td>5.00</td>\n",
       "      <td>9783829602266</td>\n",
       "      <td>eng</td>\n",
       "      <td>83.0</td>\n",
       "      <td>1</td>\n",
       "      <td>0</td>\n",
       "      <td>Schirmer Mosel</td>\n",
       "      <td>2006</td>\n",
       "    </tr>\n",
       "    <tr>\n",
       "      <th>4415</th>\n",
       "      <td>Corvette</td>\n",
       "      <td>Jerry Burton</td>\n",
       "      <td>4.83</td>\n",
       "      <td>9780883631218</td>\n",
       "      <td>eng</td>\n",
       "      <td>320.0</td>\n",
       "      <td>6</td>\n",
       "      <td>1</td>\n",
       "      <td>Universe Publishing(NY)</td>\n",
       "      <td>2006</td>\n",
       "    </tr>\n",
       "    <tr>\n",
       "      <th>4455</th>\n",
       "      <td>The Complete Theory Fun Factory: Music Theory ...</td>\n",
       "      <td>Ian        Martin</td>\n",
       "      <td>5.00</td>\n",
       "      <td>9780851621814</td>\n",
       "      <td>eng</td>\n",
       "      <td>96.0</td>\n",
       "      <td>1</td>\n",
       "      <td>0</td>\n",
       "      <td>Boosey &amp; Hawkes Inc</td>\n",
       "      <td>2004</td>\n",
       "    </tr>\n",
       "    <tr>\n",
       "      <th>4917</th>\n",
       "      <td>Taxation of Mineral Rents</td>\n",
       "      <td>Ross Garnaut</td>\n",
       "      <td>5.00</td>\n",
       "      <td>9780198284543</td>\n",
       "      <td>eng</td>\n",
       "      <td>350.0</td>\n",
       "      <td>1</td>\n",
       "      <td>0</td>\n",
       "      <td>Oxford University Press  USA</td>\n",
       "      <td>1983</td>\n",
       "    </tr>\n",
       "    <tr>\n",
       "      <th>4933</th>\n",
       "      <td>Oliver Wendell Holmes in Paris: Medicine  Theo...</td>\n",
       "      <td>William C. Dowling</td>\n",
       "      <td>5.00</td>\n",
       "      <td>9781584655800</td>\n",
       "      <td>eng</td>\n",
       "      <td>179.0</td>\n",
       "      <td>1</td>\n",
       "      <td>1</td>\n",
       "      <td>University Press of New England</td>\n",
       "      <td>2007</td>\n",
       "    </tr>\n",
       "  </tbody>\n",
       "</table>\n",
       "</div>"
      ],
      "text/plain": [
       "                                                  title  \\\n",
       "63                                             鋼之鍊金術師 9   \n",
       "178                                            鋼之鍊金術師 6   \n",
       "224                             Stargirl LitPlans on CD   \n",
       "454   Literature Circle Guide: Bridge to Terabithia:...   \n",
       "584                       Falling Angels (Luc Actar #1)   \n",
       "681        Fanning the Flame: Bible  Cross  and Mission   \n",
       "696                  Tyrannosaurus Wrecks (Stanley  #1)   \n",
       "741   The John Deere Two-Cylinder Tractor Encycloped...   \n",
       "757   The American Campaign: U.S. Presidential Campa...   \n",
       "1837  The Goon Show  Volume 4: My Knees Have Fallen ...   \n",
       "1856                                          鋼之鍊金術師 10   \n",
       "1960  Wissenschaft der Logik: Die Lehre Vom Begriff ...   \n",
       "2244  Getting a Grip on the Basics: Building a Firm ...   \n",
       "2496                               Come Away My Beloved   \n",
       "3178  Organizational Architecture: Designs for Chang...   \n",
       "3438         Bill Gates: Computer Legend (Famous Lives)   \n",
       "3706  A Wife After God's Own Heart Growth and Study ...   \n",
       "3833  His Princess Devotional: A Royal Encounter Wit...   \n",
       "3909                 Little Big Book for God's Children   \n",
       "3927  Colossians and Philemon: A Critical and Exeget...   \n",
       "4108                  Willem de Kooning: Late Paintings   \n",
       "4415                                           Corvette   \n",
       "4455  The Complete Theory Fun Factory: Music Theory ...   \n",
       "4917                          Taxation of Mineral Rents   \n",
       "4933  Oliver Wendell Holmes in Paris: Medicine  Theo...   \n",
       "\n",
       "                             author  average_rating         isbn13  \\\n",
       "63                   Hiromu Arakawa            4.57  9789861156521   \n",
       "178                  Hiromu Arakawa            4.58  9789861146140   \n",
       "224                 Mary B. Collins            4.86  9781583372920   \n",
       "454                  Tara MacCarthy            5.00  9780439271714   \n",
       "584               Melissa M. Garcia            4.67  9780595377107   \n",
       "681                  Chris    Green            5.00  9780310249870   \n",
       "696                  Laura Driscoll            5.00  9780786845033   \n",
       "741                   Don Macmillan            4.75  9780760329634   \n",
       "757               James E. Campbell            5.00  9780890969403   \n",
       "1837                     NOT A BOOK            5.00  9780563388692   \n",
       "1856                 Hiromu Arakawa            4.60  9789861156538   \n",
       "1960  Georg Wilhelm Friedrich Hegel            4.78  9783787307678   \n",
       "2244                  Beth A. Jones            4.67  9781577948261   \n",
       "2496             Frances J. Roberts            4.58  9781593109158   \n",
       "3178                David A. Nadler            4.62  9781555424435   \n",
       "3438               Sara Barton-Wood            5.00  9780739844328   \n",
       "3706               Elizabeth George            4.69  9780736911689   \n",
       "3833            Sheri Rose Shepherd            5.00  9781590529621   \n",
       "3909                     Alice Wong            4.88  9780941807555   \n",
       "3927                 R. McL. Wilson            5.00  9780567044716   \n",
       "4108                Julie Sylvester            5.00  9783829602266   \n",
       "4415                   Jerry Burton            4.83  9780883631218   \n",
       "4455              Ian        Martin            5.00  9780851621814   \n",
       "4917                   Ross Garnaut            5.00  9780198284543   \n",
       "4933             William C. Dowling            5.00  9781584655800   \n",
       "\n",
       "     language_code  num_pages  ratings_count  text_reviews_count  \\\n",
       "63             NaN      184.0              4                   0   \n",
       "178            NaN      191.0              5                   0   \n",
       "224            eng      210.0              5                   0   \n",
       "454            eng       32.0              4                   1   \n",
       "584            eng      216.0              1                   0   \n",
       "681            eng      336.0              1                   1   \n",
       "696            eng       24.0              2                   1   \n",
       "741            eng      256.0              4                   0   \n",
       "757            eng      314.0              0                   0   \n",
       "1837           eng        2.0              3                   0   \n",
       "1856           NaN      188.0              3                   0   \n",
       "1960           ger      337.0              0                   0   \n",
       "2244           eng      124.0              9                   0   \n",
       "2496           eng      192.0              8                   0   \n",
       "3178           eng      304.0              2                   0   \n",
       "3438           eng       48.0              0                   0   \n",
       "3706           eng      160.0              9                   1   \n",
       "3833           eng      240.0              2                   0   \n",
       "3909         en-US      352.0              8                   0   \n",
       "3927           eng      512.0              1                   0   \n",
       "4108           eng       83.0              1                   0   \n",
       "4415           eng      320.0              6                   1   \n",
       "4455           eng       96.0              1                   0   \n",
       "4917           eng      350.0              1                   0   \n",
       "4933           eng      179.0              1                   1   \n",
       "\n",
       "                            publisher  year  \n",
       "63                                 東立  2004  \n",
       "178                                東立  2004  \n",
       "224        Teacher's Pet Publications  2005  \n",
       "454                Teaching Resources  2002  \n",
       "584                         iUniverse  2006  \n",
       "681                         Zondervan  2003  \n",
       "696                      Disney Press  2003  \n",
       "741                    Voyageur Press  2007  \n",
       "757        Texas A&M University Press  2000  \n",
       "1837               BBC Physical Audio  1996  \n",
       "1856                               東立  2005  \n",
       "1960                        F. Meiner  1994  \n",
       "2244                   Harrison House  2006  \n",
       "2496                    Barbour Books  2005  \n",
       "3178                      Jossey-Bass  1992  \n",
       "3438                         Raintree  2001  \n",
       "3706         Harvest House Publishers  2004  \n",
       "3833                        Multnomah  2007  \n",
       "3909                    Welcome Books  2001  \n",
       "3927                  T&T Clark Int'l  2005  \n",
       "4108                   Schirmer Mosel  2006  \n",
       "4415          Universe Publishing(NY)  2006  \n",
       "4455              Boosey & Hawkes Inc  2004  \n",
       "4917     Oxford University Press  USA  1983  \n",
       "4933  University Press of New England  2007  "
      ]
     },
     "execution_count": 50,
     "metadata": {},
     "output_type": "execute_result"
    }
   ],
   "source": [
    "df[(df['average_rating']>4.5) & (df['ratings_count'] < 10)]"
   ]
  },
  {
   "cell_type": "code",
   "execution_count": 57,
   "id": "f6398c3a",
   "metadata": {},
   "outputs": [
    {
     "data": {
      "text/plain": [
       "3.931142857142857"
      ]
     },
     "execution_count": 57,
     "metadata": {},
     "output_type": "execute_result"
    }
   ],
   "source": [
    "df[df['language_code'] == 'eng']['average_rating'].mean()"
   ]
  },
  {
   "cell_type": "code",
   "execution_count": 58,
   "id": "2254856c",
   "metadata": {},
   "outputs": [
    {
     "data": {
      "text/html": [
       "<div>\n",
       "<style scoped>\n",
       "    .dataframe tbody tr th:only-of-type {\n",
       "        vertical-align: middle;\n",
       "    }\n",
       "\n",
       "    .dataframe tbody tr th {\n",
       "        vertical-align: top;\n",
       "    }\n",
       "\n",
       "    .dataframe thead th {\n",
       "        text-align: right;\n",
       "    }\n",
       "</style>\n",
       "<table border=\"1\" class=\"dataframe\">\n",
       "  <thead>\n",
       "    <tr style=\"text-align: right;\">\n",
       "      <th></th>\n",
       "      <th>title</th>\n",
       "      <th>author</th>\n",
       "      <th>average_rating</th>\n",
       "      <th>isbn13</th>\n",
       "    </tr>\n",
       "  </thead>\n",
       "  <tbody>\n",
       "    <tr>\n",
       "      <th>0</th>\n",
       "      <td>The Hunchback of Notre-Dame</td>\n",
       "      <td>Victor Hugo</td>\n",
       "      <td>4.00</td>\n",
       "      <td>9780345472427</td>\n",
       "    </tr>\n",
       "    <tr>\n",
       "      <th>1</th>\n",
       "      <td>La Cucina Di Lidia: Recipes and Memories from ...</td>\n",
       "      <td>Lidia Matticchio Bastianich</td>\n",
       "      <td>4.14</td>\n",
       "      <td>9780767914222</td>\n",
       "    </tr>\n",
       "    <tr>\n",
       "      <th>2</th>\n",
       "      <td>Breach of Promise</td>\n",
       "      <td>James Scott Bell</td>\n",
       "      <td>4.00</td>\n",
       "      <td>9780310243878</td>\n",
       "    </tr>\n",
       "    <tr>\n",
       "      <th>3</th>\n",
       "      <td>Brief Interviews with Hideous Men</td>\n",
       "      <td>David Foster Wallace</td>\n",
       "      <td>3.86</td>\n",
       "      <td>9780349111889</td>\n",
       "    </tr>\n",
       "    <tr>\n",
       "      <th>4</th>\n",
       "      <td>The Killing Dance (Anita Blake  Vampire Hunter...</td>\n",
       "      <td>Laurell K. Hamilton</td>\n",
       "      <td>4.13</td>\n",
       "      <td>9780425209066</td>\n",
       "    </tr>\n",
       "  </tbody>\n",
       "</table>\n",
       "</div>"
      ],
      "text/plain": [
       "                                               title  \\\n",
       "0                        The Hunchback of Notre-Dame   \n",
       "1  La Cucina Di Lidia: Recipes and Memories from ...   \n",
       "2                                  Breach of Promise   \n",
       "3                  Brief Interviews with Hideous Men   \n",
       "4  The Killing Dance (Anita Blake  Vampire Hunter...   \n",
       "\n",
       "                        author  average_rating         isbn13  \n",
       "0                  Victor Hugo            4.00  9780345472427  \n",
       "1  Lidia Matticchio Bastianich            4.14  9780767914222  \n",
       "2             James Scott Bell            4.00  9780310243878  \n",
       "3         David Foster Wallace            3.86  9780349111889  \n",
       "4          Laurell K. Hamilton            4.13  9780425209066  "
      ]
     },
     "execution_count": 58,
     "metadata": {},
     "output_type": "execute_result"
    }
   ],
   "source": [
    "df.iloc[0:5,0:4]"
   ]
  },
  {
   "cell_type": "code",
   "execution_count": 59,
   "id": "78a012c8",
   "metadata": {},
   "outputs": [
    {
     "data": {
      "text/html": [
       "<div>\n",
       "<style scoped>\n",
       "    .dataframe tbody tr th:only-of-type {\n",
       "        vertical-align: middle;\n",
       "    }\n",
       "\n",
       "    .dataframe tbody tr th {\n",
       "        vertical-align: top;\n",
       "    }\n",
       "\n",
       "    .dataframe thead th {\n",
       "        text-align: right;\n",
       "    }\n",
       "</style>\n",
       "<table border=\"1\" class=\"dataframe\">\n",
       "  <thead>\n",
       "    <tr style=\"text-align: right;\">\n",
       "      <th></th>\n",
       "      <th>language_code</th>\n",
       "      <th>num_pages</th>\n",
       "      <th>ratings_count</th>\n",
       "    </tr>\n",
       "  </thead>\n",
       "  <tbody>\n",
       "    <tr>\n",
       "      <th>1</th>\n",
       "      <td>en-GB</td>\n",
       "      <td>288.0</td>\n",
       "      <td>48</td>\n",
       "    </tr>\n",
       "    <tr>\n",
       "      <th>4</th>\n",
       "      <td>en-US</td>\n",
       "      <td>368.0</td>\n",
       "      <td>59524</td>\n",
       "    </tr>\n",
       "  </tbody>\n",
       "</table>\n",
       "</div>"
      ],
      "text/plain": [
       "  language_code  num_pages  ratings_count\n",
       "1         en-GB      288.0             48\n",
       "4         en-US      368.0          59524"
      ]
     },
     "execution_count": 59,
     "metadata": {},
     "output_type": "execute_result"
    }
   ],
   "source": [
    "df.loc[[1,4],['language_code', 'num_pages', 'ratings_count']]"
   ]
  },
  {
   "cell_type": "code",
   "execution_count": 60,
   "id": "9e0d8390",
   "metadata": {},
   "outputs": [
    {
     "data": {
      "text/plain": [
       "304.0"
      ]
     },
     "execution_count": 60,
     "metadata": {},
     "output_type": "execute_result"
    }
   ],
   "source": [
    "df['num_pages'].median()"
   ]
  },
  {
   "cell_type": "code",
   "execution_count": 61,
   "id": "125144e8",
   "metadata": {},
   "outputs": [
    {
     "data": {
      "text/plain": [
       "3342.0"
      ]
     },
     "execution_count": 61,
     "metadata": {},
     "output_type": "execute_result"
    }
   ],
   "source": [
    "df['num_pages'].max()"
   ]
  },
  {
   "cell_type": "code",
   "execution_count": 62,
   "id": "e83459dd",
   "metadata": {},
   "outputs": [
    {
     "data": {
      "text/plain": [
       "0    288.0\n",
       "Name: num_pages, dtype: float64"
      ]
     },
     "execution_count": 62,
     "metadata": {},
     "output_type": "execute_result"
    }
   ],
   "source": [
    "df['num_pages'].mode()"
   ]
  },
  {
   "cell_type": "code",
   "execution_count": 63,
   "id": "b9f5eea7",
   "metadata": {},
   "outputs": [
    {
     "data": {
      "text/plain": [
       "341.0940205355345"
      ]
     },
     "execution_count": 63,
     "metadata": {},
     "output_type": "execute_result"
    }
   ],
   "source": [
    "df['num_pages'].mean()"
   ]
  },
  {
   "cell_type": "code",
   "execution_count": 64,
   "id": "f7932ff5",
   "metadata": {},
   "outputs": [
    {
     "data": {
      "text/plain": [
       "title                 15\n",
       "author                15\n",
       "average_rating        15\n",
       "isbn13                15\n",
       "language_code         15\n",
       "num_pages             15\n",
       "ratings_count         15\n",
       "text_reviews_count    15\n",
       "publisher             15\n",
       "year                  15\n",
       "dtype: int64"
      ]
     },
     "execution_count": 64,
     "metadata": {},
     "output_type": "execute_result"
    }
   ],
   "source": [
    "df[df['year'] == 2010].count()"
   ]
  },
  {
   "cell_type": "code",
   "execution_count": 67,
   "id": "50bf4001",
   "metadata": {},
   "outputs": [
    {
     "data": {
      "text/html": [
       "<div>\n",
       "<style scoped>\n",
       "    .dataframe tbody tr th:only-of-type {\n",
       "        vertical-align: middle;\n",
       "    }\n",
       "\n",
       "    .dataframe tbody tr th {\n",
       "        vertical-align: top;\n",
       "    }\n",
       "\n",
       "    .dataframe thead th {\n",
       "        text-align: right;\n",
       "    }\n",
       "</style>\n",
       "<table border=\"1\" class=\"dataframe\">\n",
       "  <thead>\n",
       "    <tr style=\"text-align: right;\">\n",
       "      <th></th>\n",
       "      <th>title</th>\n",
       "      <th>author</th>\n",
       "      <th>average_rating</th>\n",
       "      <th>isbn13</th>\n",
       "      <th>language_code</th>\n",
       "      <th>num_pages</th>\n",
       "      <th>ratings_count</th>\n",
       "      <th>text_reviews_count</th>\n",
       "      <th>publisher</th>\n",
       "      <th>year</th>\n",
       "    </tr>\n",
       "  </thead>\n",
       "  <tbody>\n",
       "    <tr>\n",
       "      <th>71</th>\n",
       "      <td>By the Sword (Valdemar)</td>\n",
       "      <td>Mercedes Lackey</td>\n",
       "      <td>4.25</td>\n",
       "      <td>9780886774639</td>\n",
       "      <td>eng</td>\n",
       "      <td>492.0</td>\n",
       "      <td>18531</td>\n",
       "      <td>249</td>\n",
       "      <td>DAW</td>\n",
       "      <td>1991</td>\n",
       "    </tr>\n",
       "    <tr>\n",
       "      <th>871</th>\n",
       "      <td>Storm Rising (Valdemar: Mage Storms  #2)</td>\n",
       "      <td>Mercedes Lackey</td>\n",
       "      <td>4.02</td>\n",
       "      <td>9780886777128</td>\n",
       "      <td>en-US</td>\n",
       "      <td>412.0</td>\n",
       "      <td>10781</td>\n",
       "      <td>86</td>\n",
       "      <td>DAW</td>\n",
       "      <td>1996</td>\n",
       "    </tr>\n",
       "    <tr>\n",
       "      <th>1523</th>\n",
       "      <td>Phoenix and Ashes (Elemental Masters  #3)</td>\n",
       "      <td>Mercedes Lackey</td>\n",
       "      <td>4.01</td>\n",
       "      <td>9780756402723</td>\n",
       "      <td>eng</td>\n",
       "      <td>480.0</td>\n",
       "      <td>6980</td>\n",
       "      <td>229</td>\n",
       "      <td>DAW</td>\n",
       "      <td>2005</td>\n",
       "    </tr>\n",
       "    <tr>\n",
       "      <th>1583</th>\n",
       "      <td>To Battle the Gods (Jalav  Amazon Warrior  #5)</td>\n",
       "      <td>Sharon Green</td>\n",
       "      <td>4.07</td>\n",
       "      <td>9780886771287</td>\n",
       "      <td>eng</td>\n",
       "      <td>446.0</td>\n",
       "      <td>87</td>\n",
       "      <td>1</td>\n",
       "      <td>DAW</td>\n",
       "      <td>1986</td>\n",
       "    </tr>\n",
       "    <tr>\n",
       "      <th>3726</th>\n",
       "      <td>Oathblood (Valdemar: Vows and Honor  #3)</td>\n",
       "      <td>Mercedes Lackey</td>\n",
       "      <td>4.06</td>\n",
       "      <td>9780886777739</td>\n",
       "      <td>en-GB</td>\n",
       "      <td>394.0</td>\n",
       "      <td>9786</td>\n",
       "      <td>103</td>\n",
       "      <td>DAW</td>\n",
       "      <td>1998</td>\n",
       "    </tr>\n",
       "    <tr>\n",
       "      <th>4367</th>\n",
       "      <td>Joust (Dragon Jousters  #1)</td>\n",
       "      <td>Mercedes Lackey</td>\n",
       "      <td>4.02</td>\n",
       "      <td>9780756401535</td>\n",
       "      <td>eng</td>\n",
       "      <td>448.0</td>\n",
       "      <td>10113</td>\n",
       "      <td>263</td>\n",
       "      <td>DAW</td>\n",
       "      <td>2004</td>\n",
       "    </tr>\n",
       "  </tbody>\n",
       "</table>\n",
       "</div>"
      ],
      "text/plain": [
       "                                               title           author  \\\n",
       "71                           By the Sword (Valdemar)  Mercedes Lackey   \n",
       "871         Storm Rising (Valdemar: Mage Storms  #2)  Mercedes Lackey   \n",
       "1523       Phoenix and Ashes (Elemental Masters  #3)  Mercedes Lackey   \n",
       "1583  To Battle the Gods (Jalav  Amazon Warrior  #5)     Sharon Green   \n",
       "3726        Oathblood (Valdemar: Vows and Honor  #3)  Mercedes Lackey   \n",
       "4367                     Joust (Dragon Jousters  #1)  Mercedes Lackey   \n",
       "\n",
       "      average_rating         isbn13 language_code  num_pages  ratings_count  \\\n",
       "71              4.25  9780886774639           eng      492.0          18531   \n",
       "871             4.02  9780886777128         en-US      412.0          10781   \n",
       "1523            4.01  9780756402723           eng      480.0           6980   \n",
       "1583            4.07  9780886771287           eng      446.0             87   \n",
       "3726            4.06  9780886777739         en-GB      394.0           9786   \n",
       "4367            4.02  9780756401535           eng      448.0          10113   \n",
       "\n",
       "      text_reviews_count publisher  year  \n",
       "71                   249       DAW  1991  \n",
       "871                   86       DAW  1996  \n",
       "1523                 229       DAW  2005  \n",
       "1583                   1       DAW  1986  \n",
       "3726                 103       DAW  1998  \n",
       "4367                 263       DAW  2004  "
      ]
     },
     "execution_count": 67,
     "metadata": {},
     "output_type": "execute_result"
    }
   ],
   "source": [
    "df[(df['publisher'] == 'DAW') & (df['average_rating'] > 4)]"
   ]
  },
  {
   "cell_type": "code",
   "execution_count": 69,
   "id": "2afcc128",
   "metadata": {},
   "outputs": [
    {
     "data": {
      "text/plain": [
       "title                 5\n",
       "author                5\n",
       "average_rating        5\n",
       "isbn13                5\n",
       "language_code         5\n",
       "num_pages             5\n",
       "ratings_count         5\n",
       "text_reviews_count    5\n",
       "publisher             5\n",
       "year                  5\n",
       "dtype: int64"
      ]
     },
     "execution_count": 69,
     "metadata": {},
     "output_type": "execute_result"
    }
   ],
   "source": [
    "df[(df['year'] > 2010) & (df['num_pages'] > 500)].count()"
   ]
  },
  {
   "cell_type": "code",
   "execution_count": 70,
   "id": "a4e024bd",
   "metadata": {},
   "outputs": [
    {
     "data": {
      "text/plain": [
       "title                 21\n",
       "author                21\n",
       "average_rating        21\n",
       "isbn13                21\n",
       "language_code         21\n",
       "num_pages             19\n",
       "ratings_count         21\n",
       "text_reviews_count    21\n",
       "publisher             21\n",
       "year                  21\n",
       "dtype: int64"
      ]
     },
     "execution_count": 70,
     "metadata": {},
     "output_type": "execute_result"
    }
   ],
   "source": [
    "df[df['author'] == 'Agatha Christie'].count()"
   ]
  },
  {
   "cell_type": "code",
   "execution_count": 71,
   "id": "04c1e084",
   "metadata": {},
   "outputs": [
    {
     "data": {
      "text/plain": [
       "title                 84\n",
       "author                84\n",
       "average_rating        84\n",
       "isbn13                84\n",
       "language_code         84\n",
       "num_pages             83\n",
       "ratings_count         84\n",
       "text_reviews_count    84\n",
       "publisher             84\n",
       "year                  84\n",
       "dtype: int64"
      ]
     },
     "execution_count": 71,
     "metadata": {},
     "output_type": "execute_result"
    }
   ],
   "source": [
    "df[(df['year'] > 2000) & (df['language_code'] == 'spa')].count()"
   ]
  },
  {
   "cell_type": "code",
   "execution_count": null,
   "id": "14cc7baf",
   "metadata": {},
   "outputs": [],
   "source": []
  }
 ],
 "metadata": {
  "kernelspec": {
   "display_name": "Python 3 (ipykernel)",
   "language": "python",
   "name": "python3"
  },
  "language_info": {
   "codemirror_mode": {
    "name": "ipython",
    "version": 3
   },
   "file_extension": ".py",
   "mimetype": "text/x-python",
   "name": "python",
   "nbconvert_exporter": "python",
   "pygments_lexer": "ipython3",
   "version": "3.10.9"
  }
 },
 "nbformat": 4,
 "nbformat_minor": 5
}
