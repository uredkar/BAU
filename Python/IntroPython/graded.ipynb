{
 "cells": [
  {
   "cell_type": "markdown",
   "metadata": {
    "id": "nbJ2tkPtBwrT"
   },
   "source": [
    "## Context\n",
    "The dataset provided is from the city of Melbourne and contains the different attributes of the properties there and the locations in which they are located. The aim is to perform a detailed analysis of this dataset and provide useful insights to facilitate the process of buying and selling real estate."
   ]
  },
  {
   "cell_type": "markdown",
   "metadata": {
    "id": "CVuCWd13RFDS"
   },
   "source": [
    "## Data Description:\n",
    "\n",
    "The detailed data dictionary is given below:\n",
    "\n",
    "* Suburb - Suburb in which the property is located\n",
    "* Rooms - Number of rooms in the property\n",
    "* Type - Type of the property like \n",
    "    * h - house,cottage,villa, semi,terrace, \n",
    "    * t - townhouse,\n",
    "    * u - unit, duplex\n",
    "* SellerG - Name of the real estate agent who sold the property\n",
    "* Date - Date on which the property was sold\n",
    "* Distance - Distance of the property from CBD in kilometres. CBD is the central business district of the city.\n",
    "* Postcode - Postcode of the area\n",
    "* Bedroom - Number of bedrooms in the property\n",
    "* Bathroom - Number of bathrooms in the property\n",
    "* Car - Number of car parking spaces in the property\n",
    "* Landsize - Size of the land in square metres\n",
    "* BuildingArea - Size of the building in square metres (Generally, building size is smaller than land size since someone can have personal gardens and other things in the property.) \n",
    "* YearBuilt - Year in which the building was built\n",
    "* Regionname - Name of the region in which the property is located like Eastern Metropolitan, Western Metropolitan, Northern Victoria etc.\n",
    "* Propertycount - Number of properties that are present in the suburb\n",
    "* Price - price (in AUD) at which the property was sold"
   ]
  },
  {
   "cell_type": "markdown",
   "metadata": {
    "id": "JffhyoX0BwrY"
   },
   "source": [
    "### 4.1 Sanity Checks"
   ]
  },
  {
   "cell_type": "markdown",
   "metadata": {
    "id": "ZDAT5-bUySBT"
   },
   "source": [
    "**Importing necessary libraries**"
   ]
  },
  {
   "cell_type": "code",
   "execution_count": null,
   "metadata": {},
   "outputs": [],
   "source": [
    "!dir"
   ]
  },
  {
   "cell_type": "code",
   "execution_count": null,
   "metadata": {
    "id": "p1SFUqTLxEGM"
   },
   "outputs": [],
   "source": [
    "# Libraries to help with reading and manipulating data\n",
    "import numpy as np\n",
    "import pandas as pd\n",
    "\n",
    "# Libraries to help with data visualization\n",
    "import matplotlib.pyplot as plt\n",
    "import seaborn as sns\n",
    "\n",
    "# to restrict the float value to 3 decimal places\n",
    "pd.set_option('display.float_format', lambda x: '%.3f' % x)"
   ]
  },
  {
   "cell_type": "code",
   "execution_count": null,
   "metadata": {
    "colab": {
     "base_uri": "https://localhost:8080/"
    },
    "id": "zqTR-3E-UmXf",
    "outputId": "be2ab974-4801-4c30-e410-4e53211dc986"
   },
   "outputs": [],
   "source": [
    "# let colab access my google drive\n",
    "#from google.colab import drive\n",
    "#drive.mount('/content/drive')"
   ]
  },
  {
   "cell_type": "markdown",
   "metadata": {
    "id": "L1ASy9VcBwrZ"
   },
   "source": [
    "**Importing the dataset**"
   ]
  },
  {
   "cell_type": "code",
   "execution_count": null,
   "metadata": {
    "id": "fs8O2toYxxIR"
   },
   "outputs": [],
   "source": [
    "#data = pd.read_csv('/content/drive/MyDrive/Python Course/Melbourne_Housing.csv')\n",
    "data = pd.read_csv('Titanic+Data+Set.csv')"
   ]
  },
  {
   "cell_type": "markdown",
   "metadata": {
    "id": "-xSWBd6u1K-L"
   },
   "source": [
    "**View the first and last 5 rows of the dataset**"
   ]
  },
  {
   "cell_type": "code",
   "execution_count": null,
   "metadata": {
    "colab": {
     "base_uri": "https://localhost:8080/",
     "height": 444
    },
    "id": "_4po-gylys02",
    "outputId": "0ecb8648-aef9-45aa-beb0-f2c6ccdc6a5c"
   },
   "outputs": [],
   "source": [
    "data.head()"
   ]
  },
  {
   "cell_type": "code",
   "execution_count": null,
   "metadata": {
    "colab": {
     "base_uri": "https://localhost:8080/",
     "height": 444
    },
    "id": "FQWNLBf3zNjF",
    "outputId": "1af34e28-37d9-480c-d39b-1e6ccb8028bf"
   },
   "outputs": [],
   "source": [
    "data.tail()"
   ]
  },
  {
   "cell_type": "markdown",
   "metadata": {
    "id": "AOS7YXrM1TrI"
   },
   "source": [
    "**Understand the shape of the dataset**"
   ]
  },
  {
   "cell_type": "code",
   "execution_count": null,
   "metadata": {
    "colab": {
     "base_uri": "https://localhost:8080/"
    },
    "id": "pBvks_PB0mj8",
    "outputId": "2fe7e17c-6ac3-4cd8-b5c2-1c8d47cb095b"
   },
   "outputs": [],
   "source": [
    "# checking shape of the data\n",
    "print(\"There are\", data.shape[0], 'rows and', data.shape[1], \"columns.\")"
   ]
  },
  {
   "cell_type": "markdown",
   "metadata": {
    "id": "0LLSwZBf1YUM"
   },
   "source": [
    "**Check the data types of the columns for the dataset**"
   ]
  },
  {
   "cell_type": "code",
   "execution_count": null,
   "metadata": {
    "colab": {
     "base_uri": "https://localhost:8080/"
    },
    "id": "6TojyJDezOJ-",
    "outputId": "3eebf00d-287d-4d99-c13b-ae8f8c561fc2"
   },
   "outputs": [],
   "source": [
    "data.info()"
   ]
  },
  {
   "cell_type": "markdown",
   "metadata": {
    "id": "8w5qKrVn7XHX"
   },
   "source": [
    "* There are 10 numerical columns in the data and 6 object type columns.\n",
    "* Date column is being read as object type column but it should be in date-time format.\n",
    "* BuildingArea is read as object type column but it should be a numerical column."
   ]
  },
  {
   "cell_type": "code",
   "execution_count": null,
   "metadata": {
    "id": "tZRumqoi9Tge"
   },
   "outputs": [],
   "source": [
    "# changing the data type of Date column\n",
    "#data['Survived'] = data['Survived'].astype(str)\n",
    "#data['Pclass'] = data['Pclass'].astype(str)\n",
    "#data['Embarked'] = data['Embarked'].astype(str)\n",
    "#data['Cabin'] = data['Cabin'].astype(str)"
   ]
  },
  {
   "cell_type": "code",
   "execution_count": null,
   "metadata": {},
   "outputs": [],
   "source": [
    "#data['Cabin'] = data['Cabin'].fillna('Unknown')\n",
    "#data['Embarked'] = data['Embarked'].fillna('Unknown')\n"
   ]
  },
  {
   "cell_type": "code",
   "execution_count": null,
   "metadata": {},
   "outputs": [],
   "source": [
    "data.isnull().sum().sum()"
   ]
  },
  {
   "cell_type": "code",
   "execution_count": null,
   "metadata": {},
   "outputs": [],
   "source": [
    "data.isnull().sum()"
   ]
  },
  {
   "cell_type": "code",
   "execution_count": null,
   "metadata": {},
   "outputs": [],
   "source": [
    "data.drop(\"Cabin\",axis=1,inplace=True)"
   ]
  },
  {
   "cell_type": "code",
   "execution_count": null,
   "metadata": {},
   "outputs": [],
   "source": [
    "data.isnull().sum().sum()"
   ]
  },
  {
   "cell_type": "code",
   "execution_count": null,
   "metadata": {},
   "outputs": [],
   "source": [
    "data.info()"
   ]
  },
  {
   "cell_type": "code",
   "execution_count": null,
   "metadata": {
    "colab": {
     "base_uri": "https://localhost:8080/"
    },
    "id": "dyawvn_49av6",
    "outputId": "d05b6dde-5c3b-4341-a93a-81ce067c24a6"
   },
   "outputs": [],
   "source": [
    "# let's see why BuildingArea column has object data type\n",
    "data['Embarked'].unique()\n"
   ]
  },
  {
   "cell_type": "markdown",
   "metadata": {
    "id": "MVaXosBnBwrf"
   },
   "source": [
    "* It will be difficult to analyze each data point to find the categorical values in this column. Let's find the count of non-numeric values and see what are these values."
   ]
  },
  {
   "cell_type": "code",
   "execution_count": null,
   "metadata": {
    "colab": {
     "base_uri": "https://localhost:8080/"
    },
    "id": "RmNPNRdeBwrf",
    "outputId": "7ba63044-1844-4b43-c385-59c1ad5b5daf"
   },
   "outputs": [],
   "source": [
    "# checking the count of different data types in BuildingArea column\n",
    "data['Pclass'].apply(type).value_counts()"
   ]
  },
  {
   "cell_type": "code",
   "execution_count": null,
   "metadata": {},
   "outputs": [],
   "source": [
    "data['Embarked'].apply(type).value_counts()"
   ]
  },
  {
   "cell_type": "code",
   "execution_count": null,
   "metadata": {},
   "outputs": [],
   "source": [
    "data['Cabin'].apply(type).value_counts()"
   ]
  },
  {
   "cell_type": "markdown",
   "metadata": {
    "id": "LVkxBaUT92TP"
   },
   "source": [
    "* We can see that there are mixed data type values in the column like - 'missing', 'inf' which should actually be read as missing values (NaN). Let's replace such data points with null values.\n"
   ]
  },
  {
   "cell_type": "code",
   "execution_count": null,
   "metadata": {
    "id": "e5T0WOaq-FZp"
   },
   "outputs": [],
   "source": [
    "# replacing values with nan\n",
    "#data['BuildingArea'] = data['BuildingArea'].replace(['missing','inf'],np.nan)\n",
    "\n",
    "# changing the data type to float\n",
    "#data['BuildingArea'] = data['BuildingArea'].astype(float)"
   ]
  },
  {
   "cell_type": "code",
   "execution_count": null,
   "metadata": {
    "colab": {
     "base_uri": "https://localhost:8080/"
    },
    "id": "VjgpHCeo_Da-",
    "outputId": "046a0c9e-d6bf-456e-b6c4-d43e4b96c96c"
   },
   "outputs": [],
   "source": [
    "# let's check the data type of columns again\n",
    "data.info()"
   ]
  },
  {
   "cell_type": "markdown",
   "metadata": {
    "id": "qkt3vpiT_I4t"
   },
   "source": [
    "* We see that the data types of Date and BuildingArea columns have been fixed.\n",
    "* There are 11 numerical columns, 4 object type columns, and 1 date time column in the data.\n",
    "* We observe that some columns have less entries that other columns (less than 27114 rows) which indicates the presence of missing values in the data."
   ]
  },
  {
   "cell_type": "markdown",
   "metadata": {
    "id": "4HW4wXkDBwrg"
   },
   "source": [
    "**We could have also done this replacement of missing and inf to NaN while loading the data. Let's see how -**"
   ]
  },
  {
   "cell_type": "code",
   "execution_count": null,
   "metadata": {
    "id": "IRqlUrq1Bwrg"
   },
   "outputs": [],
   "source": [
    "# using na_values to tell python which values it should consider as NaN\n",
    "#data_new = pd.read_csv('Melbourne_Housing.csv',na_values=['missing','inf'])"
   ]
  },
  {
   "cell_type": "markdown",
   "metadata": {
    "id": "21cmalTNBwrg"
   },
   "source": [
    "* This method is useful when we know what kind of values to consider as anomalies in the data. "
   ]
  },
  {
   "cell_type": "code",
   "execution_count": null,
   "metadata": {
    "colab": {
     "base_uri": "https://localhost:8080/"
    },
    "id": "KtL1mqVZBwrg",
    "outputId": "d0269c9b-d8c8-4e3d-a787-3378da6b0bc0"
   },
   "outputs": [],
   "source": [
    "#data_new['Pclass'].dtype"
   ]
  },
  {
   "cell_type": "markdown",
   "metadata": {
    "id": "t3lX87GSBwrg"
   },
   "source": [
    "* We observe that now building area is being considered as float after the 'missing' and 'inf' were read as NaN."
   ]
  },
  {
   "cell_type": "markdown",
   "metadata": {
    "id": "bJe1HIx9Acps"
   },
   "source": [
    "**What are missing values?**\n",
    "\n",
    "Missing values occur when no data value is stored for the variable in an observation. Missing data are a common occurrence and can have a significant effect on the conclusions that can be drawn from the data."
   ]
  },
  {
   "cell_type": "markdown",
   "metadata": {
    "id": "qjJEjUpU1l6E"
   },
   "source": [
    "**Checking for missing values in the data**"
   ]
  },
  {
   "cell_type": "code",
   "execution_count": null,
   "metadata": {
    "colab": {
     "base_uri": "https://localhost:8080/"
    },
    "id": "p6TCTCDAzUmR",
    "outputId": "297eb9ab-6b37-46de-e29b-d0c406704bfb"
   },
   "outputs": [],
   "source": [
    "data.isnull().sum()"
   ]
  },
  {
   "cell_type": "markdown",
   "metadata": {
    "id": "cjZbUhBj_XxX"
   },
   "source": [
    "* There are missing values in 8 columns of the data.\n",
    "* We will treat these missing values after understanding the distributions of features in the data, the relationships that exist in the data. This will help us impute these values more effectively."
   ]
  },
  {
   "cell_type": "markdown",
   "metadata": {
    "id": "MtKKvX_j1d2N"
   },
   "source": [
    "**Checking for duplicate entries in the data**"
   ]
  },
  {
   "cell_type": "code",
   "execution_count": null,
   "metadata": {
    "colab": {
     "base_uri": "https://localhost:8080/"
    },
    "id": "fO9oCJoazRM9",
    "outputId": "1c70f059-4089-452e-db35-36e1b018aaef"
   },
   "outputs": [],
   "source": [
    "data.duplicated().sum()"
   ]
  },
  {
   "cell_type": "code",
   "execution_count": null,
   "metadata": {},
   "outputs": [],
   "source": [
    "#data.reset_index(drop=True)"
   ]
  },
  {
   "cell_type": "markdown",
   "metadata": {
    "id": "pXWitpm97Xn_"
   },
   "source": [
    "* There are 11 duplicate entries in the data. Let's remove them."
   ]
  },
  {
   "cell_type": "code",
   "execution_count": null,
   "metadata": {
    "id": "IRBahRHNJVgl"
   },
   "outputs": [],
   "source": [
    "# dropping duplicate entries from the data\n",
    "#data.drop_duplicates(inplace=True)\n",
    "\n",
    "# resetting the index of data frame since some rows will be removed\n",
    "#data.reset_index(drop=True,inplace=True)"
   ]
  },
  {
   "cell_type": "code",
   "execution_count": null,
   "metadata": {},
   "outputs": [],
   "source": [
    "data.head()"
   ]
  },
  {
   "cell_type": "markdown",
   "metadata": {
    "id": "KEQH5qqXzWmo"
   },
   "source": [
    "**Let's check the statistical summary of the data.**"
   ]
  },
  {
   "cell_type": "code",
   "execution_count": null,
   "metadata": {
    "colab": {
     "base_uri": "https://localhost:8080/",
     "height": 394
    },
    "id": "cCqbJH8T1tJJ",
    "outputId": "313d079c-e641-420b-8ab7-485dd84569e0"
   },
   "outputs": [],
   "source": [
    "data.describe().T"
   ]
  },
  {
   "cell_type": "markdown",
   "metadata": {
    "id": "jcd5fPhMA-tQ"
   },
   "source": [
    "* `Rooms:` On average there are 3 rooms in a property. 75% of the properties have less than or equal to 4 rooms. There are some properties which have 16 rooms.\n",
    "* `Distance`: On average the properties are located within 11.28 Kms of central business district, while the median is 10.5 Kms. There is a huge difference between the maximum value and the 75% percentile of the data which indicates there might be outliers present in this column.\n",
    "* The distribution of the number of bedrooms, bathrooms, and car parking spaces is fine. The maximum values of these columns might require a quick check.\n",
    "* `Landsize`: The Landsize column has a huge standard deviation with a mean and median land size of 560.53 and 513 metres respectively. Also, there is a huge difference between the maximum value and the 75% percentile of the data which indicates there might be outliers present in this column.\n",
    "* `YearBuilt`: The latest property was built in 2019 while the earliest property was built in 1850.\n",
    "* `Propertycount`: On average a suburb has around 7564 properties. The column has a large standard deviation of 4494.02 units.\n",
    "* `Price`: On average the house prices are AUD 1050664. The median prices are AUD 871000. There is a huge difference between the maximum value and the 75% percentile of the data which indicates there might be outliers present in this column."
   ]
  },
  {
   "cell_type": "code",
   "execution_count": null,
   "metadata": {
    "colab": {
     "base_uri": "https://localhost:8080/"
    },
    "id": "zaEUQ1Ng_9vo",
    "outputId": "1385dc99-e9ec-4c22-d40a-4c0c28d27fc8"
   },
   "outputs": [],
   "source": [
    "# let's check the total number of unique values in the Postcode column\n",
    "data['Fare'].median()"
   ]
  },
  {
   "cell_type": "markdown",
   "metadata": {
    "id": "Ernj0kh0GzBO"
   },
   "source": [
    "* There are a total of 209 different postcodes in the data."
   ]
  },
  {
   "cell_type": "markdown",
   "metadata": {
    "id": "NHBf6nG6GVFN"
   },
   "source": [
    "**Let's check the count and percentage of categorical levels in each column**"
   ]
  },
  {
   "cell_type": "code",
   "execution_count": null,
   "metadata": {
    "colab": {
     "base_uri": "https://localhost:8080/"
    },
    "id": "tuEDP6sd1vEU",
    "outputId": "ceddce35-26fe-404c-f457-dc3938f2a4be"
   },
   "outputs": [],
   "source": [
    "# Making a list of all categorical variables\n",
    "cat_cols =  ['Survived', 'Pclass', 'Sex', 'Cabin','Embarked']\n",
    "\n",
    "# Printing the count of unique categorical levels in each column\n",
    "for column in cat_cols:\n",
    "    print(data[column].value_counts())\n",
    "    print(\"-\" * 50)"
   ]
  },
  {
   "cell_type": "code",
   "execution_count": null,
   "metadata": {
    "colab": {
     "base_uri": "https://localhost:8080/"
    },
    "id": "DejV6efOBwri",
    "outputId": "b8692e46-06a1-4456-9bc3-d377eb5b2c07"
   },
   "outputs": [],
   "source": [
    "# Printing the percentage of unique categorical levels in each column\n",
    "for column in cat_cols:\n",
    "    print(data[column].value_counts(normalize=True))\n",
    "    print(\"-\" * 50)"
   ]
  },
  {
   "cell_type": "markdown",
   "metadata": {
    "id": "9mqdfr8n16fu"
   },
   "source": [
    "**Observations**\n",
    "* Highest number (724) of the properties are in Reservoir suburb followed by 493 properties in Bentleigh East suburb.\n",
    "* Most of the properties (18394 or 67%) are of type 'h' that is houses/cottages/villas, etc followed by 5882 or 21% properties of type 'u' that is unit/duplex. The least number (2827 or 10%) is of type 't' that is townhouses.\n",
    "* Top 5 sellers of properties are  - Nelson, Jellis, Barry, hockingstuart, and Ray.\n",
    "* 31% of the properties are in Southern Metropolitan followed by 28% in Northern Metropolitan, and 21% in Western Metropolitan. This shows that our analysis will be biased towards Metropolitan regions than Victoria regions as around 98% of the data points are from Metropolitan region."
   ]
  },
  {
   "cell_type": "markdown",
   "metadata": {
    "id": "j6uAieYsNnL4"
   },
   "source": [
    "### 4.2 Univariate Analysis"
   ]
  },
  {
   "cell_type": "markdown",
   "metadata": {
    "id": "jVuRCQCsPdq5"
   },
   "source": [
    "**Let's check the distribution for numerical columns.**"
   ]
  },
  {
   "cell_type": "markdown",
   "metadata": {
    "id": "vz2c8XHoRMh4"
   },
   "source": [
    "**Observations on Distance**"
   ]
  },
  {
   "cell_type": "code",
   "execution_count": null,
   "metadata": {
    "colab": {
     "base_uri": "https://localhost:8080/",
     "height": 541
    },
    "id": "4_Du3cBCNtXj",
    "outputId": "660e4628-9f74-47b4-dd2b-1a31f4ed5c7e"
   },
   "outputs": [],
   "source": [
    "sns.histplot(data=data,x='Pclass',hue='Sex')\n",
    "plt.show()\n",
    "sns.histplot(data=data,x='Survived',hue='Sex')\n",
    "plt.show()"
   ]
  },
  {
   "cell_type": "markdown",
   "metadata": {
    "id": "7aD6DGL1YEHy"
   },
   "source": [
    "* The distribution is skewed towards right.\n",
    "* There are many outliers present in this column. \n",
    "* Values above 25 Kms are being represented as outliers in the boxplot, indicating there there are many properties that are atleast 25 Kms away from CBD."
   ]
  },
  {
   "cell_type": "markdown",
   "metadata": {
    "id": "vWIAkz-ZRQrE"
   },
   "source": [
    "**Observations on Landsize**"
   ]
  },
  {
   "cell_type": "code",
   "execution_count": null,
   "metadata": {
    "scrolled": true
   },
   "outputs": [],
   "source": [
    "sns.displot(data=data,x='Parch',kind='kde')\n",
    "plt.show()"
   ]
  },
  {
   "cell_type": "code",
   "execution_count": null,
   "metadata": {
    "colab": {
     "base_uri": "https://localhost:8080/",
     "height": 631
    },
    "id": "6V1m7CPjO690",
    "outputId": "65693cdc-d3a1-44f2-b7ea-41841a15d922"
   },
   "outputs": [],
   "source": [
    "sns.displot(data=data,x='Age',kind='kde')\n",
    "plt.show()\n",
    "sns.boxplot(data=data,x='Fare')\n",
    "plt.show()"
   ]
  },
  {
   "cell_type": "code",
   "execution_count": null,
   "metadata": {
    "colab": {
     "base_uri": "https://localhost:8080/",
     "height": 631
    },
    "id": "9U6-ed0jBwrk",
    "outputId": "0a60536b-ce7f-4d02-eab8-f36cebaea6e6"
   },
   "outputs": [],
   "source": [
    "# converting Landsize to sq. kilometres from sq. metres \n",
    "#sns.displot(data=data,x=data['Landsize']/1000000,kind='kde')\n",
    "#plt.show()\n",
    "#sns.boxplot(data=data,x=data['Landsize']/1000000)\n",
    "#plt.show()"
   ]
  },
  {
   "cell_type": "markdown",
   "metadata": {
    "id": "_TkU7Lk7Y910"
   },
   "source": [
    "* The distribution is skewed towards the right, even after conversion to Kilometres.  \n",
    "* There are many outliers present in this column. Some properties have a landsize of more than 60000 sq meters. These value seems to be very high and can possibly be a data entry error. We should check it further."
   ]
  },
  {
   "cell_type": "code",
   "execution_count": null,
   "metadata": {
    "colab": {
     "base_uri": "https://localhost:8080/",
     "height": 211
    },
    "id": "H3jiIhK6Bwrl",
    "outputId": "5e8ebffa-e350-41a9-bb38-b7ab9f9fa643"
   },
   "outputs": [],
   "source": [
    "data.loc[data['Fare']>100]"
   ]
  },
  {
   "cell_type": "markdown",
   "metadata": {
    "id": "aOI62hdhBwrl"
   },
   "source": [
    "* Just by looking at these observation it is difficult to say whether these are data entry errors or not. Although the land size does look very high."
   ]
  },
  {
   "cell_type": "markdown",
   "metadata": {
    "id": "RVeizFUbRSm6"
   },
   "source": [
    "**Observations on BuildingArea**"
   ]
  },
  {
   "cell_type": "code",
   "execution_count": null,
   "metadata": {
    "colab": {
     "base_uri": "https://localhost:8080/",
     "height": 631
    },
    "id": "TY76HkfaQYjo",
    "outputId": "d9ed55e1-6f82-4611-cbc7-e9702cc618f0"
   },
   "outputs": [],
   "source": [
    "#sns.displot(data=data,x='BuildingArea',kind='kde')\n",
    "#plt.show()\n",
    "#sns.boxplot(data=data,x='BuildingArea')\n",
    "#plt.show()"
   ]
  },
  {
   "cell_type": "code",
   "execution_count": null,
   "metadata": {
    "colab": {
     "base_uri": "https://localhost:8080/",
     "height": 631
    },
    "id": "9Yc9iUFWBwrl",
    "outputId": "3389544c-796a-41ca-8316-7f766edb7ac2"
   },
   "outputs": [],
   "source": [
    "\n",
    "#sns.displot(data=data,x=data['BuildingArea'],kind='kde')\n",
    "#plt.show()\n",
    "#sns.boxplot(data=data,x=data['BuildingArea'])\n",
    "#plt.show()"
   ]
  },
  {
   "cell_type": "markdown",
   "metadata": {
    "id": "VHecWkKeavN4"
   },
   "source": [
    "* The distribution of BuildingArea is similar to Landsize that is right skewed.\n",
    "* It has many outliers. There are values above 4000 sq meters which seems high."
   ]
  },
  {
   "cell_type": "raw",
   "metadata": {},
   "source": []
  },
  {
   "cell_type": "markdown",
   "metadata": {
    "id": "VLfP2dYjRUEV"
   },
   "source": [
    "**Observations on Price**"
   ]
  },
  {
   "cell_type": "code",
   "execution_count": null,
   "metadata": {
    "colab": {
     "base_uri": "https://localhost:8080/",
     "height": 541
    },
    "id": "LPBoV_-WQoHw",
    "outputId": "355c9803-d382-43e4-aa85-c04a5a3b30e9"
   },
   "outputs": [],
   "source": [
    "sns.histplot(data=data,x='Fare')\n",
    "plt.show()\n",
    "sns.boxplot(data=data,x='Fare')\n",
    "plt.show()"
   ]
  },
  {
   "cell_type": "markdown",
   "metadata": {
    "id": "ElTxj8DDQuHK"
   },
   "source": [
    "* The distribution of the Price is skewed towards the right.\n",
    "* There are many outliers in this variable and the values above 2000000 are being represented as outliers by the boxplot. \n",
    "* The values seem fine as the selling price of the properties varies and depends upon various factors. For example, distance, if the properties are closer to CBD they might have a higher selling price."
   ]
  },
  {
   "cell_type": "markdown",
   "metadata": {
    "id": "q09RzXRfdrUk"
   },
   "source": [
    "**Observations on Rooms**\n"
   ]
  },
  {
   "cell_type": "code",
   "execution_count": null,
   "metadata": {},
   "outputs": [],
   "source": [
    "sns.boxplot(data=data,x='SibSp')\n",
    "plt.show()"
   ]
  },
  {
   "cell_type": "code",
   "execution_count": null,
   "metadata": {
    "colab": {
     "base_uri": "https://localhost:8080/",
     "height": 279
    },
    "id": "K89at1LGdtjT",
    "outputId": "974dd32b-26ad-498c-8f0f-0558fd4991d8"
   },
   "outputs": [],
   "source": [
    "sns.boxplot(data=data,x='Parch')\n",
    "plt.show()"
   ]
  },
  {
   "cell_type": "markdown",
   "metadata": {
    "id": "GnTqFnz9dzKa"
   },
   "source": [
    "* Properties with more than 7 rooms are being represented as outliers by the boxplot.\n",
    "* Let's find out how many such properties are there which have more than 7 rooms and what are the types of such properties."
   ]
  },
  {
   "cell_type": "code",
   "execution_count": null,
   "metadata": {
    "colab": {
     "base_uri": "https://localhost:8080/"
    },
    "id": "u3VC50JQeBTO",
    "outputId": "13689444-b161-446e-8ef3-3d544a18ee70"
   },
   "outputs": [],
   "source": [
    "data.loc[data['Age']<10].shape"
   ]
  },
  {
   "cell_type": "markdown",
   "metadata": {
    "id": "HhACMibUeFMu"
   },
   "source": [
    "* There are only 23 such properties which have more than 7 rooms."
   ]
  },
  {
   "cell_type": "code",
   "execution_count": null,
   "metadata": {},
   "outputs": [],
   "source": [
    "data.loc[data['Age']<4,['Fare','Survived']]"
   ]
  },
  {
   "cell_type": "code",
   "execution_count": null,
   "metadata": {
    "colab": {
     "base_uri": "https://localhost:8080/"
    },
    "id": "Gd7VKGxrbokS",
    "outputId": "5c64a570-d04e-4183-e704-affa3b531ebe"
   },
   "outputs": [],
   "source": [
    "# findig the type of such properties\n",
    "data.loc[data['Age']<4,['Fare','Survived']].value_counts()"
   ]
  },
  {
   "cell_type": "markdown",
   "metadata": {
    "id": "PGjmmShTcy5A"
   },
   "source": [
    "* There are no townhouses in these.\n",
    "* Most of these properties are houses/villas,etc\n",
    "* Only 2 of such properties are units/duplexes.\n",
    "* This indicates that 'h' type properties are a more likely choice for customers who are looking for bigger properties."
   ]
  },
  {
   "cell_type": "markdown",
   "metadata": {
    "id": "5XMEy7wmekJY"
   },
   "source": [
    "**Observations on Region Name**"
   ]
  },
  {
   "cell_type": "code",
   "execution_count": null,
   "metadata": {},
   "outputs": [],
   "source": [
    "sns.countplot(data=data,x='Embarked',hue='Survived')\n",
    "plt.xticks(rotation=90)\n",
    "plt.show()"
   ]
  },
  {
   "cell_type": "code",
   "execution_count": null,
   "metadata": {
    "colab": {
     "base_uri": "https://localhost:8080/",
     "height": 406
    },
    "id": "gpN8Ov7MeohE",
    "outputId": "04e2b91f-26cc-4caa-dc69-0f04d1d4789b"
   },
   "outputs": [],
   "source": [
    "sns.countplot(data=data,x='Pclass',hue='Survived')\n",
    "plt.xticks(rotation=90)\n",
    "plt.show()"
   ]
  },
  {
   "cell_type": "markdown",
   "metadata": {
    "id": "wzjtzCSje0LV"
   },
   "source": [
    "* Eastern, Northern, and Western Victoria have very less number of properties.\n",
    "* Southern and Northern Metropolitan have the most number of properties."
   ]
  },
  {
   "cell_type": "markdown",
   "metadata": {
    "id": "Ne1w2APnhozJ"
   },
   "source": [
    "### 4.3 Bivariate Analysis"
   ]
  },
  {
   "cell_type": "code",
   "execution_count": null,
   "metadata": {
    "colab": {
     "base_uri": "https://localhost:8080/",
     "height": 384
    },
    "id": "Lkz2y_9zhrOk",
    "outputId": "bcf4f1b4-20fb-4dd3-fa83-412d2fe68654"
   },
   "outputs": [],
   "source": [
    "plt.figure(figsize=(10,5))\n",
    "sns.heatmap(data.corr(),annot=True,cmap='Spectral',vmin=-1,vmax=1)\n",
    "plt.show()"
   ]
  },
  {
   "cell_type": "markdown",
   "metadata": {
    "id": "xtMi3rnBh06a"
   },
   "source": [
    "**Observations**\n",
    "* Price column shows a high correlation with number of rooms, bedrooms, bathrooms and car parking spaces. This indicates that more the number of rooms, bedrooms, etc more will be the selling price of a property. \n",
    "* Price has a negative correlation with Distance column. This indicates as the distance increases the selling price of a property will decrease.\n",
    "* Price has a negative correlation with YearBuilt column. This indicates that vintage properties have higher selling price as compared to properties built recently.\n",
    "* Rooms, Bedrooms, and Bathrooms show a high correlation with each other which is expected.\n",
    "* BuildingArea and Landsize shows a positive correlation which makes sense as if the land size is more the building area will also be more.\n",
    "* We should not consider the correlation value with Postcode because this column is a unique identifier for an area, and an increase or decrease in postcode can not impact any other feature."
   ]
  },
  {
   "cell_type": "markdown",
   "metadata": {
    "id": "UHfmNHyjjxFT"
   },
   "source": [
    "**Properties which have more space for living or more number of rooms, bedrooms and bathrooms generally tend to have higher selling prices. Let's analyze the relationship between the price and total number of rooms in a property**"
   ]
  },
  {
   "cell_type": "code",
   "execution_count": null,
   "metadata": {
    "colab": {
     "base_uri": "https://localhost:8080/",
     "height": 374
    },
    "id": "ttM_i-3Kkcef",
    "outputId": "8cd8a2ed-02bc-44f6-8571-ea55ba3ded95"
   },
   "outputs": [],
   "source": [
    "# let's create a column with a sum of number of rooms, bedrooms, bathrooms, and car parking spaces \n",
    "data['Total Space'] = data['Rooms'] + data['Bedroom'] + data['Bathroom'] + data['Car']\n",
    "data.head()\n"
   ]
  },
  {
   "cell_type": "markdown",
   "metadata": {
    "id": "b_1dHSCtksIb"
   },
   "source": [
    "* The column has been successfully added in the data frame."
   ]
  },
  {
   "cell_type": "code",
   "execution_count": null,
   "metadata": {
    "colab": {
     "base_uri": "https://localhost:8080/",
     "height": 345
    },
    "id": "-GURbUCUk4lX",
    "outputId": "7a9280e2-0a0d-46b6-ceb6-9d19b7e5ca31"
   },
   "outputs": [],
   "source": [
    "plt.figure(figsize=(10,5))\n",
    "sns.scatterplot(data=data,x='Age',y='Sex',hue='Survived')\n",
    "plt.show()"
   ]
  },
  {
   "cell_type": "markdown",
   "metadata": {
    "id": "gg3lKcnpBwrn"
   },
   "source": [
    "* We can see an increasing trend of selling price with total space. Let's visualize the trend using lmplot()."
   ]
  },
  {
   "cell_type": "code",
   "execution_count": null,
   "metadata": {
    "colab": {
     "base_uri": "https://localhost:8080/",
     "height": 369
    },
    "id": "aOHwBExOBwro",
    "outputId": "c465f312-468d-46a7-d323-f79de433b3f0"
   },
   "outputs": [],
   "source": [
    "sns.lmplot(data=data,x='Total Space',y='Price',height=5,aspect=2)\n",
    "plt.xlim(0,55)\n",
    "plt.show()"
   ]
  },
  {
   "cell_type": "markdown",
   "metadata": {
    "id": "eLrZu7iVk-Dk"
   },
   "source": [
    "* A positive correlation or an increasing trend can be clearly observed between the total number of rooms and the selling price of the property, although the line plotted by lmlot() doesn't show a high correlation. Let's check the correlation value further.\n",
    "* The positive correlation indicates that more living space implies a higher selling price."
   ]
  },
  {
   "cell_type": "code",
   "execution_count": null,
   "metadata": {
    "colab": {
     "base_uri": "https://localhost:8080/",
     "height": 112
    },
    "id": "YzLfovNbBwro",
    "outputId": "d90a0623-8362-4c0f-eda4-245017c09092"
   },
   "outputs": [],
   "source": [
    "# lets check the correlation between Total space and Price\n",
    "data[['Total Space','Price']].corr()"
   ]
  },
  {
   "cell_type": "markdown",
   "metadata": {
    "id": "EhnHr0blBwro"
   },
   "source": [
    "* As expected, there is a positive correlation between Total Space and Price but it is not very high."
   ]
  },
  {
   "cell_type": "markdown",
   "metadata": {
    "id": "5dsmoF3qlf8S"
   },
   "source": [
    "**The distance of the property from the key facilities play a cruicial role in deciding the selling price of a property. The properties located closer to key facilities tend to be priced higher and vice versa. Let's find out if the same relationship exists in our data**"
   ]
  },
  {
   "cell_type": "code",
   "execution_count": null,
   "metadata": {
    "colab": {
     "base_uri": "https://localhost:8080/",
     "height": 453
    },
    "id": "9mpaFosXme6m",
    "outputId": "cdf51dff-0479-460b-8569-bd54a22b7d18"
   },
   "outputs": [],
   "source": [
    "plt.figure(figsize=(15,7))\n",
    "sns.scatterplot(data=data, x='Distance', y ='Price')\n",
    "plt.show()"
   ]
  },
  {
   "cell_type": "code",
   "execution_count": null,
   "metadata": {
    "colab": {
     "base_uri": "https://localhost:8080/",
     "height": 453
    },
    "id": "rEYQwTUldmDN",
    "outputId": "5f310788-7bd9-4a48-ed5c-c86fc7f9ead7"
   },
   "outputs": [],
   "source": [
    "plt.figure(figsize=(15,7))\n",
    "sns.lineplot(data=data, x='Distance', y ='Price',ci=None)\n",
    "plt.show()"
   ]
  },
  {
   "cell_type": "markdown",
   "metadata": {
    "id": "36a27fNQmkOF"
   },
   "source": [
    "* We observe that after 20-25 Kms the selling price of the properties starts decreasing which indicates that distance plays a key role in deciding the selling price of a property.\n",
    "* Let's create bins/buckets for the Distance column to get better visualization of the relationship between Price and Distance."
   ]
  },
  {
   "cell_type": "markdown",
   "metadata": {
    "id": "A-hrbCddBwro"
   },
   "source": [
    "**Creating bins for distance column**\n",
    "* 0 - 15  KMs  - The property will be said to be in **`Nearby`** location.\n",
    "* 15 - 30 KMs - The property will be said to be in **`Moderately Close`** location.\n",
    "* 30 - 50 KMs - The property will be said to be in **`Far`** away location.\n",
    "\n",
    "We will use **pd.cut() function** to create the bins in Distance column.\n",
    "\n",
    "    Syntax: pd.cut(x, bins, labels=None, right=False)\n",
    "    \n",
    "    x - column/array to binned\n",
    "    bins - number of bins to create or an input of list for the range of bins\n",
    "    labels - specifies the labels for the bins\n",
    "    right - If set to False, it excludes the rightmost edge of the interval"
   ]
  },
  {
   "cell_type": "code",
   "execution_count": null,
   "metadata": {
    "id": "EnTlfSg-Bwro"
   },
   "outputs": [],
   "source": [
    "# using pd.cut() function to create bins\n",
    "data['Distance_bins'] = pd.cut(data['Distance'],bins=[0,15,30,50],labels=['Nearby','Moderately Close','Far'], right = False)"
   ]
  },
  {
   "cell_type": "code",
   "execution_count": null,
   "metadata": {
    "colab": {
     "base_uri": "https://localhost:8080/",
     "height": 374
    },
    "id": "lUGEHaCrYZoE",
    "outputId": "b2fc8ccb-2742-45df-bb92-187b78645b87"
   },
   "outputs": [],
   "source": [
    "data.head()"
   ]
  },
  {
   "cell_type": "markdown",
   "metadata": {
    "id": "u-KCtqAiBwro"
   },
   "source": [
    "**Let's check the price with the distance bins**"
   ]
  },
  {
   "cell_type": "code",
   "execution_count": null,
   "metadata": {
    "colab": {
     "base_uri": "https://localhost:8080/",
     "height": 291
    },
    "id": "VFyJ1YC8Bwro",
    "outputId": "51008a54-c982-468a-f393-ec35e9633ab7"
   },
   "outputs": [],
   "source": [
    "sns.boxplot(data=data,x='Sex',y='Fare')\n",
    "plt.show()"
   ]
  },
  {
   "cell_type": "markdown",
   "metadata": {
    "id": "Uqj7_htCBwrp"
   },
   "source": [
    "* It is a little difficult to make observations from here with so many outliers present in the data. Let's turn off these outliers (not removing from data) and see if we can observe any noticeable difference."
   ]
  },
  {
   "cell_type": "code",
   "execution_count": null,
   "metadata": {
    "colab": {
     "base_uri": "https://localhost:8080/",
     "height": 291
    },
    "id": "p0rN1R-PBwrp",
    "outputId": "111fdfca-8aef-4d73-dd26-6990dace2188"
   },
   "outputs": [],
   "source": [
    "sns.boxplot(data=data,x='Distance_bins',y='Price',showfliers=False) # showfliers parameter controls the representation of outliers in the boxplot\n",
    "plt.show()"
   ]
  },
  {
   "cell_type": "markdown",
   "metadata": {
    "id": "nQ9a9_U8Bwrp"
   },
   "source": [
    "* We can see that as the distance increases the selling price of the property decreases.\n",
    "* The properties closer to CBD have a high variance in the selling price. This variance in price decreases with the increase in distance.\n",
    "* Considering that a customer has planned the budget for buying a property as the 'median' selling price for nearby, moderately close, and far away properties.\n",
    "\n",
    "  This variation in the selling price of a property might impact the planned budget of the customer who is looking to buy a property near CBD (as the variance is high). The customer might be able to get the property within the planned budget for properties that are far from CBD.\n"
   ]
  },
  {
   "cell_type": "markdown",
   "metadata": {
    "id": "NPFk_f7Gnx-2"
   },
   "source": [
    "**As we observed in the correlation plot there is a negative correlation between the selling price of a property and the year it was built. Let's analyze it further**"
   ]
  },
  {
   "cell_type": "code",
   "execution_count": null,
   "metadata": {
    "colab": {
     "base_uri": "https://localhost:8080/"
    },
    "id": "IGmui9zb5cPt",
    "outputId": "4239a6bc-2269-4704-d37a-9b3ca99da70f"
   },
   "outputs": [],
   "source": [
    "# let's first calculate the age of a property from the year it was built in to see how the prices vary with it\n",
    "year_at_sale = data['Date'].dt.year\n",
    "year_at_sale"
   ]
  },
  {
   "cell_type": "code",
   "execution_count": null,
   "metadata": {
    "colab": {
     "base_uri": "https://localhost:8080/"
    },
    "id": "yduUaOkIb52Z",
    "outputId": "cf79422d-6724-4bbf-9366-1bc1cb685425"
   },
   "outputs": [],
   "source": [
    "np.max(year_at_sale)"
   ]
  },
  {
   "cell_type": "code",
   "execution_count": null,
   "metadata": {
    "colab": {
     "base_uri": "https://localhost:8080/",
     "height": 374
    },
    "id": "-9VRTW7Ho8KE",
    "outputId": "a5c2c80f-a1f5-44cc-ec81-1c2f15800975"
   },
   "outputs": [],
   "source": [
    "data['AgeofProp'] = year_at_sale - data['YearBuilt']\n",
    "data.head()"
   ]
  },
  {
   "cell_type": "markdown",
   "metadata": {
    "id": "vSCy0TtDo9WV"
   },
   "source": [
    "* The column was added in the data frame."
   ]
  },
  {
   "cell_type": "code",
   "execution_count": null,
   "metadata": {
    "colab": {
     "base_uri": "https://localhost:8080/",
     "height": 179
    },
    "id": "ca46zfxi67M7",
    "outputId": "9c341415-435b-4b7b-b00d-159e31933c25"
   },
   "outputs": [],
   "source": [
    "data[data['AgeofProp']==-2]"
   ]
  },
  {
   "cell_type": "code",
   "execution_count": null,
   "metadata": {
    "colab": {
     "base_uri": "https://localhost:8080/",
     "height": 345
    },
    "id": "Odl2YnQjpegW",
    "outputId": "e266e5e1-7a6c-4568-c548-c423edcb95c0"
   },
   "outputs": [],
   "source": [
    "plt.figure(figsize=(15,5))\n",
    "sns.lineplot(data=data,x='AgeofProp',y='Price',ci=None)\n",
    "plt.show()"
   ]
  },
  {
   "cell_type": "markdown",
   "metadata": {
    "id": "cwfm2hlspiXC"
   },
   "source": [
    "* We observe an increasing trend indicating the properties which are older (vintage properties) have higher selling prices.\n",
    "* The customers who wish to live in vintage properties might have to spend more money.\n",
    "* Let's see this trend for all the regions"
   ]
  },
  {
   "cell_type": "markdown",
   "metadata": {
    "id": "zWq3n1onBwrp"
   },
   "source": [
    "* sns.relplot() is used to visualize any statistical relationships between quantitative variables.\n",
    "* Why use relplot() instead of scatterplot() ?\n",
    "    * relplot() lets you create multiple plots on a single axis.\n",
    "        - kind - specifies the kind of plot to draw (scatter or line)\n",
    "        - ci - specifies the confidence interval\n",
    "        - col_wrap - specifies the number of columns in the grid"
   ]
  },
  {
   "cell_type": "code",
   "execution_count": null,
   "metadata": {
    "colab": {
     "base_uri": "https://localhost:8080/",
     "height": 593
    },
    "id": "IMw4MEBgBwrq",
    "outputId": "744e947c-633d-48dc-875f-5f32344c64a8"
   },
   "outputs": [],
   "source": [
    "sns.relplot(data=data,x='AgeofProp',y='Price',col='Regionname',kind='line', errorbar=None, col_wrap=4)\n",
    "plt.show()\n",
    "# double click on the plot to zoom in"
   ]
  },
  {
   "cell_type": "markdown",
   "metadata": {
    "id": "8HYwdrlhBwrq"
   },
   "source": [
    "* The trend of selling price increasing with the increase in age of the property is evident from the plot for Metropolitan regions.\n",
    "* The trend of Victoria regions is slightly unclear, but this was expected as the number of data points for these regions is very low."
   ]
  },
  {
   "cell_type": "markdown",
   "metadata": {
    "id": "bH1Z559QroOZ"
   },
   "source": [
    "**The price of properties vary based on the type of the property. For example, a villa may be priced higher than a duplex because of more amenities. Let's see which type of property is priced higher.**"
   ]
  },
  {
   "cell_type": "code",
   "execution_count": null,
   "metadata": {
    "colab": {
     "base_uri": "https://localhost:8080/",
     "height": 345
    },
    "id": "NAWsl0n2rc74",
    "outputId": "d91bc8f0-9abb-4fc0-80ce-48650df6a893"
   },
   "outputs": [],
   "source": [
    "plt.figure(figsize=(10,5))\n",
    "sns.boxplot(data=data,x='Type',y='Price',showfliers=False) # turning off outliers\n",
    "plt.show()"
   ]
  },
  {
   "cell_type": "markdown",
   "metadata": {
    "id": "t33ijNWCreh0"
   },
   "source": [
    "* The properties like villa, cottage, etc have a higher median price as compared to a townhouse and a duplex.\n",
    "* The townhouses have a higher median price than unit, duplex properties.\n",
    "* Customers planning to buy 'h' type property might have to invest more."
   ]
  },
  {
   "cell_type": "markdown",
   "metadata": {
    "id": "V_wgsd9vsiiS"
   },
   "source": [
    "**Similarly the region of the property will play an integral role in deciding the selling price. Let' do a similar analysis with regions as well**"
   ]
  },
  {
   "cell_type": "code",
   "execution_count": null,
   "metadata": {
    "colab": {
     "base_uri": "https://localhost:8080/",
     "height": 471
    },
    "id": "dmhtEvgvs6VQ",
    "outputId": "493a5ae8-ab9b-42b0-a187-0f0bab215d59"
   },
   "outputs": [],
   "source": [
    "plt.figure(figsize=(10,5))\n",
    "sns.boxplot(data=data,x='Regionname',y='Price',showfliers=False) # turning off outliers\n",
    "plt.xticks(rotation=90)\n",
    "plt.show()"
   ]
  },
  {
   "cell_type": "code",
   "execution_count": null,
   "metadata": {
    "colab": {
     "base_uri": "https://localhost:8080/",
     "height": 593
    },
    "id": "FU_v-EQwBwrq",
    "outputId": "e2bedc00-8f3a-4d37-950a-6e202125c04a"
   },
   "outputs": [],
   "source": [
    "# Dispersion of price in every region\n",
    "sns.catplot(x='Price',\n",
    "            col='Regionname', \n",
    "            data=data,\n",
    "            col_wrap=4,\n",
    "            kind=\"violin\")\n",
    "plt.show()"
   ]
  },
  {
   "cell_type": "markdown",
   "metadata": {
    "id": "OKwDi0-CtAKP"
   },
   "source": [
    "* In Metropolitan, the southern and eastern regions have the costliest properties while the northern and western properties are priced similarly.\n",
    "\n",
    "* In Victoria, there is an increasing trend of prices, western having the lowest priced properties while northern has moderately priced properties, and eastern region having high priced properties."
   ]
  },
  {
   "cell_type": "markdown",
   "metadata": {
    "id": "rHgXtgbEzbHe"
   },
   "source": [
    "### 4.4 Missing value treatment"
   ]
  },
  {
   "cell_type": "markdown",
   "metadata": {
    "id": "UoaEmEheBwrr"
   },
   "source": [
    "* There is no universally accepted method of dealing with missing values. \n",
    "* It is often left to the discretion of the data scientist to take a decision on missing values that is whether to impute them or drop them. \n",
    "* However, it is sometimes a good practice to impute the missing values rather than dropping them, because it can lead to loss of information in other features where values are present."
   ]
  },
  {
   "cell_type": "markdown",
   "metadata": {
    "id": "p73w0vczBwrr"
   },
   "source": [
    "**How to treat missing values?**\n",
    "\n",
    "One of the commonly used method to deal with the missing values is to impute them with the central tendencies - mean, median, and mode of a column.\n",
    "\n",
    "* `Replacing with mean`: In this method the missing values are imputed with the mean of the column. Mean gets impacted by the presence of outliers, and in such cases where the column has outliers using this method may lead to erroneous imputations. \n",
    "\n",
    "* `Replacing with median`: In this method the missing values are imputed with the median of the column. In cases where the column has outliers, median is an appropriate measure of central tendency to deal with the missing values over mean.\n",
    "\n",
    "* `Replacing with mode`: In this method the missing values are imputed with the mode of the column. This method is generally preferred with categorical data.\n",
    "\n",
    "* Other methods include k-NN, MICE, SMOTE, deep learning, ..."
   ]
  },
  {
   "cell_type": "markdown",
   "metadata": {
    "id": "Q4qAvBaiBwrr"
   },
   "source": [
    "**Limitations of imputing missing values with central tendencies**\n",
    "\n",
    "* When we impute the missing values with central tendencies the original distribution of the feature can get distorted. \n",
    "* After imputation with the central value the variance and standard deviation of a feature can get drastically impacted.\n",
    "* The impact of distortion is higher with higher percentage of missing values.\n",
    "\n",
    "So, before directly imputing the missing values with central values of column we should investigate the missing data closely to observe the pattern of missing values, and then take a decision to impute the missing value with appropriate measure."
   ]
  },
  {
   "cell_type": "markdown",
   "metadata": {
    "id": "41gFeMafBwrr"
   },
   "source": [
    "**Lets see the count and the percentage of missing values in each column**"
   ]
  },
  {
   "cell_type": "code",
   "execution_count": null,
   "metadata": {
    "colab": {
     "base_uri": "https://localhost:8080/",
     "height": 394
    },
    "id": "idjRhUThziwX",
    "outputId": "7b262a1d-4ce1-4ebb-c21e-17ae7abf89ab"
   },
   "outputs": [],
   "source": [
    "# data.shape[0] will give us the number of rows in the dataset\n",
    "# selecting the instances where missing value is greater than 0\n",
    "pd.DataFrame({'Count':data.isnull().sum()[data.isnull().sum()>0],'Percentage':(data.isnull().sum()[data.isnull().sum()>0]/data.shape[0])*100})"
   ]
  },
  {
   "cell_type": "markdown",
   "metadata": {
    "id": "RK_EH8zD1Ho4"
   },
   "source": [
    "* BuildingArea and YearBuilt columns have the highest percentage of missing values.\n",
    "* Distance and Postcode have the least number of missing values.\n",
    "* Bedroom, Bathroom, and Car have almost equal percentage of missing values.\n",
    "* AgeofProp and Total Space has equal percentage of missing values as YearBuilt and Bedroom, Bathroom, and Car because the information here were extracted using these columns.\n",
    "* Landsize has around 34% missing values."
   ]
  },
  {
   "cell_type": "markdown",
   "metadata": {
    "id": "XdP8Ae1P7NuP"
   },
   "source": [
    "**Missing value treatment for Distance column**"
   ]
  },
  {
   "cell_type": "code",
   "execution_count": null,
   "metadata": {
    "colab": {
     "base_uri": "https://localhost:8080/",
     "height": 179
    },
    "id": "xTV2VhRh6PyU",
    "outputId": "a8d8fc1d-39fa-4c8e-f3ce-19605687c874"
   },
   "outputs": [],
   "source": [
    "# extracting all the information of other variables where Distance is null\n",
    "data.loc[data['Distance'].isnull()==True]"
   ]
  },
  {
   "cell_type": "markdown",
   "metadata": {
    "id": "HpZlOaRy7bqB"
   },
   "source": [
    "* We observe that the data is missing for other attributes as well. This is a common problem with data collection where sometimes the data is not missing randomly and has a pattern in missingness. \n",
    "* Let's see if we can find more information using the name of the Suburb."
   ]
  },
  {
   "cell_type": "code",
   "execution_count": null,
   "metadata": {
    "colab": {
     "base_uri": "https://localhost:8080/",
     "height": 179
    },
    "id": "aF1Zr5Zz6qQj",
    "outputId": "d56bdd54-e623-47fd-ec27-952175da8ef2"
   },
   "outputs": [],
   "source": [
    "data.loc[data['Suburb']=='Fawkner Lot']"
   ]
  },
  {
   "cell_type": "markdown",
   "metadata": {
    "id": "tVzaT5mJ7qa7"
   },
   "source": [
    "* We see that there is only one data entry for the Fawkner Lot suburb and in this case it is possible that data for this suburb was not collected. This shows that data is not missing randomly rather has pattern in missingness.\n",
    "* Imputing the Distance as well other information will not be a suitable approach as the imputed values will not be reliable. Hence, we will drop this row."
   ]
  },
  {
   "cell_type": "code",
   "execution_count": null,
   "metadata": {
    "id": "B3FS30bE8Qdz"
   },
   "outputs": [],
   "source": [
    "# adding the index value of the row in data.drop() function\n",
    "data = data.drop(9590).reset_index(drop=True)"
   ]
  },
  {
   "cell_type": "code",
   "execution_count": null,
   "metadata": {
    "colab": {
     "base_uri": "https://localhost:8080/",
     "height": 300
    },
    "id": "0I34B2Iv9B6T",
    "outputId": "c2cf52f6-8477-4d1f-8bc7-1e59039116fc"
   },
   "outputs": [],
   "source": [
    "pd.DataFrame({'Count':data.isnull().sum()[data.isnull().sum()>0],'Percentage':(data.isnull().sum()[data.isnull().sum()>0]/data.shape[0])*100})"
   ]
  },
  {
   "cell_type": "code",
   "execution_count": null,
   "metadata": {
    "colab": {
     "base_uri": "https://localhost:8080/",
     "height": 679
    },
    "id": "yRmcOn2CBwrs",
    "outputId": "9738de10-aa91-42ca-dc8b-325df78eba0b"
   },
   "outputs": [],
   "source": [
    "# extracting all the information of other variable where Bedroom is null\n",
    "data.loc[data['Bedroom'].isnull()==True]"
   ]
  },
  {
   "cell_type": "markdown",
   "metadata": {
    "id": "pbswZ3BlBwrs"
   },
   "source": [
    "* It looks like wherever Bedroom is null the data points in other columns are also missing. Let's check this."
   ]
  },
  {
   "cell_type": "code",
   "execution_count": null,
   "metadata": {
    "colab": {
     "base_uri": "https://localhost:8080/"
    },
    "id": "ZyonhP1eBwrs",
    "outputId": "51dfeb96-d250-4d44-9fd7-b1d310c09128",
    "scrolled": true
   },
   "outputs": [],
   "source": [
    "data.loc[data['Bedroom'].isnull()==True,'Bathroom'].value_counts(dropna=False)"
   ]
  },
  {
   "cell_type": "code",
   "execution_count": null,
   "metadata": {
    "colab": {
     "base_uri": "https://localhost:8080/"
    },
    "id": "TuL-_5ypBwrs",
    "outputId": "e6dcef54-637e-4994-e845-11e0123bb773"
   },
   "outputs": [],
   "source": [
    "data.loc[data['Bedroom'].isnull()==True,'Car'].value_counts(dropna=False)"
   ]
  },
  {
   "cell_type": "code",
   "execution_count": null,
   "metadata": {
    "colab": {
     "base_uri": "https://localhost:8080/"
    },
    "id": "YHbt5A8bBwrs",
    "outputId": "e81e925f-422b-44f3-8ed3-f7936651018c"
   },
   "outputs": [],
   "source": [
    "data.loc[data['Bedroom'].isnull()==True,'Landsize'].value_counts(dropna=False)"
   ]
  },
  {
   "cell_type": "code",
   "execution_count": null,
   "metadata": {
    "colab": {
     "base_uri": "https://localhost:8080/"
    },
    "id": "G8ba0xFoBwrt",
    "outputId": "351d30b4-c72c-44a2-be74-29ed4e3ce79d"
   },
   "outputs": [],
   "source": [
    "data.loc[data['Bedroom'].isnull()==True,'BuildingArea'].value_counts(dropna=False)"
   ]
  },
  {
   "cell_type": "code",
   "execution_count": null,
   "metadata": {
    "colab": {
     "base_uri": "https://localhost:8080/"
    },
    "id": "eNpvkb8TBwrt",
    "outputId": "334b6218-9fd8-4582-bf9c-5b849f415f30"
   },
   "outputs": [],
   "source": [
    "data.loc[data['Bedroom'].isnull()==True,'YearBuilt'].value_counts(dropna=False)"
   ]
  },
  {
   "cell_type": "markdown",
   "metadata": {
    "id": "lEapdRPSBwru"
   },
   "source": [
    "* There seems to be a strong pattern in missing values, as wherever the Bedroom column has missing data the other columns like Bathroom, Car, Landsize, BuildingArea, and YearBuilt also have missing values.\n",
    "* Let's see if the missing data has some pattern in suburbs, and regions of properties."
   ]
  },
  {
   "cell_type": "code",
   "execution_count": null,
   "metadata": {
    "colab": {
     "base_uri": "https://localhost:8080/"
    },
    "id": "DEB3bLT0Bwru",
    "outputId": "3f9052ec-5821-41ff-f10b-90ca5cf97543"
   },
   "outputs": [],
   "source": [
    "data.loc[data['Bedroom'].isnull()==True,'Suburb'].value_counts(dropna=False)"
   ]
  },
  {
   "cell_type": "code",
   "execution_count": null,
   "metadata": {
    "colab": {
     "base_uri": "https://localhost:8080/"
    },
    "id": "ABvRH-hVBwru",
    "outputId": "29dbd994-cbda-476d-a3d5-c6813c4e70a5"
   },
   "outputs": [],
   "source": [
    "# to find the total number of unique values in a suburb\n",
    "data['Suburb'].nunique()"
   ]
  },
  {
   "cell_type": "markdown",
   "metadata": {
    "id": "6lYtXtAUBwru"
   },
   "source": [
    "* Across 344 suburbs the missing values are present in 307 suburbs, indicating that the most suburbs have missing values.\n",
    "* There seems to be no pattern of missing values with respect to suburb column."
   ]
  },
  {
   "cell_type": "code",
   "execution_count": null,
   "metadata": {
    "colab": {
     "base_uri": "https://localhost:8080/"
    },
    "id": "ryrYtB5aBwru",
    "outputId": "58435a54-15c7-41bb-9e09-bd36988706a4"
   },
   "outputs": [],
   "source": [
    "data.loc[data['Bedroom'].isnull()==True,'Regionname'].value_counts(dropna=False)"
   ]
  },
  {
   "cell_type": "markdown",
   "metadata": {
    "id": "dX9FthhKBwrv"
   },
   "source": [
    "* Similar to suburbs there seems to be no notable pattern across different regions."
   ]
  },
  {
   "cell_type": "markdown",
   "metadata": {
    "id": "nPfQ8qpE-eHW"
   },
   "source": [
    "**Missing value treatment for Bedroom, Bathroom, and Car columns**"
   ]
  },
  {
   "cell_type": "markdown",
   "metadata": {
    "id": "wjZh2ev5-ojX"
   },
   "source": [
    "* One of the approaches to treat the missing values of these columns would be to group the data on the basis of Region and Type of the property to get a better idea of the average number of bedrooms, bathrooms, and car parking spaces.\n",
    "* It is more likely that a property of certain type in a given region would have similar number of bedrooms, bathrooms, and car parking spaces."
   ]
  },
  {
   "cell_type": "code",
   "execution_count": null,
   "metadata": {},
   "outputs": [],
   "source": [
    "data.groupby(['Survived','Pclass']).count()"
   ]
  },
  {
   "cell_type": "code",
   "execution_count": null,
   "metadata": {},
   "outputs": [],
   "source": [
    "119/372"
   ]
  },
  {
   "cell_type": "code",
   "execution_count": null,
   "metadata": {},
   "outputs": [],
   "source": []
  },
  {
   "cell_type": "code",
   "execution_count": null,
   "metadata": {
    "colab": {
     "base_uri": "https://localhost:8080/",
     "height": 708
    },
    "id": "8xotQYE_1S_m",
    "outputId": "3aa1c774-90ca-48b9-d8f1-8693ab6e959e"
   },
   "outputs": [],
   "source": [
    "# checking the average number of bedrooms, bathrooms, and car parking spaces in a region\n",
    "data.groupby(['Pclass']).sum()"
   ]
  },
  {
   "cell_type": "markdown",
   "metadata": {
    "id": "Qg5fkq3pBwrv"
   },
   "source": [
    "* We have received the mean number of Bedrooms, Bathrooms, and Car parking spaces for each type of property in a specific region."
   ]
  },
  {
   "cell_type": "markdown",
   "metadata": {
    "id": "39YodvZfBwrv"
   },
   "source": [
    "We will use fillna() function and transform method of pandas to impute the missing values.\n",
    "\n",
    "**fillna() Function -** The fillna() function is used to fill NaN values using the provide input value.\n",
    "\n",
    "       Syntax of fillna():  data['column'].fillna(value = x)\n",
    " \n",
    "-----\n",
    "\n",
    "**transform function -** The transform() function works on each value of  a DataFrame and allows to execute a specified function on each value.\n",
    "\n",
    "    Sytanx of transform function: data.transform(func = function name)\n",
    "\n",
    "    * func - A function to be executed on the values of the DataFrame.\n"
   ]
  },
  {
   "cell_type": "code",
   "execution_count": null,
   "metadata": {
    "id": "FbnmlIf9Bwrv"
   },
   "outputs": [],
   "source": [
    "# imputing missing values in Bedroom column\n",
    "data['Bedroom'] = data['Bedroom'].fillna(value = data.groupby(['Regionname','Type'])['Bedroom'].transform('mean'))"
   ]
  },
  {
   "cell_type": "code",
   "execution_count": null,
   "metadata": {
    "id": "_z5WG2G5Bwrv"
   },
   "outputs": [],
   "source": [
    "# imputing missing values in Bathroom column\n",
    "data['Bathroom'] = data['Bathroom'].fillna(value = data.groupby(['Regionname','Type'])['Bathroom'].transform('mean'))"
   ]
  },
  {
   "cell_type": "code",
   "execution_count": null,
   "metadata": {
    "id": "cvwer1wwBwrv"
   },
   "outputs": [],
   "source": [
    "# imputing missing values in Car column\n",
    "data['Car'] = data['Car'].fillna(value = data.groupby(['Regionname','Type'])['Car'].transform('mean'))"
   ]
  },
  {
   "cell_type": "code",
   "execution_count": null,
   "metadata": {
    "colab": {
     "base_uri": "https://localhost:8080/",
     "height": 206
    },
    "id": "5MBmIBJjAN20",
    "outputId": "c8a86214-f481-4983-930f-0854c6188943"
   },
   "outputs": [],
   "source": [
    "# checking if all the missing values were imputed in Bedroom, Bathroom, and Car columns\n",
    "pd.DataFrame({'Count':data.isnull().sum()[data.isnull().sum()>0],'Percentage':(data.isnull().sum()[data.isnull().sum()>0]/data.shape[0])*100})"
   ]
  },
  {
   "cell_type": "markdown",
   "metadata": {
    "id": "bMi5QV6xBwrw"
   },
   "source": [
    "* We see that the missing values have been imputed.\n",
    "* Let's convert all the values of Bedroom, Bathroom, and Car to integer type as these columns have discrete values."
   ]
  },
  {
   "cell_type": "code",
   "execution_count": null,
   "metadata": {
    "id": "efxuOMysRbwV"
   },
   "outputs": [],
   "source": [
    "data['Bedroom'] = data['Bedroom'].astype(int)\n",
    "data['Bathroom'] = data['Bathroom'].astype(int)\n",
    "data['Car'] = data['Car'].astype(int)"
   ]
  },
  {
   "cell_type": "markdown",
   "metadata": {
    "id": "TXuDuhKwHi69"
   },
   "source": [
    "**Missing values of Total Space column**\n",
    "\n",
    "We can create this feature again from the combination of Rooms, Bedroom, Bathroom, and Car as the missing values have now been imputed."
   ]
  },
  {
   "cell_type": "code",
   "execution_count": null,
   "metadata": {
    "id": "6ZYu-m0rHyxJ"
   },
   "outputs": [],
   "source": [
    "# removing Total Space column\n",
    "data.drop('Total Space',axis=1,inplace=True)\n",
    "\n",
    "# creating new Total Space column\n",
    "data['Total_Space_New'] = data['Rooms'] + data['Bedroom'] + data['Bathroom'] + data['Car']\n",
    "data['Total_Space_New'] = data['Total_Space_New'].astype(int)"
   ]
  },
  {
   "cell_type": "markdown",
   "metadata": {
    "id": "MBQ0nT5bII8D"
   },
   "source": [
    "**Note:**\n",
    "\n",
    "It is a good idea to check the distributions of the column again after missing value imputation"
   ]
  },
  {
   "cell_type": "markdown",
   "metadata": {
    "id": "QwLyui3aJUeH"
   },
   "source": [
    "**Let's check the relationship of Total Space column with Price once again**"
   ]
  },
  {
   "cell_type": "code",
   "execution_count": null,
   "metadata": {
    "colab": {
     "base_uri": "https://localhost:8080/",
     "height": 291
    },
    "id": "J1Jjc94dIbcr",
    "outputId": "3effc88b-ecc1-4969-fb25-77ae92cae646"
   },
   "outputs": [],
   "source": [
    "sns.scatterplot(data=data,x='Total_Space_New',y='Price')\n",
    "plt.show()"
   ]
  },
  {
   "cell_type": "markdown",
   "metadata": {
    "id": "7J6SHamcIirI"
   },
   "source": [
    "* We observe that the relationship between Total Space and Price has not changed and the positive relation between these variables is still maintained, which is a good thing."
   ]
  },
  {
   "cell_type": "markdown",
   "metadata": {
    "id": "UqN3s1coDbl9"
   },
   "source": [
    "**Missing value Treatment for Landsize**"
   ]
  },
  {
   "cell_type": "markdown",
   "metadata": {
    "id": "5iMDHeHzEo4y"
   },
   "source": [
    "* We will use similar approach we took for imputing missing values in Bedroom, Bathroom, and Car columns. Using region and type of property will be a good way to find the size of land.\n",
    "* Let's plot the distribution of Landsize."
   ]
  },
  {
   "cell_type": "code",
   "execution_count": null,
   "metadata": {
    "colab": {
     "base_uri": "https://localhost:8080/",
     "height": 369
    },
    "id": "5sEYJdCpBwrx",
    "outputId": "67eee073-ca48-43fc-8b68-2b64fd88c1a6"
   },
   "outputs": [],
   "source": [
    "sns.displot(data=data,x='Landsize',kind='kde')\n",
    "plt.show()"
   ]
  },
  {
   "cell_type": "markdown",
   "metadata": {
    "id": "vyR5G20dBwrx"
   },
   "source": [
    "* As Landsize column is skewed, using average value for imputation might not be the correct method as mean gets impacted by outliers. So we will use median value to impute the missing values of this column as median is not affected by the outliers."
   ]
  },
  {
   "cell_type": "code",
   "execution_count": null,
   "metadata": {
    "colab": {
     "base_uri": "https://localhost:8080/",
     "height": 708
    },
    "id": "7XtAYLABGAu5",
    "outputId": "90ac9a1f-e483-40db-e02f-6996cf9a91bd"
   },
   "outputs": [],
   "source": [
    "data.groupby(['Regionname','Type'])[['Landsize']].median()"
   ]
  },
  {
   "cell_type": "markdown",
   "metadata": {
    "id": "n2OQgkZXGKzp"
   },
   "source": [
    "* We have received the median value of Landsize for each type of property in a specific region."
   ]
  },
  {
   "cell_type": "code",
   "execution_count": null,
   "metadata": {
    "id": "Jx_4fIgSFYna"
   },
   "outputs": [],
   "source": [
    "# grouping data on region and type of property\n",
    "# finding the median of landsize for each group and imputing the missing data with it\n",
    "data['Landsize'] = data['Landsize'].fillna(value = data.groupby(['Regionname','Type'])['Landsize'].transform('median'))"
   ]
  },
  {
   "cell_type": "code",
   "execution_count": null,
   "metadata": {
    "colab": {
     "base_uri": "https://localhost:8080/",
     "height": 143
    },
    "id": "YOVY5E1AFtae",
    "outputId": "56268b50-6198-4705-b39a-c4225a398ebc"
   },
   "outputs": [],
   "source": [
    "# checking if all the missing values were imputed in Landsize column\n",
    "pd.DataFrame({'Count':data.isnull().sum()[data.isnull().sum()>0],'Percentage':(data.isnull().sum()[data.isnull().sum()>0]/data.shape[0])*100})"
   ]
  },
  {
   "cell_type": "markdown",
   "metadata": {
    "id": "o7GDDc-hBwrx"
   },
   "source": [
    "**Missing value treatment for BuildingArea, YearBuilt, and AgeofProp**"
   ]
  },
  {
   "cell_type": "markdown",
   "metadata": {
    "id": "A5TbK4MFGx4p"
   },
   "source": [
    "* We will not do any imputation for Building Area and Year Built as these columns have more than 50% of missing data. As AgeofProp was extracted from YearBuilt column we can not do imputations in it as well.\n",
    "* Any imputation in these columns will result in creation of new data points which will not be reliable to extract insights from.\n",
    "* We have two options here - \n",
    "    * Option 1 - We can use the data which is not null to proceed with the analysis which will allow us to preserve the data which is not missing\n",
    "    * Option 2- We can drop these columns from the data but it will lead to loss of data points from the data frame.\n",
    "    "
   ]
  },
  {
   "cell_type": "code",
   "execution_count": null,
   "metadata": {
    "colab": {
     "base_uri": "https://localhost:8080/",
     "height": 357
    },
    "id": "naN_cvUfBwry",
    "outputId": "c38a6eed-1f7f-4a12-89e2-eef92c8b4df5"
   },
   "outputs": [],
   "source": [
    "# Taking option 1 to remove the 61% null values from the building area column  \n",
    "new_data = data[data['BuildingArea'].notnull()]\n",
    "new_data.head()"
   ]
  },
  {
   "cell_type": "markdown",
   "metadata": {
    "id": "kT6D1LS7Bwry"
   },
   "source": [
    "* We observe that the index of data frame has changed and the rows which had missing values in BuildingArea column have been removed.\n",
    "* Similarly the above steps can be repeated for YearBuilt and AgeofProp column."
   ]
  },
  {
   "cell_type": "code",
   "execution_count": null,
   "metadata": {
    "id": "XEF9gbMTHUs2"
   },
   "outputs": [],
   "source": [
    "# Option 2 -  dropping columns BuildingArea, YearBuilt, and AgeofProp from the data frame\n",
    "data = data.drop(['BuildingArea','YearBuilt','AgeofProp'],axis=1)"
   ]
  },
  {
   "cell_type": "code",
   "execution_count": null,
   "metadata": {
    "id": "4HhmDonjN_VX"
   },
   "outputs": [],
   "source": [
    "# saving the dataset with all the missing values treated\n",
    "data.to_csv('/content/drive/MyDrive/Python Course/Melbourne_Housing_NoMissing.csv',index=False)"
   ]
  },
  {
   "cell_type": "markdown",
   "metadata": {
    "id": "-LJmcUgkIxXd"
   },
   "source": [
    "### 4.5 Outlier Detection and Treatment"
   ]
  },
  {
   "cell_type": "code",
   "execution_count": null,
   "metadata": {
    "colab": {
     "base_uri": "https://localhost:8080/",
     "height": 443
    },
    "id": "2ZOIRsE_Bwry",
    "outputId": "c08dc109-8b4e-42d8-9f3e-5c0b494f34da"
   },
   "outputs": [],
   "source": [
    "from IPython.display import Image\n",
    "Image(\"/content/drive/MyDrive/Python Course/boxplot.png\")"
   ]
  },
  {
   "cell_type": "markdown",
   "metadata": {
    "id": "h7qsikUBBwry"
   },
   "source": [
    "* An outlier is a data point that are abnormally/unrealistically distant from other points in the data. \n",
    "\n",
    "* The challenge with outlier detection is determining if a point is truly a problem or simply a large value. If a point is genuine then it is very important to keep it in the data as otherwise we're removing the most interesting data points. \n",
    "\n",
    "* It is left to the best judgement of the investigator to decide whether treating outliers is necessary and how to go about it. Domain Knowledge and impact of the business problem tend to drive this decision."
   ]
  },
  {
   "cell_type": "markdown",
   "metadata": {
    "id": "TRw_FYSqBwry"
   },
   "source": [
    "**Handling outliers**\n",
    "\n",
    "Some of the commonly methods to deal with the data points that we actually flag as outliers are:\n",
    "\n",
    "* Replacement with null values - We can consider these data points as missing data and replace the abnormal values with NaNs.\n",
    "* IQR method - Replace the data points with the lower whisker (Q1 - 1.5 * IQR) or upper whisker (Q3 + 1.5 * IQR) value.\n",
    "* We can also drop these observations, but we might end up with losing other relevant observations as well.\n",
    "\n",
    "So, it is often a good idea to examine the results by  running an analysis with and without outliers."
   ]
  },
  {
   "cell_type": "code",
   "execution_count": null,
   "metadata": {
    "colab": {
     "base_uri": "https://localhost:8080/",
     "height": 357
    },
    "id": "kXc5d3m0P_-8",
    "outputId": "6da74d21-b155-44c0-e053-c382d0eed822"
   },
   "outputs": [],
   "source": [
    "# reading the dataset \n",
    "data = pd.read_csv('Melbourne_Housing_NoMissing.csv')\n",
    "data.head()"
   ]
  },
  {
   "cell_type": "markdown",
   "metadata": {
    "id": "RRJfDtTkKpUL"
   },
   "source": [
    "**Let's visualize all the outliers present in data together**"
   ]
  },
  {
   "cell_type": "code",
   "execution_count": null,
   "metadata": {
    "colab": {
     "base_uri": "https://localhost:8080/",
     "height": 673
    },
    "id": "W88hFlzFJ0Qo",
    "outputId": "baab581c-be10-4d11-feb5-d0595eef77e8"
   },
   "outputs": [],
   "source": [
    "# outlier detection using boxplot\n",
    "# selecting the numerical columns of data and adding their names in a list \n",
    "numeric_columns = ['Rooms', 'Distance', 'Postcode', 'Bedroom', 'Bathroom', 'Car','Landsize',\n",
    "                   'Propertycount', 'Price']\n",
    "plt.figure(figsize=(15, 12))\n",
    "\n",
    "for i, variable in enumerate(numeric_columns):\n",
    "    plt.subplot(4, 4, i + 1)\n",
    "    plt.boxplot(data[variable], whis=1.5)\n",
    "    plt.tight_layout()\n",
    "    plt.title(variable)\n",
    "\n",
    "plt.show()"
   ]
  },
  {
   "cell_type": "markdown",
   "metadata": {
    "id": "Hf7XwqkXMDOv"
   },
   "source": [
    "We can see that all the numerical features in the data set have outliers present in them.\n",
    "\n",
    "\n",
    "**Let's analyze each column to see if the values in them can be considered as outliers or not.**\n",
    "  \n",
    "  \n",
    " * Rooms, Bedroom, Bathroom, Car - The values which are being represented as outliers in the above boxplot may not seem realistic in some cases. For example- It is not common to have more than 15 rooms, 15 bedrooms, and more than 10 car parking spaces in a general scenario. \n",
    "\n",
    "Although these values can not be considered to be unrealistic but we will rarely see such high number of rooms, bedrooms, bathrooms and car parking in a property. So, we will treat the outliers in this column.\n",
    "  \n",
    "  \n",
    " * Distance - The outliers in this column can be considered as genuine values because a property can be at varying distances from the C.B.D. In the context of this problem we will not consider these values as outliers.\n",
    " \n",
    " \n",
    " * Postcode - Postcodes are a combination of several numerical values based on region, sub-region, etc and these cannot be considered as outliers. \n",
    " \n",
    " \n",
    " \n",
    " * Landsize - The values in this column seem unrealistic as some of the properties have a Land size greater than 0.1 Sq Kms. So, we will treat the outliers in this column.\n",
    " \n",
    " \n",
    " \n",
    " * Propertycount- Each suburb can have varying number of properties depending upon the region and the area of a suburb. Hence, the count of properties in a suburb can be considered as genuine values and not outliers.\n",
    " \n",
    " \n",
    " \n",
    " * Price - The selling price of properties depends upon various factors (for example location of a property) and the prices can change from time to time. Hence, the selling price of properties can be considered as genuine values and not outliers."
   ]
  },
  {
   "cell_type": "markdown",
   "metadata": {
    "id": "9eEwAfXVKBpQ"
   },
   "source": [
    "**Let's find the percentage of outliers, in each column of the data, using IQR.**"
   ]
  },
  {
   "cell_type": "code",
   "execution_count": null,
   "metadata": {
    "id": "oGVSduRmnIgg"
   },
   "outputs": [],
   "source": [
    "# to find the 25th percentile and 75th percentile for the numerical columns.\n",
    "Q1 = data[numeric_columns].quantile(0.25)\n",
    "Q3 = data[numeric_columns].quantile(0.75)\n",
    "\n",
    "IQR = Q3 - Q1                   #Inter Quantile Range (75th percentile - 25th percentile)\n",
    "\n",
    "lower_whisker = Q1 - 1.5*IQR    #Finding lower and upper bounds for all values. All values outside these bounds are outliers\n",
    "upper_whisker = Q3 + 1.5*IQR"
   ]
  },
  {
   "cell_type": "code",
   "execution_count": null,
   "metadata": {
    "colab": {
     "base_uri": "https://localhost:8080/"
    },
    "id": "DnlOSPRIL37P",
    "outputId": "3c2cf052-da6f-4572-8a77-c223cb6064c3"
   },
   "outputs": [],
   "source": [
    "# Percentage of outliers in each column\n",
    "((data[numeric_columns] < lower_whisker) | (data[numeric_columns] > upper_whisker)).sum()/data.shape[0]*100"
   ]
  },
  {
   "cell_type": "markdown",
   "metadata": {
    "id": "4YwDh9wQBwrz"
   },
   "source": [
    "**Treating outliers**\n",
    "\n",
    "We will cap/clip the minimum and maximum value of these columns to the lower and upper whisker value of the boxplot found using  **Q1 - 1.5*IQR** and **Q3 + 1.5*IQR**, respectively.\n",
    "\n",
    "**Note**: Generally, a value of 1.5 * IQR is taken to cap the values of outliers to upper and lower whiskers but any number (example 0.5, 2, 3, etc) other than 1.5 can be chosen. The value depends upon the business problem statement."
   ]
  },
  {
   "cell_type": "markdown",
   "metadata": {
    "id": "i9xyIcIJVJTL"
   },
   "source": [
    "**Creating a function to floor and cap/clip outliers in a column**"
   ]
  },
  {
   "cell_type": "code",
   "execution_count": null,
   "metadata": {
    "id": "z6EV9RLefUob"
   },
   "outputs": [],
   "source": [
    "def treat_outliers(df, col):\n",
    "    \"\"\"\n",
    "    treats outliers in a variable\n",
    "    col: str, name of the numerical variable\n",
    "    df: dataframe\n",
    "    col: name of the column\n",
    "    \"\"\"\n",
    "    Q1 = df[col].quantile(0.25)  # 25th quantile\n",
    "    Q3 = df[col].quantile(0.75)  # 75th quantile\n",
    "    IQR = Q3 - Q1                # Inter Quantile Range (75th perentile - 25th percentile)\n",
    "    lower_whisker = Q1 - 1.5 * IQR\n",
    "    upper_whisker = Q3 + 1.5 * IQR\n",
    "\n",
    "    # all the values smaller than lower_whisker will be assigned the value of lower_whisker\n",
    "    # all the values greater than upper_whisker will be assigned the value of upper_whisker\n",
    "    # the assignment will be done by using the clip function of NumPy\n",
    "    df[col] = np.clip(df[col], lower_whisker, upper_whisker)\n",
    "\n",
    "    return df"
   ]
  },
  {
   "cell_type": "markdown",
   "metadata": {
    "id": "bjGsTBjkVj4R"
   },
   "source": [
    "**Treating outliers in Rooms column**"
   ]
  },
  {
   "cell_type": "code",
   "execution_count": null,
   "metadata": {
    "colab": {
     "base_uri": "https://localhost:8080/",
     "height": 279
    },
    "id": "JNMfF7jyiSK3",
    "outputId": "4ca25521-2df2-42d4-84cc-3c7a511be6b9"
   },
   "outputs": [],
   "source": [
    "data = treat_outliers(data,'Rooms')\n",
    "\n",
    "# visualizing the column after outlier treatment\n",
    "sns.boxplot(data=data,x='Rooms')\n",
    "plt.show()"
   ]
  },
  {
   "cell_type": "markdown",
   "metadata": {
    "id": "0vbp-pFaVtaF"
   },
   "source": [
    "* The maximum number of rooms in a property have been capped to 7. All the values greater than 7 (whisker value) have been treated."
   ]
  },
  {
   "cell_type": "markdown",
   "metadata": {
    "id": "Cig_wpR2Bwr0"
   },
   "source": [
    "**Similarly we will treat the outliers in other columns using the same approach**"
   ]
  },
  {
   "cell_type": "code",
   "execution_count": null,
   "metadata": {
    "id": "otsh8UaHiwmu"
   },
   "outputs": [],
   "source": [
    "# treating outliers of Bedroom column\n",
    "data = treat_outliers(data,'Bedroom')\n",
    "\n",
    "# treating outliers of Car column\n",
    "data = treat_outliers(data,'Car')\n",
    "\n",
    "# treating outliers of Bathroom column\n",
    "data = treat_outliers(data,'Bathroom')\n",
    "\n",
    "# treating outliers of Landsize column\n",
    "data = treat_outliers(data,'Landsize')"
   ]
  },
  {
   "cell_type": "markdown",
   "metadata": {
    "id": "3VgXiAO3Bwr0"
   },
   "source": [
    "**Let's visualize numerical columns where outliers were treated**"
   ]
  },
  {
   "cell_type": "code",
   "execution_count": null,
   "metadata": {
    "colab": {
     "base_uri": "https://localhost:8080/",
     "height": 463
    },
    "id": "_q-mbT3eBwr0",
    "outputId": "51a4b0fc-3d51-4424-daf8-a64d12d6fcce"
   },
   "outputs": [],
   "source": [
    "# outlier detection using boxplot\n",
    "# selecting the numerical columns where outliers were treated \n",
    "numeric_columns = ['Rooms', 'Bedroom', 'Bathroom', 'Car','Landsize']\n",
    "plt.figure(figsize=(15, 12))\n",
    "\n",
    "for i, variable in enumerate(numeric_columns):\n",
    "    plt.subplot(4, 4, i + 1)\n",
    "    plt.boxplot(data[variable], whis=1.5)\n",
    "    plt.tight_layout()\n",
    "    plt.title(variable)\n",
    "\n",
    "plt.show()"
   ]
  },
  {
   "cell_type": "markdown",
   "metadata": {
    "id": "wnA-7GnSf_gp"
   },
   "source": [
    "* All the outliers have been treated.\n",
    "* We observe that the data type of Bedroom, Bathroom, and Car has changed to float which we should change to the integer type.\n",
    "* We can also see that the distribution of Landsize column doesn't look heavily right-skewed now."
   ]
  },
  {
   "cell_type": "markdown",
   "metadata": {
    "id": "Wsow2sRqBwr0"
   },
   "source": [
    "**Setting the data type to integer for Bedroom, Bathroom, and Car columns**"
   ]
  },
  {
   "cell_type": "code",
   "execution_count": null,
   "metadata": {
    "id": "zKcslNMkBwr0"
   },
   "outputs": [],
   "source": [
    "data['Bedroom'] = data['Bedroom'].astype(int)\n",
    "data['Bathroom'] = data['Bathroom'].astype(int)\n",
    "data['Car'] = data['Car'].astype(int)"
   ]
  },
  {
   "cell_type": "code",
   "execution_count": null,
   "metadata": {
    "id": "T6a1ic9RBwr0"
   },
   "outputs": [],
   "source": [
    "# saving the dataset with all the outlier values treated\n",
    "data.to_csv('/content/drive/MyDrive/Python Course/Melbourne_Housing_NoOutliers.csv',index=False)"
   ]
  }
 ],
 "metadata": {
  "colab": {
   "collapsed_sections": [
    "JffhyoX0BwrY",
    "j6uAieYsNnL4",
    "Ne1w2APnhozJ",
    "rHgXtgbEzbHe",
    "-LJmcUgkIxXd"
   ],
   "name": "Hands-on Notebook - ExploratoryDataAnalysis.ipynb",
   "provenance": []
  },
  "kernelspec": {
   "display_name": "Python 3 (ipykernel)",
   "language": "python",
   "name": "python3"
  },
  "language_info": {
   "codemirror_mode": {
    "name": "ipython",
    "version": 3
   },
   "file_extension": ".py",
   "mimetype": "text/x-python",
   "name": "python",
   "nbconvert_exporter": "python",
   "pygments_lexer": "ipython3",
   "version": "3.10.9"
  }
 },
 "nbformat": 4,
 "nbformat_minor": 1
}
