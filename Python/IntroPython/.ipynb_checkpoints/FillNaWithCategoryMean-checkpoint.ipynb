{
 "cells": [
  {
   "cell_type": "code",
   "execution_count": 6,
   "id": "a46b0bdb",
   "metadata": {},
   "outputs": [
    {
     "name": "stdout",
     "output_type": "stream",
     "text": [
      "  category  rating  num_rating\n",
      "0  Italian     4.2         4.2\n",
      "1  Mexican     3.8         3.8\n",
      "2  Italian     4.0         4.0\n",
      "3   Indian     2.0         2.0\n",
      "4  Mexican     4.5         4.5\n",
      "5   Indian     NaN         2.0\n"
     ]
    }
   ],
   "source": [
    "import pandas as pd\n",
    "\n",
    "data = {\n",
    "    \"category\": [\"Italian\", \"Mexican\", \"Italian\", \"Indian\", \"Mexican\", \"Indian\"],\n",
    "    \"rating\": [4.2, 3.8, 4.0, 2.0, 4.5, None]\n",
    "}\n",
    "\n",
    "df = pd.DataFrame(data)\n",
    "\n",
    "df['num_rating'] = df.groupby('category')['rating'].apply(lambda x: x.fillna(x.mean()))\n",
    "print(df)"
   ]
  },
  {
   "cell_type": "code",
   "execution_count": null,
   "id": "bb467d09",
   "metadata": {},
   "outputs": [],
   "source": []
  }
 ],
 "metadata": {
  "kernelspec": {
   "display_name": "Python 3 (ipykernel)",
   "language": "python",
   "name": "python3"
  },
  "language_info": {
   "codemirror_mode": {
    "name": "ipython",
    "version": 3
   },
   "file_extension": ".py",
   "mimetype": "text/x-python",
   "name": "python",
   "nbconvert_exporter": "python",
   "pygments_lexer": "ipython3",
   "version": "3.10.9"
  }
 },
 "nbformat": 4,
 "nbformat_minor": 5
}
