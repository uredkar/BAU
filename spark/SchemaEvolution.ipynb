{
 "cells": [
  {
   "cell_type": "code",
   "execution_count": 1,
   "id": "069cfc9a",
   "metadata": {},
   "outputs": [],
   "source": [
    "import datetime\n",
    "import findspark\n",
    "findspark.init()"
   ]
  },
  {
   "cell_type": "code",
   "execution_count": 2,
   "id": "8b12817a",
   "metadata": {},
   "outputs": [],
   "source": [
    "from pyspark.sql.functions import rand,when,round,expr\n",
    "\n",
    "# Import PySpark\n",
    "from pyspark.sql import SparkSession\n",
    "\n",
    "#Create SparkSession\n",
    "spark = SparkSession.builder.appName('versioncontrol').getOrCreate()\n",
    "import pyspark\n",
    "\n",
    "#from delta import *\n",
    "\n",
    "builder = pyspark.sql.SparkSession.builder.appName(\"MyApp\") \\\n",
    "    .config(\"spark.sql.extensions\", \"io.delta.sql.DeltaSparkSessionExtension\") \\\n",
    "    .config(\"spark.sql.catalog.spark_catalog\", \"org.apache.spark.sql.delta.catalog.DeltaCatalog\")"
   ]
  },
  {
   "cell_type": "code",
   "execution_count": 3,
   "id": "bcdbf60d",
   "metadata": {},
   "outputs": [
    {
     "name": "stdout",
     "output_type": "stream",
     "text": [
      "+---+----+----+\n",
      "| id|col1|col2|\n",
      "+---+----+----+\n",
      "|  1|  10|   5|\n",
      "|  2|  15|   8|\n",
      "|  3|  20|  12|\n",
      "+---+----+----+\n",
      "\n"
     ]
    }
   ],
   "source": [
    "data = [(1, 10, 5), (2, 15, 8), (3, 20, 12)]\n",
    "df = spark.createDataFrame(data, [\"id\", \"col1\", \"col2\"])\n",
    "df.show()"
   ]
  },
  {
   "cell_type": "code",
   "execution_count": 6,
   "id": "35801b56",
   "metadata": {},
   "outputs": [
    {
     "name": "stdout",
     "output_type": "stream",
     "text": [
      "current_date 2023-02-01\n",
      "2023-01-01 2023-06-30 col1 * 3 * col2\n",
      "+------------------+\n",
      "|calculation_result|\n",
      "+------------------+\n",
      "|               150|\n",
      "|               360|\n",
      "|               720|\n",
      "+------------------+\n",
      "\n",
      "current_date 2023-03-01\n",
      "2023-01-01 2023-06-30 col1 * 3 * col2\n",
      "+------------------+\n",
      "|calculation_result|\n",
      "+------------------+\n",
      "|               150|\n",
      "|               360|\n",
      "|               720|\n",
      "+------------------+\n",
      "\n",
      "current_date 2023-04-01\n",
      "2023-01-01 2023-06-30 col1 * 3 * col2\n",
      "+------------------+\n",
      "|calculation_result|\n",
      "+------------------+\n",
      "|               150|\n",
      "|               360|\n",
      "|               720|\n",
      "+------------------+\n",
      "\n",
      "current_date 2023-05-01\n",
      "2023-01-01 2023-06-30 col1 * 3 * col2\n",
      "+------------------+\n",
      "|calculation_result|\n",
      "+------------------+\n",
      "|               150|\n",
      "|               360|\n",
      "|               720|\n",
      "+------------------+\n",
      "\n",
      "current_date 2023-06-01\n",
      "2023-01-01 2023-06-30 col1 * 3 * col2\n",
      "+------------------+\n",
      "|calculation_result|\n",
      "+------------------+\n",
      "|               150|\n",
      "|               360|\n",
      "|               720|\n",
      "+------------------+\n",
      "\n",
      "current_date 2023-07-01\n",
      "2023-07-01 2023-07-30 col1 * 2 * col2\n",
      "+------------------+\n",
      "|calculation_result|\n",
      "+------------------+\n",
      "|               100|\n",
      "|               240|\n",
      "|               480|\n",
      "+------------------+\n",
      "\n",
      "current_date 2023-08-01\n",
      "current_date 2023-09-01\n",
      "current_date 2023-10-01\n",
      "current_date 2023-11-01\n",
      "current_date 2024-12-01\n",
      "current_date 2025-01-01\n",
      "current_date 2025-02-01\n",
      "current_date 2025-03-01\n",
      "current_date 2025-04-01\n",
      "current_date 2025-05-01\n",
      "current_date 2025-06-01\n",
      "current_date 2025-07-01\n",
      "current_date 2025-08-01\n",
      "current_date 2025-09-01\n",
      "current_date 2025-10-01\n",
      "current_date 2025-11-01\n",
      "current_date 2026-12-01\n",
      "current_date 2027-01-01\n"
     ]
    }
   ],
   "source": [
    "rules = [\n",
    "    {\n",
    "        'function_name': 'function1',\n",
    "        'start_date': datetime.date(2023, 1, 1),\n",
    "        'end_date': datetime.date(2023, 6, 30),\n",
    "        'code': \"\"\"col1 * 3 * col2\"\"\"\n",
    "    },\n",
    "    {\n",
    "        'function_name': 'function2',\n",
    "        'start_date': datetime.date(2023, 7, 1),\n",
    "        'end_date': datetime.date(2023, 7, 30),\n",
    "        'code': \"\"\"col1 * 2 * col2\"\"\"\n",
    "        \n",
    "    },\n",
    "    # Add more rules as needed\n",
    "]\n",
    "#current_date = datetime.date.today()\n",
    "date1 = datetime.date(2021, 4, 10)\n",
    "\n",
    "# Add 1 to the date object\n",
    "\n",
    "\n",
    "def foo():\n",
    "    return \"col1 * 2 * col2\"\n",
    "\n",
    "start_date = datetime.date(2023, 1, 1)\n",
    "end_date = start_date + datetime.timedelta(days=365 * 4)  # Add 4 years to the start date\n",
    "\n",
    "current_date = start_date\n",
    "\n",
    "while current_date <= end_date:\n",
    "    \n",
    "    # Add 1 month to the current date\n",
    "    year = current_date.year + ((current_date.month + 1) // 12)\n",
    "    month = (current_date.month + 1) % 12\n",
    "    if month == 0:\n",
    "        month = 12\n",
    "    current_date = current_date.replace(year=year, month=month)\n",
    "    print(\"current_date\",current_date)\n",
    "    for rule in rules:\n",
    "        if rule['start_date'] <= current_date <= rule['end_date']:\n",
    "            # Execute the code for the matched rule\n",
    "            print(rule['start_date'],rule['end_date'],rule['code'])\n",
    "            result_df = df.select(expr(rule['code']).alias(\"calculation_result\"))\n",
    "\n",
    "            # Show the resulting DataFrame\n",
    "            result_df.show()\n",
    "\n",
    "\n",
    "\n",
    "\n",
    "\n",
    "\n",
    "\n"
   ]
  },
  {
   "cell_type": "code",
   "execution_count": null,
   "id": "2561be27",
   "metadata": {},
   "outputs": [],
   "source": [
    "\n",
    "\n",
    "#spark = configure_spark_with_delta_pip(builder).getOrCreate()\n",
    "\n"
   ]
  },
  {
   "cell_type": "code",
   "execution_count": 7,
   "id": "7f96a4f6",
   "metadata": {},
   "outputs": [],
   "source": [
    "def create_version1():\n",
    "    # Data\n",
    "    data = [(2001,\"BAU\",\"Java\", \"20000\"), (2001,\"BAU\",\"Python\", \"100000\"), (2001,\"BAU\",\"Scala\", \"3000\")]\n",
    "\n",
    "    # Columns\n",
    "    columns = [\"Year\",\"DataType\",\"language\",\"users_count\"]\n",
    "\n",
    "    # Create DataFrame\n",
    "    df = spark.createDataFrame(data).toDF(*columns)\n",
    "\n",
    "    # Print DataFrame\n",
    "    df.show()\n",
    "    df.write.mode(\"overwrite\").parquet(\"data/programming/key=1\")\n",
    "    \n",
    "def create_version2():\n",
    "    data = [(2002,\"BAU\",\"Scala\", \"2000\",1), (2002,\"BAU\",\"Python\", \"200000\",2), (2002,\"BAU\",\"Rust\", \"2500\",4)]\n",
    "\n",
    "    # Columns\n",
    "    columns = [\"Year\",\"DataType\",\"language\",\"users_count\",\"avg_rating\"]\n",
    "\n",
    "    # Create DataFrame\n",
    "    df = spark.createDataFrame(data).toDF(*columns)\n",
    "\n",
    "\n",
    "    df.show()\n",
    "    df.write.mode(\"overwrite\").parquet(\"data/programming/key=2\")\n",
    "    \n",
    "def create_version3():\n",
    "    data = [(2003,\"BAU\",\"Scala\", \"2000\",1,1000), (2001,\"RESTATE\",\"Python\", \"101000\",2,30030),(2003,\"BAU\",\"Python\", \"300000\",2,30030), (2003,\"RESTATE\",\"Rust\", \"2500\",4,3023)]\n",
    "\n",
    "    # Columns\n",
    "    columns = [\"Year\",\"DataType\",\"language\",\"users_count\",\"avg_rating\",\"total_queries\"]\n",
    "\n",
    "    # Create DataFrame\n",
    "    df = spark.createDataFrame(data).toDF(*columns)\n",
    "\n",
    "\n",
    "    df.show()\n",
    "    df.write.mode(\"overwrite\").parquet(\"data/programming/key=3\")    "
   ]
  },
  {
   "cell_type": "code",
   "execution_count": 9,
   "id": "965de85e",
   "metadata": {},
   "outputs": [
    {
     "name": "stdout",
     "output_type": "stream",
     "text": [
      "+----+--------+--------+-----------+\n",
      "|Year|DataType|language|users_count|\n",
      "+----+--------+--------+-----------+\n",
      "|2001|     BAU|    Java|      20000|\n",
      "|2001|     BAU|  Python|     100000|\n",
      "|2001|     BAU|   Scala|       3000|\n",
      "+----+--------+--------+-----------+\n",
      "\n",
      "+----+--------+--------+-----------+----------+\n",
      "|Year|DataType|language|users_count|avg_rating|\n",
      "+----+--------+--------+-----------+----------+\n",
      "|2002|     BAU|   Scala|       2000|         1|\n",
      "|2002|     BAU|  Python|     200000|         2|\n",
      "|2002|     BAU|    Rust|       2500|         4|\n",
      "+----+--------+--------+-----------+----------+\n",
      "\n",
      "+----+--------+--------+-----------+----------+-------------+\n",
      "|Year|DataType|language|users_count|avg_rating|total_queries|\n",
      "+----+--------+--------+-----------+----------+-------------+\n",
      "|2003|     BAU|   Scala|       2000|         1|         1000|\n",
      "|2001| RESTATE|  Python|     101000|         2|        30030|\n",
      "|2003|     BAU|  Python|     300000|         2|        30030|\n",
      "|2003| RESTATE|    Rust|       2500|         4|         3023|\n",
      "+----+--------+--------+-----------+----------+-------------+\n",
      "\n"
     ]
    }
   ],
   "source": [
    "create_version1()\n",
    "create_version2()\n",
    "create_version3()"
   ]
  },
  {
   "cell_type": "code",
   "execution_count": 10,
   "id": "7571a04f",
   "metadata": {},
   "outputs": [],
   "source": [
    "df = spark.read.parquet(\"data/programming\")"
   ]
  },
  {
   "cell_type": "code",
   "execution_count": 11,
   "id": "81474c56",
   "metadata": {},
   "outputs": [
    {
     "name": "stdout",
     "output_type": "stream",
     "text": [
      "+----+--------+--------+-----------+---+\n",
      "|Year|DataType|language|users_count|key|\n",
      "+----+--------+--------+-----------+---+\n",
      "|2001| RESTATE|  Python|     101000|  3|\n",
      "|2003|     BAU|  Python|     300000|  3|\n",
      "|2003| RESTATE|    Rust|       2500|  3|\n",
      "|2003|     BAU|   Scala|       2000|  3|\n",
      "|2002|     BAU|  Python|     200000|  2|\n",
      "|2002|     BAU|   Scala|       2000|  2|\n",
      "|2002|     BAU|    Rust|       2500|  2|\n",
      "|2001|     BAU|  Python|     100000|  1|\n",
      "|2001|     BAU|    Java|      20000|  1|\n",
      "|2001|     BAU|   Scala|       3000|  1|\n",
      "+----+--------+--------+-----------+---+\n",
      "\n"
     ]
    }
   ],
   "source": [
    "df.show()"
   ]
  },
  {
   "cell_type": "code",
   "execution_count": 12,
   "id": "cb7869b6",
   "metadata": {},
   "outputs": [
    {
     "name": "stdout",
     "output_type": "stream",
     "text": [
      "+----+--------+--------+-----------+\n",
      "|Year|DataType|language|users_count|\n",
      "+----+--------+--------+-----------+\n",
      "|2001|     BAU|  Python|     100000|\n",
      "|2001|     BAU|    Java|      20000|\n",
      "|2001|     BAU|   Scala|       3000|\n",
      "+----+--------+--------+-----------+\n",
      "\n"
     ]
    }
   ],
   "source": [
    "df_merged1 = spark.read.parquet(\"data/programming/key=1\")\n",
    "df_merged1.show()"
   ]
  },
  {
   "cell_type": "code",
   "execution_count": 13,
   "id": "09622d0a",
   "metadata": {},
   "outputs": [],
   "source": [
    "df_merged2 = spark.read.parquet(\"data/programming/key=2\")"
   ]
  },
  {
   "cell_type": "code",
   "execution_count": 14,
   "id": "05b109ea",
   "metadata": {},
   "outputs": [
    {
     "name": "stdout",
     "output_type": "stream",
     "text": [
      "+----+--------+--------+-----------+----------+\n",
      "|Year|DataType|language|users_count|avg_rating|\n",
      "+----+--------+--------+-----------+----------+\n",
      "|2002|     BAU|  Python|     200000|         2|\n",
      "|2002|     BAU|   Scala|       2000|         1|\n",
      "|2002|     BAU|    Rust|       2500|         4|\n",
      "+----+--------+--------+-----------+----------+\n",
      "\n"
     ]
    }
   ],
   "source": [
    "df_merged2.show()"
   ]
  },
  {
   "cell_type": "code",
   "execution_count": 15,
   "id": "11e1aac8",
   "metadata": {},
   "outputs": [],
   "source": [
    "df_merged3 = spark.read.parquet(\"data/programming/key=3\")"
   ]
  },
  {
   "cell_type": "code",
   "execution_count": 16,
   "id": "dd80bc90",
   "metadata": {},
   "outputs": [
    {
     "name": "stdout",
     "output_type": "stream",
     "text": [
      "+----+--------+--------+-----------+----------+-------------+\n",
      "|Year|DataType|language|users_count|avg_rating|total_queries|\n",
      "+----+--------+--------+-----------+----------+-------------+\n",
      "|2001| RESTATE|  Python|     101000|         2|        30030|\n",
      "|2003|     BAU|  Python|     300000|         2|        30030|\n",
      "|2003| RESTATE|    Rust|       2500|         4|         3023|\n",
      "|2003|     BAU|   Scala|       2000|         1|         1000|\n",
      "+----+--------+--------+-----------+----------+-------------+\n",
      "\n"
     ]
    }
   ],
   "source": [
    "df_merged3.show()"
   ]
  },
  {
   "cell_type": "code",
   "execution_count": 17,
   "id": "12cb7146",
   "metadata": {},
   "outputs": [],
   "source": [
    "df_merged_all = spark.read.option(\"mergeSchema\", \"true\").parquet(\"data/programming\")"
   ]
  },
  {
   "cell_type": "code",
   "execution_count": 18,
   "id": "5e4e663d",
   "metadata": {},
   "outputs": [
    {
     "name": "stdout",
     "output_type": "stream",
     "text": [
      "+----+--------+--------+-----------+----------+-------------+---+\n",
      "|Year|DataType|language|users_count|avg_rating|total_queries|key|\n",
      "+----+--------+--------+-----------+----------+-------------+---+\n",
      "|2001| RESTATE|  Python|     101000|         2|        30030|  3|\n",
      "|2003|     BAU|  Python|     300000|         2|        30030|  3|\n",
      "|2003| RESTATE|    Rust|       2500|         4|         3023|  3|\n",
      "|2003|     BAU|   Scala|       2000|         1|         1000|  3|\n",
      "|2002|     BAU|  Python|     200000|         2|         null|  2|\n",
      "|2002|     BAU|   Scala|       2000|         1|         null|  2|\n",
      "|2002|     BAU|    Rust|       2500|         4|         null|  2|\n",
      "|2001|     BAU|  Python|     100000|      null|         null|  1|\n",
      "|2001|     BAU|    Java|      20000|      null|         null|  1|\n",
      "|2001|     BAU|   Scala|       3000|      null|         null|  1|\n",
      "+----+--------+--------+-----------+----------+-------------+---+\n",
      "\n"
     ]
    }
   ],
   "source": [
    "df_merged_all.show()"
   ]
  },
  {
   "cell_type": "code",
   "execution_count": null,
   "id": "8f84d7fc",
   "metadata": {},
   "outputs": [],
   "source": []
  },
  {
   "cell_type": "code",
   "execution_count": null,
   "id": "bfe4fa8f",
   "metadata": {},
   "outputs": [],
   "source": []
  },
  {
   "cell_type": "code",
   "execution_count": null,
   "id": "66395ae2",
   "metadata": {},
   "outputs": [],
   "source": []
  },
  {
   "cell_type": "code",
   "execution_count": null,
   "id": "cd7e5cde",
   "metadata": {},
   "outputs": [],
   "source": []
  },
  {
   "cell_type": "code",
   "execution_count": null,
   "id": "39bbf695",
   "metadata": {},
   "outputs": [],
   "source": [
    " "
   ]
  },
  {
   "cell_type": "code",
   "execution_count": null,
   "id": "0aa42073",
   "metadata": {},
   "outputs": [],
   "source": []
  },
  {
   "cell_type": "code",
   "execution_count": null,
   "id": "1db5ff17",
   "metadata": {},
   "outputs": [],
   "source": []
  }
 ],
 "metadata": {
  "kernelspec": {
   "display_name": "Python 3 (ipykernel)",
   "language": "python",
   "name": "python3"
  },
  "language_info": {
   "codemirror_mode": {
    "name": "ipython",
    "version": 3
   },
   "file_extension": ".py",
   "mimetype": "text/x-python",
   "name": "python",
   "nbconvert_exporter": "python",
   "pygments_lexer": "ipython3",
   "version": "3.10.9"
  }
 },
 "nbformat": 4,
 "nbformat_minor": 5
}
