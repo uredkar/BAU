{
 "cells": [
  {
   "cell_type": "code",
   "execution_count": 10,
   "id": "060f7301",
   "metadata": {},
   "outputs": [
    {
     "name": "stdout",
     "output_type": "stream",
     "text": [
      "[task1, task2, task3]\n",
      "[task1, task2, task3]\n",
      "Child node task1 not found in children list.\n",
      "Child node task1 not found in children list.\n",
      "[task2, task3]\n"
     ]
    }
   ],
   "source": [
    "class DAGNode:\n",
    "    def __init__(self, task_id):\n",
    "        self.task_id = task_id\n",
    "        self.children = []\n",
    "\n",
    "    def add_child(self, child_node):\n",
    "        self.children.append(child_node)\n",
    "\n",
    "    def remove_child(self, child_node):\n",
    "        if child_node in self.children:\n",
    "            self.children.remove(child_node)\n",
    "        else:\n",
    "            print(f\"Child node {child_node} not found in children list.\")\n",
    "\n",
    "    def __repr__(self):\n",
    "        return self.task_id\n",
    "\n",
    "\n",
    "class DAG:\n",
    "    def __init__(self):\n",
    "        self.nodes = {}\n",
    "\n",
    "    def add_node(self, task_id, dependencies=None):\n",
    "        new_node = DAGNode(task_id)\n",
    "        self.nodes[task_id] = new_node\n",
    "\n",
    "        if dependencies:\n",
    "            for dependency in dependencies:\n",
    "                if dependency in self.nodes:\n",
    "                    self.nodes[dependency].add_child(new_node)\n",
    "\n",
    "    \n",
    "    def remove_node(self, task_id):\n",
    "        if task_id in self.nodes:\n",
    "            node = self.nodes.pop(task_id)\n",
    "            for parent in self.nodes.values():\n",
    "                parent.remove_child(node)\n",
    "    def modify_node(self, task_id, new_dependencies=None):\n",
    "        if task_id in self.nodes:\n",
    "            node = self.nodes[task_id]\n",
    "\n",
    "            # Remove existing dependencies\n",
    "            for child in node.children:\n",
    "                child.remove_child(node)\n",
    "\n",
    "            # Add new dependencies\n",
    "            if new_dependencies:\n",
    "                for dependency in new_dependencies:\n",
    "                    if dependency in self.nodes:\n",
    "                        self.nodes[dependency].add_child(node)\n",
    "\n",
    "    def get_all_nodes(self):\n",
    "        return list(self.nodes.values())\n",
    "\n",
    "\n",
    "# Create a DAG and add nodes\n",
    "dag = DAG()\n",
    "dag.add_node('task1')\n",
    "dag.add_node('task2', dependencies=['task1'])\n",
    "dag.add_node('task3', dependencies=['task1'])\n",
    "\n",
    "# Print all nodes\n",
    "print(dag.get_all_nodes())\n",
    "\n",
    "# Modify a node\n",
    "dag.modify_node('task2', new_dependencies=['task3'])\n",
    "\n",
    "# Print all nodes after modification\n",
    "print(dag.get_all_nodes())\n",
    "\n",
    "# Remove a node\n",
    "dag.remove_node('task1')\n",
    "\n",
    "# Print all nodes after removal\n",
    "print(dag.get_all_nodes())\n"
   ]
  },
  {
   "cell_type": "code",
   "execution_count": 1,
   "id": "cdadceb4",
   "metadata": {},
   "outputs": [
    {
     "name": "stdout",
     "output_type": "stream",
     "text": [
      "Commition Transformation 120\n"
     ]
    }
   ],
   "source": [
    "def commision_tranformation(i):\n",
    "    print(f\"Commition Transformation {i}\")\n",
    "    \n",
    "def hello():\n",
    "    print(\"Hello, World!\")\n",
    "\n",
    "def goodbye():\n",
    "    print(\"Goodbye, World!\")\n",
    "\n",
    "# Function name as a string\n",
    "function_name = \"hello\"\n",
    "\n",
    "# Convert string to function name\n",
    "function = globals()[\"commision_tranformation\"]\n",
    "\n",
    "# Call the function\n",
    "function(120)"
   ]
  },
  {
   "cell_type": "code",
   "execution_count": 3,
   "id": "ec17763d",
   "metadata": {},
   "outputs": [],
   "source": [
    "import json\n",
    "import graphviz\n",
    "etl = {\n",
    "    \"steps\" : [\n",
    "        {\"Name\": \"Employee\",\n",
    "         \"partition\": [ \"BUID\",\"DepartmentID\"],\n",
    "         \"steps\": [ \n",
    "             {\"exec\": \"load\", \"exec\":\"save\" }\n",
    "         ]\n",
    "        },\n",
    "        {\"Name\": \"Department\"},\n",
    "        {\"Name\": \"Sales\",\"partition\": \"SalesMMYY\"},\n",
    "        {\"Name\": \"Commisions\",\"partition\": \"GeoID\", \n",
    "         \"transformation\": \"commision_tranformation\",\n",
    "         \"on\": [\"Department\",\"Sales\"]\n",
    "        },\n",
    "        \n",
    "        \n",
    "    ]\n",
    "}\n",
    "dot = graphviz.Digraph('round-table', comment='The Round Table')  "
   ]
  },
  {
   "cell_type": "code",
   "execution_count": 4,
   "id": "00bf41cf",
   "metadata": {},
   "outputs": [],
   "source": [
    "dot.node('A', 'King Arthur')  # doctest: +NO_EXE\n",
    "dot.node('B', 'Sir Bedevere the Wise')\n",
    "dot.node('L', 'Sir Lancelot the Brave')\n",
    "\n",
    "dot.edges(['AB', 'AL'])\n",
    "dot.edge('B', 'L', constraint='false')"
   ]
  },
  {
   "cell_type": "code",
   "execution_count": 5,
   "id": "05917c08",
   "metadata": {},
   "outputs": [
    {
     "data": {
      "image/svg+xml": [
       "<?xml version=\"1.0\" encoding=\"UTF-8\" standalone=\"no\"?>\n",
       "<!DOCTYPE svg PUBLIC \"-//W3C//DTD SVG 1.1//EN\"\n",
       " \"http://www.w3.org/Graphics/SVG/1.1/DTD/svg11.dtd\">\n",
       "<!-- Generated by graphviz version 2.50.0 (0)\n",
       " -->\n",
       "<!-- Title: round&#45;table Pages: 1 -->\n",
       "<svg width=\"388pt\" height=\"116pt\"\n",
       " viewBox=\"0.00 0.00 387.68 116.00\" xmlns=\"http://www.w3.org/2000/svg\" xmlns:xlink=\"http://www.w3.org/1999/xlink\">\n",
       "<g id=\"graph0\" class=\"graph\" transform=\"scale(1 1) rotate(0) translate(4 112)\">\n",
       "<title>round&#45;table</title>\n",
       "<polygon fill=\"white\" stroke=\"transparent\" points=\"-4,4 -4,-112 383.68,-112 383.68,4 -4,4\"/>\n",
       "<!-- A -->\n",
       "<g id=\"node1\" class=\"node\">\n",
       "<title>A</title>\n",
       "<ellipse fill=\"none\" stroke=\"black\" cx=\"188.69\" cy=\"-90\" rx=\"53.89\" ry=\"18\"/>\n",
       "<text text-anchor=\"middle\" x=\"188.69\" y=\"-86.3\" font-family=\"Times New Roman,serif\" font-size=\"14.00\">King Arthur</text>\n",
       "</g>\n",
       "<!-- B -->\n",
       "<g id=\"node2\" class=\"node\">\n",
       "<title>B</title>\n",
       "<ellipse fill=\"none\" stroke=\"black\" cx=\"89.69\" cy=\"-18\" rx=\"89.88\" ry=\"18\"/>\n",
       "<text text-anchor=\"middle\" x=\"89.69\" y=\"-14.3\" font-family=\"Times New Roman,serif\" font-size=\"14.00\">Sir Bedevere the Wise</text>\n",
       "</g>\n",
       "<!-- A&#45;&gt;B -->\n",
       "<g id=\"edge1\" class=\"edge\">\n",
       "<title>A&#45;&gt;B</title>\n",
       "<path fill=\"none\" stroke=\"black\" d=\"M166.72,-73.46C153.39,-64.04 136.15,-51.85 121.36,-41.39\"/>\n",
       "<polygon fill=\"black\" stroke=\"black\" points=\"123.17,-38.38 112.98,-35.47 119.13,-44.1 123.17,-38.38\"/>\n",
       "</g>\n",
       "<!-- L -->\n",
       "<g id=\"node3\" class=\"node\">\n",
       "<title>L</title>\n",
       "<ellipse fill=\"none\" stroke=\"black\" cx=\"288.69\" cy=\"-18\" rx=\"90.98\" ry=\"18\"/>\n",
       "<text text-anchor=\"middle\" x=\"288.69\" y=\"-14.3\" font-family=\"Times New Roman,serif\" font-size=\"14.00\">Sir Lancelot the Brave</text>\n",
       "</g>\n",
       "<!-- A&#45;&gt;L -->\n",
       "<g id=\"edge2\" class=\"edge\">\n",
       "<title>A&#45;&gt;L</title>\n",
       "<path fill=\"none\" stroke=\"black\" d=\"M210.89,-73.46C224.35,-64.04 241.77,-51.85 256.71,-41.39\"/>\n",
       "<polygon fill=\"black\" stroke=\"black\" points=\"258.98,-44.07 265.17,-35.47 254.97,-38.33 258.98,-44.07\"/>\n",
       "</g>\n",
       "<!-- B&#45;&gt;L -->\n",
       "<g id=\"edge3\" class=\"edge\">\n",
       "<title>B&#45;&gt;L</title>\n",
       "<path fill=\"none\" stroke=\"black\" d=\"M179.48,-18C182.09,-18 184.7,-18 187.31,-18\"/>\n",
       "<polygon fill=\"black\" stroke=\"black\" points=\"187.39,-21.5 197.39,-18 187.39,-14.5 187.39,-21.5\"/>\n",
       "</g>\n",
       "</g>\n",
       "</svg>\n"
      ],
      "text/plain": [
       "<graphviz.graphs.Digraph at 0x250a4f797b0>"
      ]
     },
     "execution_count": 5,
     "metadata": {},
     "output_type": "execute_result"
    }
   ],
   "source": [
    "dot"
   ]
  },
  {
   "cell_type": "code",
   "execution_count": null,
   "id": "59e9ca61",
   "metadata": {},
   "outputs": [],
   "source": [
    "x = json.dumps(file)"
   ]
  },
  {
   "cell_type": "code",
   "execution_count": null,
   "id": "c58b4698",
   "metadata": {},
   "outputs": [],
   "source": [
    "y = json.loads(x)"
   ]
  },
  {
   "cell_type": "code",
   "execution_count": null,
   "id": "4a798e50",
   "metadata": {},
   "outputs": [],
   "source": [
    "type(y)"
   ]
  },
  {
   "cell_type": "code",
   "execution_count": null,
   "id": "303d1652",
   "metadata": {},
   "outputs": [],
   "source": []
  }
 ],
 "metadata": {
  "kernelspec": {
   "display_name": "Python 3 (ipykernel)",
   "language": "python",
   "name": "python3"
  },
  "language_info": {
   "codemirror_mode": {
    "name": "ipython",
    "version": 3
   },
   "file_extension": ".py",
   "mimetype": "text/x-python",
   "name": "python",
   "nbconvert_exporter": "python",
   "pygments_lexer": "ipython3",
   "version": "3.10.9"
  }
 },
 "nbformat": 4,
 "nbformat_minor": 5
}
